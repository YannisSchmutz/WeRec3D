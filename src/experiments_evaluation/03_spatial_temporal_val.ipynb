{
 "cells": [
  {
   "cell_type": "markdown",
   "source": [
    "# Spatial Temporal Validation"
   ],
   "metadata": {
    "collapsed": false
   },
   "id": "db79081ca0faf466"
  },
  {
   "cell_type": "code",
   "execution_count": null,
   "outputs": [],
   "source": [
    "import numpy as np"
   ],
   "metadata": {
    "collapsed": false
   },
   "id": "942eef96205033d5"
  },
  {
   "cell_type": "code",
   "execution_count": null,
   "outputs": [],
   "source": [
    "import os\n",
    "from pathlib import Path\n",
    "SCRIPT_DIR = os.path.dirname(os.path.abspath(\"__init__.py\"))\n",
    "SRC_DIR = Path(SCRIPT_DIR).parent.absolute()\n",
    "print(SRC_DIR)"
   ],
   "metadata": {
    "collapsed": false
   },
   "id": "960379e8769b6030"
  },
  {
   "cell_type": "code",
   "execution_count": null,
   "outputs": [],
   "source": [
    "from plotting import visualize_quantitative_temporal, visualize_quantitative_spatial\n",
    "from validation_helpers import scale_t2m_back, scale_slp_back"
   ],
   "metadata": {
    "collapsed": false
   },
   "id": "1912637d088f4d6f"
  },
  {
   "cell_type": "code",
   "execution_count": null,
   "outputs": [],
   "source": [
    "METHODS = ['ex1_baseline',\n",
    "           'ex2_seasonal_component',\n",
    "           'ex3_incremental_pretraining',\n",
    "           'ex3.1_moving_window',\n",
    "           'ex3.2_cm_inclusion',\n",
    "           'ex3.3_elevation',\n",
    "           'ex3.4_pi_init',\n",
    "           'ex4.1_elev_mov_win',\n",
    "           'ex4.2_elev_cmi',\n",
    "           'ex4.3_elev_pi_init',\n",
    "           'ex5.1_elev_mov_cmi',\n",
    "           'ex5.2_elev_mov_pi',\n",
    "           'ex6.1_elev_mov_cmi_pi']\n",
    "\n",
    "FIGURE_PATH = str(SRC_DIR) + \"/experiments_evaluation/figures/spatio_temporal_errors/\""
   ],
   "metadata": {
    "collapsed": false
   },
   "id": "4868958535a26ecf"
  },
  {
   "cell_type": "code",
   "execution_count": null,
   "outputs": [],
   "source": [
    "for ex_name in METHODS:\n",
    "    print(f\"\\n\\n\\n=== {ex_name} ===\")\n",
    "    \n",
    "    errors_path = f\"./{ex_name}/errors/\"\n",
    "    \n",
    "    # SPATIAL\n",
    "    spat_total_err = np.load(errors_path + \"spat_total_err_99p.npy\")\n",
    "    spat_t2m_err = np.load(errors_path + \"spat_t2m_err_99p.npy\")\n",
    "    spat_slp_err = np.load(errors_path + \"spat_slp_err_99p.npy\")\n",
    "    \n",
    "    print(f\"Total error: {np.mean(spat_total_err)}\")\n",
    "    print(f\"Average t2m error: {np.mean(scale_t2m_back(spat_t2m_err, for_error=True))}\")\n",
    "    print(f\"Average slp error: {np.mean(scale_slp_back(spat_slp_err, for_error=True))}\")\n",
    "    \n",
    "    visualize_quantitative_spatial(spat_total_err,\n",
    "                                   spat_t2m_err,\n",
    "                                   spat_slp_err,\n",
    "                                   scale_back=True,\n",
    "                                   save_file_name=FIGURE_PATH + f\"spatial_{ex_name}.png\")\n",
    "    \n",
    "    # TEMPORAL\n",
    "    temp_total_err = np.load(errors_path + \"temp_total_err_99p.npy\")\n",
    "    temp_t2m_err = np.load(errors_path + \"temp_t2m_err_99p.npy\")\n",
    "    temp_slp_err = np.load(errors_path + \"temp_slp_err_99p.npy\")\n",
    "    \n",
    "    visualize_quantitative_temporal(temp_total_err,\n",
    "                                    temp_t2m_err,\n",
    "                                    temp_slp_err,\n",
    "                                    scale_back=True,\n",
    "                                    save_file_name=FIGURE_PATH + f\"temporal_{ex_name}.png\")\n",
    "    "
   ],
   "metadata": {
    "collapsed": false
   },
   "id": "838a615547c6e40b"
  },
  {
   "cell_type": "code",
   "execution_count": null,
   "outputs": [],
   "source": [],
   "metadata": {
    "collapsed": false
   },
   "id": "d0fdc82aa5efad0b"
  }
 ],
 "metadata": {
  "kernelspec": {
   "display_name": "Python 3",
   "language": "python",
   "name": "python3"
  },
  "language_info": {
   "codemirror_mode": {
    "name": "ipython",
    "version": 2
   },
   "file_extension": ".py",
   "mimetype": "text/x-python",
   "name": "python",
   "nbconvert_exporter": "python",
   "pygments_lexer": "ipython2",
   "version": "2.7.6"
  }
 },
 "nbformat": 4,
 "nbformat_minor": 5
}

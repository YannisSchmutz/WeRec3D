{
 "cells": [
  {
   "cell_type": "markdown",
   "source": [
    "# Compare Experiments"
   ],
   "metadata": {
    "collapsed": false
   },
   "id": "29d321f33d95856f"
  },
  {
   "cell_type": "code",
   "execution_count": null,
   "outputs": [],
   "source": [
    "import numpy as np\n",
    "import matplotlib.pyplot as plt\n",
    "import pandas as pd\n",
    "\n",
    "# from validation_helpers import  scale_t2m_back, scale_slp_back\n",
    "from experiment_data_puller import get_experiment_metrics"
   ],
   "metadata": {
    "collapsed": false
   },
   "id": "d7be2f5409e6ec29"
  },
  {
   "cell_type": "markdown",
   "source": [
    "## MCAR"
   ],
   "metadata": {
    "collapsed": false
   },
   "id": "236d1b7e215ee0ca"
  },
  {
   "cell_type": "code",
   "execution_count": null,
   "outputs": [],
   "source": [
    "EXPERIMENTS = [('ex1_baseline', 'baseline_99p'),\n",
    "               ('ex2_seasonal_component', 'seasonal_component_99p'),\n",
    "               ('ex3_inc_pretrain', 'inc_pretrain_99p'),\n",
    "               ('ex3.1_moving_window', 'moving_window_99p'),\n",
    "               ('ex3.2_cm_inclusion', 'cm_inclusion_99p'),\n",
    "               ('ex3.3_elevation', 'elevation_99p'),\n",
    "               ('ex3.4_pi_init', 'pi_init_99p'),\n",
    "               ('ex4.1_elev_mov_win', 'elev_mov_win_99p'),\n",
    "               ('ex4.2_elev_cmi', 'elev_cmi_99p'),\n",
    "               ('ex4.3_elev_pi_init', 'elev_pi_init_99p'),\n",
    "               ('ex5.1_elev_mov_cmi', 'elev_mov_cmi_99p'),\n",
    "               ('ex5.2_elev_mov_pi', 'elev_mov_pi_99p'),\n",
    "               ('ex6.1_elev_mov_cmi_pi', 'elev_mov_cmi_pi_99p'),\n",
    "               ]\n"
   ],
   "metadata": {
    "collapsed": false
   },
   "id": "2506ae246d615608"
  },
  {
   "cell_type": "code",
   "execution_count": null,
   "outputs": [],
   "source": [
    "df_data = []\n",
    "\n",
    "for exp, run_name in EXPERIMENTS:\n",
    "    metrics = get_experiment_metrics(exp)\n",
    "    \n",
    "    best_val_mae = min(metrics[run_name]['val_mae'])\n",
    "    print(exp, best_val_mae)\n",
    "    \n",
    "    df_data.append([exp, best_val_mae])\n",
    "    #df = df.append({'experiment': exp, 'best_val_mae': best_val_mae}, ignore_index=True)\n",
    "\n",
    "df = pd.DataFrame({'experiment': list(map(lambda x: x[0], df_data)), \n",
    "                   'best_val_mae': list(map(lambda x: x[1], df_data))\n",
    "})\n"
   ],
   "metadata": {
    "collapsed": false
   },
   "id": "4c87d56a227065b8"
  },
  {
   "cell_type": "code",
   "execution_count": null,
   "outputs": [],
   "source": [
    "df.round(4)"
   ],
   "metadata": {
    "collapsed": false
   },
   "id": "d3cda2e4f46f34ec"
  },
  {
   "cell_type": "markdown",
   "source": [
    "## MNAR"
   ],
   "metadata": {
    "collapsed": false
   },
   "id": "4320a76f7bf570da"
  },
  {
   "cell_type": "code",
   "execution_count": null,
   "outputs": [],
   "source": [
    "MNAR_EXPERIMENTS = [\n",
    "    ('ex7.1_emc_fine_tune', 'emc_fine_tune_99p'),\n",
    "    ('ex7.2_emc_mnar_training', 'emc_mnar_training_99p'),\n",
    "]"
   ],
   "metadata": {
    "collapsed": false
   },
   "id": "21de539cc43fd7d3"
  },
  {
   "cell_type": "code",
   "execution_count": null,
   "outputs": [],
   "source": [
    "mnar_df_data = []\n",
    "\n",
    "for exp, run_name in MNAR_EXPERIMENTS:\n",
    "    metrics = get_experiment_metrics(exp)\n",
    "    \n",
    "    best_val_mae = min(metrics[run_name]['val_mae'])\n",
    "    print(exp, best_val_mae)\n",
    "    \n",
    "    mnar_df_data.append([exp, best_val_mae])\n",
    "    #df = df.append({'experiment': exp, 'best_val_mae': best_val_mae}, ignore_index=True)\n",
    "\n",
    "mnar_df = pd.DataFrame({'experiment': list(map(lambda x: x[0], mnar_df_data)), \n",
    "                       'best_val_mae': list(map(lambda x: x[1], mnar_df_data))\n",
    "})"
   ],
   "metadata": {
    "collapsed": false
   },
   "id": "e3fc6f9827d1b6b2"
  },
  {
   "cell_type": "code",
   "execution_count": null,
   "outputs": [],
   "source": [
    "mnar_df"
   ],
   "metadata": {
    "collapsed": false
   },
   "id": "e006a2b4496e4dbe"
  },
  {
   "cell_type": "code",
   "execution_count": null,
   "outputs": [],
   "source": [],
   "metadata": {
    "collapsed": false
   },
   "id": "9d71d8ff0992907d"
  }
 ],
 "metadata": {
  "kernelspec": {
   "display_name": "Python 3",
   "language": "python",
   "name": "python3"
  },
  "language_info": {
   "codemirror_mode": {
    "name": "ipython",
    "version": 2
   },
   "file_extension": ".py",
   "mimetype": "text/x-python",
   "name": "python",
   "nbconvert_exporter": "python",
   "pygments_lexer": "ipython2",
   "version": "2.7.6"
  }
 },
 "nbformat": 4,
 "nbformat_minor": 5
}

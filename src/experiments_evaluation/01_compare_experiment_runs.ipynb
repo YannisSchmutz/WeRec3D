{
 "cells": [
  {
   "cell_type": "markdown",
   "source": [
    "# Compare Experiments"
   ],
   "metadata": {
    "collapsed": false
   },
   "id": "29d321f33d95856f"
  },
  {
   "cell_type": "code",
   "execution_count": 5,
   "outputs": [],
   "source": [
    "import numpy as np\n",
    "import matplotlib.pyplot as plt\n",
    "import pandas as pd\n",
    "\n",
    "# from validation_helpers import  scale_t2m_back, scale_slp_back\n",
    "from experiment_data_puller import get_experiment_metrics"
   ],
   "metadata": {
    "collapsed": false,
    "ExecuteTime": {
     "end_time": "2024-02-19T09:56:55.648391Z",
     "start_time": "2024-02-19T09:56:55.643494Z"
    }
   },
   "id": "d7be2f5409e6ec29"
  },
  {
   "cell_type": "markdown",
   "source": [
    "## MCAR"
   ],
   "metadata": {
    "collapsed": false
   },
   "id": "236d1b7e215ee0ca"
  },
  {
   "cell_type": "code",
   "execution_count": 2,
   "outputs": [],
   "source": [
    "EXPERIMENTS = [('ex1_baseline', 'baseline_99p'),\n",
    "               ('ex2_seasonal_component', 'seasonal_component_99p'),\n",
    "               ('ex3_inc_pretrain', 'inc_pretrain_99p'),\n",
    "               ('ex3.1_moving_window', 'moving_window_99p'),\n",
    "               ('ex3.2_cm_inclusion', 'cm_inclusion_99p'),\n",
    "               ('ex3.3_elevation', 'elevation_99p'),\n",
    "               ('ex3.4_pi_init', 'pi_init_99p'),\n",
    "               ('ex4.1_elev_mov_win', 'elev_mov_win_99p'),\n",
    "               ('ex4.2_elev_cmi', 'elev_cmi_99p'),\n",
    "               ('ex4.3_elev_pi_init', 'elev_pi_init_99p'),\n",
    "               ('ex5.1_elev_mov_cmi', 'elev_mov_cmi_99p'),\n",
    "               ('ex5.2_elev_mov_pi', 'elev_mov_pi_99p'),\n",
    "               ('ex6.1_elev_mov_cmi_pi', 'elev_mov_cmi_pi_99p'),\n",
    "               ]\n"
   ],
   "metadata": {
    "collapsed": false,
    "ExecuteTime": {
     "end_time": "2024-02-19T09:56:35.466482Z",
     "start_time": "2024-02-19T09:56:35.461907Z"
    }
   },
   "id": "2506ae246d615608"
  },
  {
   "cell_type": "code",
   "execution_count": 3,
   "outputs": [
    {
     "name": "stdout",
     "output_type": "stream",
     "text": [
      "Experiment 'ex1_baseline' found!\n",
      "Run name: baseline_80p\n",
      "Run name: baseline_60p\n",
      "Run name: baseline_99p\n",
      "Run name: baseline_50p\n",
      "Run name: baseline_70p\n",
      "Run name: baseline_40p\n",
      "Run name: baseline_20p\n",
      "Run name: baseline_90p\n",
      "Run name: baseline_30p\n",
      "Run name: baseline_10p\n",
      "ex1_baseline 0.23026633262634277\n",
      "Experiment 'ex2_seasonal_component' found!\n",
      "Run name: seasonal_component_10p\n",
      "Run name: seasonal_component_70p\n",
      "Run name: seasonal_component_50p\n",
      "Run name: seasonal_component_99p\n",
      "Run name: seasonal_component_80p\n",
      "Run name: seasonal_component_30p\n",
      "Run name: seasonal_component_40p\n",
      "Run name: seasonal_component_60p\n",
      "Run name: seasonal_component_20p\n",
      "Run name: seasonal_component_90p\n",
      "ex2_seasonal_component 0.1795659214258194\n",
      "Experiment 'ex3_inc_pretrain' found!\n",
      "Run name: inc_pretrain_90p\n",
      "Run name: inc_pretrain_70p\n",
      "Run name: inc_pretrain_50p\n",
      "Run name: inc_pretrain_10p\n",
      "Run name: inc_pretrain_80p\n",
      "Run name: inc_pretrain_20p\n",
      "Run name: inc_pretrain_99p\n",
      "Run name: inc_pretrain_60p\n",
      "Run name: inc_pretrain_40p\n",
      "Run name: inc_pretrain_30p\n",
      "ex3_inc_pretrain 0.12209897488355637\n",
      "Experiment 'ex3.1_moving_window' found!\n",
      "Run name: moving_window_99p\n",
      "Run name: moving_window_70p\n",
      "Run name: moving_window_30p\n",
      "Run name: moving_window_80p\n",
      "Run name: moving_window_60p\n",
      "Run name: moving_window_90p\n",
      "Run name: moving_window_40p\n",
      "Run name: moving_window_10p\n",
      "Run name: moving_window_50p\n",
      "Run name: moving_window_20p\n",
      "ex3.1_moving_window 0.13990148901939392\n",
      "Experiment 'ex3.2_cm_inclusion' found!\n",
      "Run name: cm_inclusion_10p\n",
      "Run name: cm_inclusion_90p\n",
      "Run name: cm_inclusion_70p\n",
      "Run name: cm_inclusion_20p\n",
      "Run name: cm_inclusion_60p\n",
      "Run name: cm_inclusion_30p\n",
      "Run name: cm_inclusion_80p\n",
      "Run name: cm_inclusion_40p\n",
      "Run name: cm_inclusion_99p\n",
      "Run name: cm_inclusion_50p\n",
      "ex3.2_cm_inclusion 0.12439891695976257\n",
      "Experiment 'ex3.3_elevation' found!\n",
      "Run name: elevation_40p\n",
      "Run name: elevation_30p\n",
      "Run name: elevation_20p\n",
      "Run name: elevation_70p\n",
      "Run name: elevation_80p\n",
      "Run name: elevation_50p\n",
      "Run name: elevation_10p\n",
      "Run name: elevation_99p\n",
      "Run name: elevation_60p\n",
      "Run name: elevation_90p\n",
      "ex3.3_elevation 0.12178558111190796\n",
      "Experiment 'ex3.4_pi_init' found!\n",
      "Run name: pi_init_90p\n",
      "Run name: pi_init_50p\n",
      "Run name: pi_init_30p\n",
      "Run name: pi_init_10p\n",
      "Run name: pi_init_20p\n",
      "Run name: pi_init_99p\n",
      "Run name: pi_init_60p\n",
      "Run name: pi_init_40p\n",
      "Run name: pi_init_80p\n",
      "Run name: pi_init_70p\n",
      "ex3.4_pi_init 0.12249442934989929\n",
      "Experiment 'ex4.1_elev_mov_win' found!\n",
      "Run name: elev_mov_win_70p\n",
      "Run name: elev_mov_win_10p\n",
      "Run name: elev_mov_win_40p\n",
      "Run name: elev_mov_win_30p\n",
      "Run name: elev_mov_win_90p\n",
      "Run name: elev_mov_win_50p\n",
      "Run name: elev_mov_win_99p\n",
      "Run name: elev_mov_win_60p\n",
      "Run name: elev_mov_win_20p\n",
      "Run name: elev_mov_win_80p\n",
      "ex4.1_elev_mov_win 0.11508853733539581\n",
      "Experiment 'ex4.2_elev_cmi' found!\n",
      "Run name: elev_cmi_40p\n",
      "Run name: elev_cmi_10p\n",
      "Run name: elev_cmi_30p\n",
      "Run name: elev_cmi_90p\n",
      "Run name: elev_cmi_50p\n",
      "Run name: elev_cmi_70p\n",
      "Run name: elev_cmi_99p\n",
      "Run name: elev_cmi_60p\n",
      "Run name: elev_cmi_20p\n",
      "Run name: elev_cmi_80p\n",
      "ex4.2_elev_cmi 0.1228923350572586\n",
      "Experiment 'ex4.3_elev_pi_init' found!\n",
      "Run name: elev_pi_init_60p\n",
      "Run name: elev_pi_init_30p\n",
      "Run name: elev_pi_init_80p\n",
      "Run name: elev_pi_init_90p\n",
      "Run name: elev_pi_init_99p\n",
      "Run name: elev_pi_init_20p\n",
      "Run name: elev_pi_init_70p\n",
      "Run name: elev_pi_init_50p\n",
      "Run name: elev_pi_init_10p\n",
      "Run name: elev_pi_init_40p\n",
      "ex4.3_elev_pi_init 0.12360069900751114\n",
      "Experiment 'ex5.1_elev_mov_cmi' found!\n",
      "Run name: elev_mov_cmi_70p\n",
      "Run name: elev_mov_cmi_40p\n",
      "Run name: elev_mov_cmi_90p\n",
      "Run name: elev_mov_cmi_10p\n",
      "Run name: elev_mov_cmi_50p\n",
      "Run name: elev_mov_cmi_60p\n",
      "Run name: elev_mov_cmi_20p\n",
      "Run name: elev_mov_cmi_80p\n",
      "Run name: elev_mov_cmi_99p\n",
      "Run name: elev_mov_cmi_30p\n",
      "ex5.1_elev_mov_cmi 0.11147962510585785\n",
      "Experiment 'ex5.2_elev_mov_pi' found!\n",
      "Run name: elev_mov_pi_40p\n",
      "Run name: elev_mov_pi_50p\n",
      "Run name: elev_mov_pi_90p\n",
      "Run name: elev_mov_pi_20p\n",
      "Run name: elev_mov_pi_60p\n",
      "Run name: elev_mov_pi_10p\n",
      "Run name: elev_mov_pi_99p\n",
      "Run name: elev_mov_pi_70p\n",
      "Run name: elev_mov_pi_30p\n",
      "Run name: elev_mov_pi_80p\n",
      "ex5.2_elev_mov_pi 0.11698199063539505\n",
      "Experiment 'ex6.1_elev_mov_cmi_pi' found!\n",
      "Run name: elev_mov_cmi_pi_90p\n",
      "Run name: elev_mov_cmi_pi_70p\n",
      "Run name: elev_mov_cmi_pi_99p\n",
      "Run name: elev_mov_cmi_pi_30p\n",
      "Run name: elev_mov_cmi_pi_40p\n",
      "Run name: elev_mov_cmi_pi_20p\n",
      "Run name: elev_mov_cmi_pi_60p\n",
      "Run name: elev_mov_cmi_pi_10p\n",
      "Run name: elev_mov_cmi_pi_80p\n",
      "Run name: elev_mov_cmi_pi_50p\n",
      "ex6.1_elev_mov_cmi_pi 0.11817092448472977\n"
     ]
    }
   ],
   "source": [
    "df_data = []\n",
    "\n",
    "for exp, run_name in EXPERIMENTS:\n",
    "    metrics = get_experiment_metrics(exp)\n",
    "    \n",
    "    best_val_mae = min(metrics[run_name]['val_mae'])\n",
    "    print(exp, best_val_mae)\n",
    "    \n",
    "    df_data.append([exp, best_val_mae])\n",
    "    #df = df.append({'experiment': exp, 'best_val_mae': best_val_mae}, ignore_index=True)\n",
    "\n",
    "df = pd.DataFrame({'experiment': list(map(lambda x: x[0], df_data)), \n",
    "                   'best_val_mae': list(map(lambda x: x[1], df_data))\n",
    "})\n"
   ],
   "metadata": {
    "collapsed": false,
    "ExecuteTime": {
     "end_time": "2024-02-19T09:56:37.102878Z",
     "start_time": "2024-02-19T09:56:36.954626Z"
    }
   },
   "id": "4c87d56a227065b8"
  },
  {
   "cell_type": "code",
   "execution_count": 4,
   "outputs": [
    {
     "data": {
      "text/plain": "                experiment  best_val_mae\n0             ex1_baseline        0.2303\n1   ex2_seasonal_component        0.1796\n2         ex3_inc_pretrain        0.1221\n3      ex3.1_moving_window        0.1399\n4       ex3.2_cm_inclusion        0.1244\n5          ex3.3_elevation        0.1218\n6            ex3.4_pi_init        0.1225\n7       ex4.1_elev_mov_win        0.1151\n8           ex4.2_elev_cmi        0.1229\n9       ex4.3_elev_pi_init        0.1236\n10      ex5.1_elev_mov_cmi        0.1115\n11       ex5.2_elev_mov_pi        0.1170\n12   ex6.1_elev_mov_cmi_pi        0.1182",
      "text/html": "<div>\n<style scoped>\n    .dataframe tbody tr th:only-of-type {\n        vertical-align: middle;\n    }\n\n    .dataframe tbody tr th {\n        vertical-align: top;\n    }\n\n    .dataframe thead th {\n        text-align: right;\n    }\n</style>\n<table border=\"1\" class=\"dataframe\">\n  <thead>\n    <tr style=\"text-align: right;\">\n      <th></th>\n      <th>experiment</th>\n      <th>best_val_mae</th>\n    </tr>\n  </thead>\n  <tbody>\n    <tr>\n      <th>0</th>\n      <td>ex1_baseline</td>\n      <td>0.2303</td>\n    </tr>\n    <tr>\n      <th>1</th>\n      <td>ex2_seasonal_component</td>\n      <td>0.1796</td>\n    </tr>\n    <tr>\n      <th>2</th>\n      <td>ex3_inc_pretrain</td>\n      <td>0.1221</td>\n    </tr>\n    <tr>\n      <th>3</th>\n      <td>ex3.1_moving_window</td>\n      <td>0.1399</td>\n    </tr>\n    <tr>\n      <th>4</th>\n      <td>ex3.2_cm_inclusion</td>\n      <td>0.1244</td>\n    </tr>\n    <tr>\n      <th>5</th>\n      <td>ex3.3_elevation</td>\n      <td>0.1218</td>\n    </tr>\n    <tr>\n      <th>6</th>\n      <td>ex3.4_pi_init</td>\n      <td>0.1225</td>\n    </tr>\n    <tr>\n      <th>7</th>\n      <td>ex4.1_elev_mov_win</td>\n      <td>0.1151</td>\n    </tr>\n    <tr>\n      <th>8</th>\n      <td>ex4.2_elev_cmi</td>\n      <td>0.1229</td>\n    </tr>\n    <tr>\n      <th>9</th>\n      <td>ex4.3_elev_pi_init</td>\n      <td>0.1236</td>\n    </tr>\n    <tr>\n      <th>10</th>\n      <td>ex5.1_elev_mov_cmi</td>\n      <td>0.1115</td>\n    </tr>\n    <tr>\n      <th>11</th>\n      <td>ex5.2_elev_mov_pi</td>\n      <td>0.1170</td>\n    </tr>\n    <tr>\n      <th>12</th>\n      <td>ex6.1_elev_mov_cmi_pi</td>\n      <td>0.1182</td>\n    </tr>\n  </tbody>\n</table>\n</div>"
     },
     "execution_count": 4,
     "metadata": {},
     "output_type": "execute_result"
    }
   ],
   "source": [
    "df.round(4)"
   ],
   "metadata": {
    "collapsed": false,
    "ExecuteTime": {
     "end_time": "2024-02-19T09:56:40.627421Z",
     "start_time": "2024-02-19T09:56:40.615241Z"
    }
   },
   "id": "d3cda2e4f46f34ec"
  },
  {
   "cell_type": "markdown",
   "source": [
    "## MNAR"
   ],
   "metadata": {
    "collapsed": false
   },
   "id": "4320a76f7bf570da"
  },
  {
   "cell_type": "code",
   "execution_count": 6,
   "outputs": [],
   "source": [
    "MNAR_EXPERIMENTS = [\n",
    "    ('ex7.1_emc_fine_tune', 'emc_fine_tune_99p'),\n",
    "    ('ex7.2_emc_mnar_training', 'emc_mnar_training_99p'),\n",
    "]"
   ],
   "metadata": {
    "collapsed": false,
    "ExecuteTime": {
     "end_time": "2024-02-19T09:57:19.585496Z",
     "start_time": "2024-02-19T09:57:19.578231Z"
    }
   },
   "id": "21de539cc43fd7d3"
  },
  {
   "cell_type": "code",
   "execution_count": 7,
   "outputs": [
    {
     "name": "stdout",
     "output_type": "stream",
     "text": [
      "Experiment 'ex7.1_emc_fine_tune' found!\n",
      "Run name: emc_fine_tune_99p\n",
      "ex7.1_emc_fine_tune 0.16324475407600403\n",
      "Experiment 'ex7.2_emc_mnar_training' found!\n",
      "Run name: emc_mnar_training_20p\n",
      "Run name: emc_mnar_training_40p\n",
      "Run name: emc_mnar_training_90p\n",
      "Run name: emc_mnar_training_30p\n",
      "Run name: emc_mnar_training_99p\n",
      "Run name: emc_mnar_training_80p\n",
      "Run name: emc_mnar_training_10p\n",
      "Run name: emc_mnar_training_50p\n",
      "Run name: emc_mnar_training_70p\n",
      "Run name: emc_mnar_training_60p\n",
      "ex7.2_emc_mnar_training 0.1634243130683899\n"
     ]
    }
   ],
   "source": [
    "mnar_df_data = []\n",
    "\n",
    "for exp, run_name in MNAR_EXPERIMENTS:\n",
    "    metrics = get_experiment_metrics(exp)\n",
    "    \n",
    "    best_val_mae = min(metrics[run_name]['val_mae'])\n",
    "    print(exp, best_val_mae)\n",
    "    \n",
    "    mnar_df_data.append([exp, best_val_mae])\n",
    "    #df = df.append({'experiment': exp, 'best_val_mae': best_val_mae}, ignore_index=True)\n",
    "\n",
    "mnar_df = pd.DataFrame({'experiment': list(map(lambda x: x[0], mnar_df_data)), \n",
    "                       'best_val_mae': list(map(lambda x: x[1], mnar_df_data))\n",
    "})"
   ],
   "metadata": {
    "collapsed": false,
    "ExecuteTime": {
     "end_time": "2024-02-19T09:57:21.455457Z",
     "start_time": "2024-02-19T09:57:21.430619Z"
    }
   },
   "id": "e3fc6f9827d1b6b2"
  },
  {
   "cell_type": "code",
   "execution_count": 8,
   "outputs": [
    {
     "data": {
      "text/plain": "                experiment  best_val_mae\n0      ex7.1_emc_fine_tune      0.163245\n1  ex7.2_emc_mnar_training      0.163424",
      "text/html": "<div>\n<style scoped>\n    .dataframe tbody tr th:only-of-type {\n        vertical-align: middle;\n    }\n\n    .dataframe tbody tr th {\n        vertical-align: top;\n    }\n\n    .dataframe thead th {\n        text-align: right;\n    }\n</style>\n<table border=\"1\" class=\"dataframe\">\n  <thead>\n    <tr style=\"text-align: right;\">\n      <th></th>\n      <th>experiment</th>\n      <th>best_val_mae</th>\n    </tr>\n  </thead>\n  <tbody>\n    <tr>\n      <th>0</th>\n      <td>ex7.1_emc_fine_tune</td>\n      <td>0.163245</td>\n    </tr>\n    <tr>\n      <th>1</th>\n      <td>ex7.2_emc_mnar_training</td>\n      <td>0.163424</td>\n    </tr>\n  </tbody>\n</table>\n</div>"
     },
     "execution_count": 8,
     "metadata": {},
     "output_type": "execute_result"
    }
   ],
   "source": [
    "mnar_df"
   ],
   "metadata": {
    "collapsed": false,
    "ExecuteTime": {
     "end_time": "2024-02-19T09:57:23.777401Z",
     "start_time": "2024-02-19T09:57:23.771670Z"
    }
   },
   "id": "e006a2b4496e4dbe"
  },
  {
   "cell_type": "code",
   "execution_count": null,
   "outputs": [],
   "source": [],
   "metadata": {
    "collapsed": false
   },
   "id": "9d71d8ff0992907d"
  }
 ],
 "metadata": {
  "kernelspec": {
   "display_name": "Python 3",
   "language": "python",
   "name": "python3"
  },
  "language_info": {
   "codemirror_mode": {
    "name": "ipython",
    "version": 2
   },
   "file_extension": ".py",
   "mimetype": "text/x-python",
   "name": "python",
   "nbconvert_exporter": "python",
   "pygments_lexer": "ipython2",
   "version": "2.7.6"
  }
 },
 "nbformat": 4,
 "nbformat_minor": 5
}

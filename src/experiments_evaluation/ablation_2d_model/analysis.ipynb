{
 "cells": [
  {
   "cell_type": "markdown",
   "source": [
    "# Analyze Model 2D"
   ],
   "metadata": {
    "collapsed": false
   },
   "id": "48ccfc5bb1d203a8"
  },
  {
   "cell_type": "code",
   "outputs": [],
   "source": [
    "import os\n",
    "import sys\n",
    "from pathlib import Path\n",
    "SCRIPT_DIR = os.path.dirname(os.path.abspath(\"__init__.py\"))\n",
    "SRC_DIR = Path(SCRIPT_DIR).parent.absolute()\n",
    "print(SRC_DIR)\n",
    "sys.path.append(os.path.dirname(SRC_DIR))\n",
    "# To execute on server:\n",
    "# sys.path.append(os.path.dirname(SRC_DIR.parent))\n",
    "sys.path.append(os.path.dirname(str(SRC_DIR) + '/models'))\n",
    "from src.experiments_evaluation.experiment_data_puller import get_experiment_metrics"
   ],
   "metadata": {
    "collapsed": false
   },
   "id": "b874458894519818",
   "execution_count": null
  },
  {
   "cell_type": "code",
   "outputs": [],
   "source": [
    "metrics = get_experiment_metrics(\"model_2d\", additional_metrics=[\"rmse\", \"masked_rmse\", \"val_rmse\", \"val_masked_rmse\"])"
   ],
   "metadata": {
    "collapsed": false
   },
   "id": "af22b7e6dde3d84b",
   "execution_count": null
  },
  {
   "cell_type": "code",
   "outputs": [
    {
     "name": "stdout",
     "output_type": "stream",
     "text": [
      "Minimal val_mae: 0.311\n",
      "Minimal val_masked_mae: 0.3127\n",
      "Minimal val_rmse: 0.4618\n",
      "Minimal val_masked_rmse: 0.4639\n"
     ]
    }
   ],
   "source": [
    "# This is enough to report since we already operate on anomalies and median prediction is not possible for 2D\n",
    "print(f\"Minimal val_mae: {round(min(metrics['model_2d_99p']['val_mae']), 4)}\")\n",
    "print(f\"Minimal val_masked_mae: {round(min(metrics['model_2d_99p']['val_masked_mae']), 4)}\")\n",
    "print(f\"Minimal val_rmse: {round(min(metrics['model_2d_99p']['val_rmse']), 4)}\")\n",
    "print(f\"Minimal val_masked_rmse: {round(min(metrics['model_2d_99p']['val_masked_rmse']), 4)}\")"
   ],
   "metadata": {
    "collapsed": false,
    "ExecuteTime": {
     "end_time": "2024-09-18T07:07:41.708562Z",
     "start_time": "2024-09-18T07:07:41.699061Z"
    }
   },
   "id": "35c07e6211f09799",
   "execution_count": 6
  },
  {
   "cell_type": "code",
   "outputs": [],
   "source": [],
   "metadata": {
    "collapsed": false
   },
   "id": "a5bd6e0033930c51",
   "execution_count": null
  }
 ],
 "metadata": {
  "kernelspec": {
   "display_name": "Python 3",
   "language": "python",
   "name": "python3"
  },
  "language_info": {
   "codemirror_mode": {
    "name": "ipython",
    "version": 2
   },
   "file_extension": ".py",
   "mimetype": "text/x-python",
   "name": "python",
   "nbconvert_exporter": "python",
   "pygments_lexer": "ipython2",
   "version": "2.7.6"
  }
 },
 "nbformat": 4,
 "nbformat_minor": 5
}

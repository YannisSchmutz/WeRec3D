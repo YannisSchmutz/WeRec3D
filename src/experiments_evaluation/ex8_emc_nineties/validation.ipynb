{
 "cells": [
  {
   "cell_type": "markdown",
   "source": [
    "# Validation of Experiment 8"
   ],
   "metadata": {
    "collapsed": false
   },
   "id": "f63efc3525fa3c83"
  },
  {
   "cell_type": "code",
   "execution_count": null,
   "outputs": [],
   "source": [
    "import numpy as np\n",
    "from scipy.optimize import curve_fit\n",
    "import matplotlib.pyplot as plt"
   ],
   "metadata": {
    "collapsed": false
   },
   "id": "f6814f5fc59728e1"
  },
  {
   "cell_type": "code",
   "execution_count": null,
   "outputs": [],
   "source": [
    "%load_ext autoreload\n",
    "%autoreload 2"
   ],
   "metadata": {
    "collapsed": false
   },
   "id": "5da56e318e0f3c4c"
  },
  {
   "cell_type": "code",
   "execution_count": null,
   "outputs": [],
   "source": [
    "import os\n",
    "import sys\n",
    "from pathlib import Path\n",
    "SCRIPT_DIR = os.path.dirname(os.path.abspath(\"__init__.py\"))\n",
    "SRC_DIR = Path(SCRIPT_DIR).parent.absolute()"
   ],
   "metadata": {
    "collapsed": false
   },
   "id": "f6bc0de133c4ef18"
  },
  {
   "cell_type": "code",
   "execution_count": null,
   "outputs": [],
   "source": [],
   "metadata": {
    "collapsed": false
   },
   "id": "7c949ca3ce1df1d"
  },
  {
   "cell_type": "code",
   "execution_count": null,
   "outputs": [],
   "source": [
    "from src.experiments_evaluation.experiment_data_puller import get_experiment_metrics\n",
    "from src.experiments_evaluation.plotting import visualize_errors_as_function_of_percentage"
   ],
   "metadata": {
    "collapsed": false
   },
   "id": "8657be9bb566102a"
  },
  {
   "cell_type": "code",
   "execution_count": null,
   "outputs": [],
   "source": [
    "EXP_NAME = \"ex8_emc_nineties\"\n"
   ],
   "metadata": {
    "collapsed": false
   },
   "id": "2042e2bf0071aa4e"
  },
  {
   "cell_type": "code",
   "execution_count": null,
   "outputs": [],
   "source": [
    "RUN_NAME = \"emc_nineties\"\n",
    "PERCENTAGES = [\"92\", \"94\", \"96\", \"98\"]"
   ],
   "metadata": {
    "collapsed": false
   },
   "id": "70238a42f6acc7eb"
  },
  {
   "cell_type": "code",
   "execution_count": null,
   "outputs": [],
   "source": [
    "metrics = get_experiment_metrics(EXP_NAME)\n",
    "metrics_ex5_1 = get_experiment_metrics(\"ex5.1_elev_mov_cmi\")"
   ],
   "metadata": {
    "collapsed": false
   },
   "id": "79086acf8533ece7"
  },
  {
   "cell_type": "code",
   "execution_count": null,
   "outputs": [],
   "source": [
    "runs = [f'{RUN_NAME}_{p}p' for p in PERCENTAGES]"
   ],
   "metadata": {
    "collapsed": false
   },
   "id": "f0885ea71e10b189"
  },
  {
   "cell_type": "code",
   "execution_count": null,
   "outputs": [],
   "source": [
    "extended_metrics = metrics\n",
    "extended_metrics['elev_mov_cmi_90p'] = metrics_ex5_1['elev_mov_cmi_90p']\n",
    "extended_metrics['elev_mov_cmi_99p'] = metrics_ex5_1['elev_mov_cmi_99p']\n",
    "\n",
    "runs.insert(0, 'elev_mov_cmi_90p')\n",
    "runs.append('elev_mov_cmi_99p')"
   ],
   "metadata": {
    "collapsed": false
   },
   "id": "5e7959178c0ef75e"
  },
  {
   "cell_type": "code",
   "execution_count": null,
   "outputs": [],
   "source": [
    "visualize_errors_as_function_of_percentage(runs, extended_metrics,\n",
    "                                           percentages=[90, 92, 94, 96, 98, 99],\n",
    "                                           save_file_name=None)"
   ],
   "metadata": {
    "collapsed": false
   },
   "id": "8f8067bc55c584c1"
  },
  {
   "cell_type": "markdown",
   "source": [
    "### With fitted curve"
   ],
   "metadata": {
    "collapsed": false
   },
   "id": "45146cf83e82da0d"
  },
  {
   "cell_type": "code",
   "execution_count": null,
   "outputs": [],
   "source": [
    "# Define the exponential function\n",
    "def exponential_func(x, a, b, c):\n",
    "    return a * np.exp(b * (x - c))\n",
    "\n",
    "# Given data points\n",
    "x_data = np.array([0.90, 0.92, 0.94, 0.96, 0.98, 0.99])\n",
    "y_data = np.array([min(extended_metrics[run]['val_mae']) for run in runs])\n",
    "\n",
    "# Fit the exponential function to the data\n",
    "params, covariance = curve_fit(exponential_func, x_data, y_data, p0=(1, 5, 0.90))\n",
    "\n",
    "# Extract parameters\n",
    "a, b, c = params\n",
    "\n",
    "# Generate fitted values\n",
    "x_fit = np.linspace(min(x_data), max(x_data), 100)\n",
    "y_fit = exponential_func(x_fit, *params)\n",
    "\n",
    "# Plot the data points and the fitted curve\n",
    "plt.scatter(x_data, y_data, label='Data Points', color='red')\n",
    "plt.plot(x_fit, y_fit, label='Fitted Exponential Curve', color='blue')\n",
    "plt.xlabel('x')\n",
    "plt.ylabel('y')\n",
    "plt.title('Exponential Fit to Data Points')\n",
    "plt.legend()\n",
    "plt.show()\n",
    "\n",
    "# y = a*e^( b * (x-c) )\n",
    "\n",
    "# Print the parameters\n",
    "print(f\"Fitted parameters: a = {a}, b = {b}, c = {c}\")\n",
    "print(f\"Formula: y^ = {a}*e^({b} * (p-{c}))\")"
   ],
   "metadata": {
    "collapsed": false
   },
   "id": "de67753d21bc04ea"
  },
  {
   "cell_type": "code",
   "execution_count": null,
   "outputs": [],
   "source": [],
   "metadata": {
    "collapsed": false
   },
   "id": "e77d2b063fb41d56"
  }
 ],
 "metadata": {
  "kernelspec": {
   "display_name": "Python 3",
   "language": "python",
   "name": "python3"
  },
  "language_info": {
   "codemirror_mode": {
    "name": "ipython",
    "version": 2
   },
   "file_extension": ".py",
   "mimetype": "text/x-python",
   "name": "python",
   "nbconvert_exporter": "python",
   "pygments_lexer": "ipython2",
   "version": "2.7.6"
  }
 },
 "nbformat": 4,
 "nbformat_minor": 5
}

{
 "cells": [
  {
   "cell_type": "markdown",
   "source": [
    "# Predict Validations of evaluated method combinations"
   ],
   "metadata": {
    "collapsed": false
   },
   "id": "83ed627e14c64fb2"
  },
  {
   "cell_type": "code",
   "execution_count": null,
   "outputs": [],
   "source": [
    "import numpy as np\n",
    "import tensorflow as tf"
   ],
   "metadata": {
    "collapsed": false
   },
   "id": "18654adabc49c672"
  },
  {
   "cell_type": "code",
   "execution_count": null,
   "outputs": [],
   "source": [
    "import os\n",
    "import sys\n",
    "from pathlib import Path\n",
    "SCRIPT_DIR = os.path.dirname(os.path.abspath(\"__init__.py\"))\n",
    "SRC_DIR = Path(SCRIPT_DIR).parent.absolute()\n",
    "print(SRC_DIR)\n",
    "sys.path.append(os.path.dirname(SRC_DIR))\n",
    "sys.path.append(os.path.dirname(str(SRC_DIR) + '/models'))"
   ],
   "metadata": {
    "collapsed": false
   },
   "id": "d8c613f6eb69cd2f"
  },
  {
   "cell_type": "code",
   "execution_count": null,
   "outputs": [],
   "source": [
    "from src.models.model1 import create_model as create_model1\n",
    "from src.models.model2 import create_model as create_model2\n",
    "\n",
    "from src.data_loaders.loading import get_val_sets\n",
    "from src.experiments_evaluation.validation_helpers import prepare_quantitative_samples1, calc_temporal_errors, calc_total_errors, calc_spatial_errors, scale_slp_back, scale_t2m_back"
   ],
   "metadata": {
    "collapsed": false
   },
   "id": "c4d635bd533e700b"
  },
  {
   "cell_type": "code",
   "execution_count": null,
   "outputs": [],
   "source": [
    "F = 5\n",
    "H = 32\n",
    "W = 64\n",
    "CH = 4  # t2m, msl, msk1, msk2\n",
    "BS = 4\n",
    "PERCENTAGE = \"99\"\n",
    "\n",
    "METHODS = [\n",
    "    (\"ex1_baseline\", {'data': 'a', 'model': 1, 'elev': False, 'pi_init': False}),\n",
    "    (\"ex2_seasonal_component\", {'data': 'b', 'model': 1, 'elev': False, 'pi_init': False}),\n",
    "    (\"ex3_incremental_pretraining\", {'data': 'b', 'model': 1, 'elev': False, 'pi_init': False}),\n",
    "    (\"ex3.1_moving_window\", {'data': 'b', 'model': 1, 'elev': False, 'pi_init': False}),\n",
    "    (\"ex3.2_cm_inclusion\", {'data': 'b', 'model': 2, 'elev': False, 'pi_init': False}),\n",
    "    (\"ex3.3_elevation\", {'data': 'b', 'model': 1, 'elev': True, 'pi_init': False}),\n",
    "    (\"ex3.4_pi_init\", {'data': 'b', 'model': 1, 'elev': False, 'pi_init': True}),\n",
    "    (\"ex4.1_elev_mov_win\", {'data': 'b', 'model': 1, 'elev': True, 'pi_init': False}),\n",
    "    (\"ex4.2_elev_cmi\", {'data': 'b', 'model': 2, 'elev': True, 'pi_init': False}),\n",
    "    (\"ex4.3_elev_pi_init\", {'data': 'b', 'model': 2, 'elev': True, 'pi_init': True}),\n",
    "    (\"ex5.1_elev_mov_cmi\", {'data': 'b', 'model': 2, 'elev': True, 'pi_init': False}),\n",
    "    (\"ex5.2_elev_mov_pi\", {'data': 'b', 'model': 1, 'elev': True, 'pi_init': True}),\n",
    "    (\"ex6.1_elev_mov_cmi_pi\", {'data': 'b', 'model': 2, 'elev': True, 'pi_init': True}),\n",
    "]\n"
   ],
   "metadata": {
    "collapsed": false
   },
   "id": "f6e0877c3df31ec2"
  },
  {
   "cell_type": "markdown",
   "source": [
    "## MCAR"
   ],
   "metadata": {
    "collapsed": false
   },
   "id": "3410dae4e9668e9"
  },
  {
   "cell_type": "code",
   "execution_count": null,
   "outputs": [],
   "source": [
    "for ex_name, ex_params in METHODS:\n",
    "    print(f\"\\n\\n\\n=== {ex_name} ===\")\n",
    "    \n",
    "    model_path = str(SRC_DIR) + f\"/experiments_evaluation/{ex_name}/model_checkpoint/p99/\"\n",
    "    \n",
    "    _ch = CH if ex_params['elev'] == False else CH+1\n",
    "    \n",
    "    strategy = tf.distribute.MirroredStrategy()\n",
    "    with strategy.scope():\n",
    "        if ex_params['model'] == 1:\n",
    "            model = create_model1(f=F, h=H, w=W, ch=_ch, bs=BS)\n",
    "        elif ex_params['model'] == 2:\n",
    "            model = create_model2(f=F, h=H, w=W, ch=_ch, bs=BS)\n",
    "        else:\n",
    "            raise ValueError(f\"\")\n",
    "        \n",
    "        model.compile(optimizer=tf.keras.optimizers.legacy.Adam(), run_eagerly=None)\n",
    "        model.load_weights(model_path)\n",
    "    \n",
    "    # Load validation data\n",
    "    val_x, val_y = get_val_sets(variant=ex_params['data'], \n",
    "                                percentage=PERCENTAGE, \n",
    "                                include_elevation=ex_params['elev'], \n",
    "                                pi_replacement=ex_params['pi_init'])\n",
    "        \n",
    "    x = prepare_quantitative_samples1(val_x)\n",
    "    y = prepare_quantitative_samples1(val_y, seq_reshape=False)\n",
    "    # Only need variables\n",
    "    y = y[..., :2]\n",
    "\n",
    "    # On CPU raises error if seq / BS not int\n",
    "    x = x[:728]\n",
    "    y = y[:3640]\n",
    "    \n",
    "    print(x.shape, y.shape)\n",
    "    \n",
    "    pred = model.predict(x, batch_size=BS)\n",
    "    # Reshape back over time\n",
    "    pred = np.reshape(pred, (pred.shape[0]*pred.shape[1], pred.shape[2], pred.shape[3], pred.shape[4]))\n",
    "    print(pred.shape)\n",
    "    \n",
    "    total_error, t2m_error, msl_error = calc_total_errors(y, pred)\n",
    "    print(f\"Total error: {total_error}\")\n",
    "    print(f\"t2m error: {t2m_error}\")\n",
    "    print(f\"msl error: {msl_error}\")\n",
    "    \n",
    "    pred_path = f\"./{ex_name}/prediction/\"\n",
    "    errors_path = f\"./{ex_name}/errors/\"\n",
    "    \n",
    "    os.mkdir(pred_path)\n",
    "    os.mkdir(errors_path)\n",
    "    \n",
    "    # Save prediction\n",
    "    np.save(pred_path + \"predicted.npy\", pred)\n",
    "    \n",
    "    # Get temporal Errors\n",
    "    temp_total_err, temp_t2m_err, temp_msl_err = calc_temporal_errors(y, pred)\n",
    "    np.save(f\"{errors_path}/temp_total_err_{PERCENTAGE}p.npy\", temp_total_err)\n",
    "    np.save(f\"{errors_path}/temp_t2m_err_{PERCENTAGE}p.npy\", temp_t2m_err)\n",
    "    np.save(f\"{errors_path}/temp_slp_err_{PERCENTAGE}p.npy\", temp_msl_err)\n",
    "    \n",
    "    # Get spatial errors\n",
    "    spat_total_err, spat_t2m_err, spat_msl_err = calc_spatial_errors(y, pred)\n",
    "    np.save(f\"{errors_path}/spat_total_err_{PERCENTAGE}p.npy\", spat_total_err)\n",
    "    np.save(f\"{errors_path}/spat_t2m_err_{PERCENTAGE}p.npy\", spat_t2m_err)\n",
    "    np.save(f\"{errors_path}/spat_slp_err_{PERCENTAGE}p.npy\", spat_msl_err)"
   ],
   "metadata": {
    "collapsed": false
   },
   "id": "8f9308b5dfb28d7b"
  },
  {
   "cell_type": "code",
   "execution_count": null,
   "outputs": [],
   "source": [],
   "metadata": {
    "collapsed": false
   },
   "id": "38cdec5c55d30c11"
  }
 ],
 "metadata": {
  "kernelspec": {
   "display_name": "Python 3",
   "language": "python",
   "name": "python3"
  },
  "language_info": {
   "codemirror_mode": {
    "name": "ipython",
    "version": 2
   },
   "file_extension": ".py",
   "mimetype": "text/x-python",
   "name": "python",
   "nbconvert_exporter": "python",
   "pygments_lexer": "ipython2",
   "version": "2.7.6"
  }
 },
 "nbformat": 4,
 "nbformat_minor": 5
}

{
 "cells": [
  {
   "cell_type": "code",
   "execution_count": null,
   "id": "initial_id",
   "metadata": {
    "collapsed": true
   },
   "outputs": [],
   "source": [
    "import numpy as np\n",
    "import matplotlib.pyplot as plt\n",
    "import pandas as pd"
   ]
  },
  {
   "cell_type": "code",
   "execution_count": null,
   "outputs": [],
   "source": [
    "import os, sys\n",
    "from pathlib import Path\n",
    "SCRIPT_DIR = os.path.dirname(os.path.abspath(\"__init__.py\"))\n",
    "SRC_DIR = Path(SCRIPT_DIR).parent.absolute()\n",
    "print(SRC_DIR)\n",
    "sys.path.append(os.path.dirname(SRC_DIR))\n",
    "from src.experiments_evaluation.validation_helpers import scale_t2m_back, scale_slp_back"
   ],
   "metadata": {
    "collapsed": false
   },
   "id": "ad87774a9934e85"
  },
  {
   "cell_type": "code",
   "execution_count": null,
   "outputs": [],
   "source": [
    "dates_val = pd.date_range(start=\"1955-01-01\", periods=3644, freq=\"D\")"
   ],
   "metadata": {
    "collapsed": false
   },
   "id": "784a63547895869e"
  },
  {
   "cell_type": "code",
   "execution_count": null,
   "outputs": [],
   "source": [
    "temp_total_err = np.load(\"./ex5.1_elev_mov_cmi/errors/temp_total_err_99p.npy\")\n",
    "temp_t2m_err = np.load(\"./ex5.1_elev_mov_cmi/errors/temp_t2m_err_99p.npy\")\n",
    "temp_slp_err = np.load(\"./ex5.1_elev_mov_cmi/errors/temp_slp_err_99p.npy\")"
   ],
   "metadata": {
    "collapsed": false
   },
   "id": "53127a670b3bf811"
  },
  {
   "cell_type": "code",
   "execution_count": null,
   "outputs": [],
   "source": [
    "plt.plot(temp_t2m_err)"
   ],
   "metadata": {
    "collapsed": false
   },
   "id": "a0e407c343470e99"
  },
  {
   "cell_type": "code",
   "execution_count": null,
   "outputs": [],
   "source": [
    "max_id = np.argmax(temp_t2m_err)\n",
    "print(max_id)\n",
    "print(dates_val[max_id])"
   ],
   "metadata": {
    "collapsed": false
   },
   "id": "8011ef30a49940dd"
  },
  {
   "cell_type": "code",
   "execution_count": null,
   "outputs": [],
   "source": [
    "top_5_temp_errs = []\n",
    "temp_errors = scale_t2m_back(temp_t2m_err.copy(), for_error=True)\n",
    "for i in range(10):\n",
    "    _mid = np.argmax(temp_errors)\n",
    "    print(dates_val[_mid], temp_errors[_mid])\n",
    "    top_5_temp_errs.append(temp_errors[_mid])\n",
    "    temp_errors[_mid] = 0\n",
    "\n",
    "print(\"The top 6 highest t2m errors are during 1956-01-30 and 1956-02-05\")"
   ],
   "metadata": {
    "collapsed": false
   },
   "id": "d6ae90045d470a88"
  },
  {
   "cell_type": "code",
   "execution_count": null,
   "outputs": [],
   "source": [
    "mu = np.mean(top_5_temp_errs)\n",
    "sigma = np.std(top_5_temp_errs)\n",
    "print(f\"Mu={mu}, Sigma={sigma}\")"
   ],
   "metadata": {
    "collapsed": false
   },
   "id": "550b18e2f62a4315"
  },
  {
   "cell_type": "code",
   "execution_count": null,
   "outputs": [],
   "source": [],
   "metadata": {
    "collapsed": false
   },
   "id": "e52dff7da2297990"
  }
 ],
 "metadata": {
  "kernelspec": {
   "display_name": "Python 3",
   "language": "python",
   "name": "python3"
  },
  "language_info": {
   "codemirror_mode": {
    "name": "ipython",
    "version": 2
   },
   "file_extension": ".py",
   "mimetype": "text/x-python",
   "name": "python",
   "nbconvert_exporter": "python",
   "pygments_lexer": "ipython2",
   "version": "2.7.6"
  }
 },
 "nbformat": 4,
 "nbformat_minor": 5
}

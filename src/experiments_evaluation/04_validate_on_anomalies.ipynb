{
 "cells": [
  {
   "cell_type": "markdown",
   "source": [
    "# Validate On Anomalies"
   ],
   "metadata": {
    "collapsed": false
   },
   "id": "ab6979eee72fd41c"
  },
  {
   "cell_type": "code",
   "execution_count": null,
   "outputs": [],
   "source": [
    "import numpy as np\n",
    "import pandas as pd\n",
    "\n",
    "import os\n",
    "import sys\n",
    "from pathlib import Path\n",
    "SCRIPT_DIR = os.path.dirname(os.path.abspath(\"__init__.py\"))\n",
    "SRC_DIR = Path(SCRIPT_DIR).parent.absolute()\n",
    "print(SRC_DIR)\n",
    "sys.path.append(os.path.dirname(SRC_DIR))\n",
    "\n",
    "from src.config import TA_MU, TA_SIGMA, SLP_MU, SLP_SIGMA"
   ],
   "metadata": {
    "collapsed": false
   },
   "id": "6835ff8a24e57c5c"
  },
  {
   "cell_type": "markdown",
   "source": [
    "# Compare Normalized Anomaly MAEs "
   ],
   "metadata": {
    "collapsed": false
   },
   "id": "ea7a85e078dbecae"
  },
  {
   "cell_type": "code",
   "execution_count": null,
   "outputs": [],
   "source": [
    "EXPERIMENTS = [\n",
    "               'ex1_baseline',  # Is already anomaly \n",
    "               'ex2_seasonal_component',\n",
    "               'ex3_incremental_pretraining',\n",
    "               'ex3.1_moving_window',\n",
    "               'ex3.2_cm_inclusion',\n",
    "               'ex3.3_elevation',\n",
    "               'ex3.4_pi_init',\n",
    "               'ex4.1_elev_mov_win',\n",
    "               'ex4.2_elev_cmi',\n",
    "               'ex4.3_elev_pi_init',\n",
    "               'ex5.1_elev_mov_cmi',\n",
    "               'ex5.2_elev_mov_pi',\n",
    "               'ex6.1_elev_mov_cmi_pi'\n",
    "               ]"
   ],
   "metadata": {
    "collapsed": false
   },
   "id": "4854e6971b4755f2"
  },
  {
   "cell_type": "code",
   "execution_count": null,
   "outputs": [],
   "source": [
    "# Unit refers to °C or Pa\n",
    "unit_val_ymean = np.load(\"../data_sets/ymean_sets/validation_ymean.npy\")\n",
    "\n",
    "normalized_gt = np.load(\"../data_sets/variant_b/validation.npy\")\n",
    "normalized_gt = normalized_gt[:3644, 6:38, 2:66]\n",
    "\n",
    "normalized_val_ymean = (unit_val_ymean - np.array([TA_MU, SLP_MU])) / np.array([TA_SIGMA, SLP_SIGMA])\n",
    "normalized_val_ymean = normalized_val_ymean[:3644]\n",
    "\n",
    "exp_mae_map = {}\n",
    "for exp_name in EXPERIMENTS:\n",
    "    normalized_pred = np.load(f\"{exp_name}/prediction/predicted.npy\")\n",
    "\n",
    "    if exp_name == \"ex1_baseline\":\n",
    "        anom_gt = np.load(\"../data_sets/variant_a/validation.npy\")\n",
    "        anom_gt = anom_gt[:3644, 6:38, 2:66]\n",
    "        _mae = np.mean(np.abs(normalized_pred - anom_gt))\n",
    "        print(f\"Experiment {exp_name}: {_mae}\")\n",
    "        exp_mae_map[exp_name] = _mae\n",
    "        continue\n",
    "    \n",
    "    norm_gt_anom = normalized_gt - normalized_val_ymean\n",
    "    norm_pred_anom = normalized_pred - normalized_val_ymean\n",
    "    \n",
    "    normalized_anomaly_mae = np.mean(np.abs(norm_pred_anom - norm_gt_anom)) \n",
    "    print(f\"Experiment {exp_name}: {normalized_anomaly_mae}\")\n",
    "    exp_mae_map[exp_name] = normalized_anomaly_mae"
   ],
   "metadata": {
    "collapsed": false
   },
   "id": "beb19a133239b36"
  },
  {
   "cell_type": "code",
   "execution_count": null,
   "outputs": [],
   "source": [
    "# Almost IDENTICAL to the climatology-MAE results! -> Seasonal component has been learned very well!\n",
    "exp_mae_map"
   ],
   "metadata": {
    "collapsed": false
   },
   "id": "68961e7f5806f482"
  },
  {
   "cell_type": "code",
   "execution_count": null,
   "outputs": [],
   "source": [
    "df = pd.DataFrame(data={'exp_name': exp_mae_map.keys(), 'anomaly_mae': exp_mae_map.values()} )\n",
    "df.round(4)"
   ],
   "metadata": {
    "collapsed": false
   },
   "id": "b33958d1b7b68036"
  },
  {
   "cell_type": "code",
   "execution_count": null,
   "outputs": [],
   "source": [],
   "metadata": {
    "collapsed": false
   },
   "id": "47076a3de4d43f14"
  },
  {
   "cell_type": "markdown",
   "source": [
    "## Compare Normalized Anomaly RMSEs "
   ],
   "metadata": {
    "collapsed": false
   },
   "id": "2bede7c323bfa5fb"
  },
  {
   "cell_type": "code",
   "outputs": [],
   "source": [],
   "metadata": {
    "collapsed": false
   },
   "id": "e45f038da5024380"
  },
  {
   "cell_type": "code",
   "outputs": [],
   "source": [],
   "metadata": {
    "collapsed": false
   },
   "id": "4967776fc6c4c7b6"
  },
  {
   "cell_type": "code",
   "outputs": [],
   "source": [
    "def calc_rmse(gt, pred):\n",
    "    squared_diffs = np.square(gt - pred)\n",
    "    # Calculate the mean of the squared differences\n",
    "    mean_squared_diff = np.mean(squared_diffs)\n",
    "    # Calculate the square root of the mean squared differences (RMSE)\n",
    "    return np.sqrt(mean_squared_diff)"
   ],
   "metadata": {
    "collapsed": false
   },
   "id": "4b0d5e0107440c60",
   "execution_count": null
  },
  {
   "cell_type": "code",
   "outputs": [],
   "source": [
    "# Unit refers to °C or Pa\n",
    "unit_val_ymean = np.load(\"../data_sets/ymean_sets/validation_ymean.npy\")\n",
    "\n",
    "normalized_gt = np.load(\"../data_sets/variant_b/validation.npy\")\n",
    "normalized_gt = normalized_gt[:3644, 6:38, 2:66]\n",
    "\n",
    "normalized_val_ymean = (unit_val_ymean - np.array([TA_MU, SLP_MU])) / np.array([TA_SIGMA, SLP_SIGMA])\n",
    "normalized_val_ymean = normalized_val_ymean[:3644]\n",
    "\n",
    "norm_gt_anom = normalized_gt - normalized_val_ymean\n",
    "\n",
    "exp_rmse_map = {}\n",
    "for exp_name in EXPERIMENTS:\n",
    "    normalized_pred = np.load(f\"{exp_name}/prediction/predicted.npy\")\n",
    "    if exp_name == \"ex1_baseline\":\n",
    "        anom_gt = np.load(\"../data_sets/variant_a/validation.npy\")\n",
    "        anom_gt = anom_gt[:3644, 6:38, 2:66]\n",
    "        _rmse = calc_rmse(anom_gt, normalized_pred)\n",
    "        print(f\"Experiment {exp_name}: {_rmse}\")\n",
    "        exp_rmse_map[exp_name] = _rmse\n",
    "        continue\n",
    "    \n",
    "    norm_pred_anom = normalized_pred - normalized_val_ymean\n",
    "    \n",
    "    normalized_anomaly_rmse = calc_rmse(norm_gt_anom, norm_pred_anom) \n",
    "    print(f\"Experiment {exp_name}: {normalized_anomaly_rmse}\")\n",
    "    exp_rmse_map[exp_name] = normalized_anomaly_rmse"
   ],
   "metadata": {
    "collapsed": false
   },
   "id": "274d814d8ff962b6",
   "execution_count": null
  },
  {
   "cell_type": "code",
   "outputs": [],
   "source": [
    "df_rmse = pd.DataFrame(data={'exp_name': exp_rmse_map.keys(), 'anomaly_rmse': exp_rmse_map.values()} )\n",
    "df_rmse.round(4)"
   ],
   "metadata": {
    "collapsed": false
   },
   "id": "1f0516d424b13aa",
   "execution_count": null
  },
  {
   "cell_type": "code",
   "outputs": [],
   "source": [],
   "metadata": {
    "collapsed": false
   },
   "id": "323cd01ff6660f1c"
  },
  {
   "cell_type": "code",
   "outputs": [],
   "source": [
    "df['anomaly_rmse'] = df_rmse['anomaly_rmse']"
   ],
   "metadata": {
    "collapsed": false
   },
   "id": "cfe22520deff15f3",
   "execution_count": null
  },
  {
   "cell_type": "code",
   "outputs": [],
   "source": [
    "df.round(4)"
   ],
   "metadata": {
    "collapsed": false
   },
   "id": "3c4d9479cccff2c6",
   "execution_count": null
  },
  {
   "cell_type": "code",
   "outputs": [],
   "source": [],
   "metadata": {
    "collapsed": false
   },
   "id": "f80bcfb74d465a73"
  }
 ],
 "metadata": {
  "kernelspec": {
   "display_name": "Python 3",
   "language": "python",
   "name": "python3"
  },
  "language_info": {
   "codemirror_mode": {
    "name": "ipython",
    "version": 2
   },
   "file_extension": ".py",
   "mimetype": "text/x-python",
   "name": "python",
   "nbconvert_exporter": "python",
   "pygments_lexer": "ipython2",
   "version": "2.7.6"
  }
 },
 "nbformat": 4,
 "nbformat_minor": 5
}

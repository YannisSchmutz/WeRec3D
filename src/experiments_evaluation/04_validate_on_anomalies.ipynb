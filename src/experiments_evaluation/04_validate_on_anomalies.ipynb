{
 "cells": [
  {
   "cell_type": "markdown",
   "source": [
    "# Validate On Anomalies"
   ],
   "metadata": {
    "collapsed": false
   },
   "id": "ab6979eee72fd41c"
  },
  {
   "cell_type": "code",
   "execution_count": 1,
   "outputs": [
    {
     "name": "stdout",
     "output_type": "stream",
     "text": [
      "/Users/yannis/PycharmProjects/WeRec3D/src\n"
     ]
    }
   ],
   "source": [
    "import numpy as np\n",
    "import pandas as pd\n",
    "\n",
    "import os\n",
    "import sys\n",
    "from pathlib import Path\n",
    "SCRIPT_DIR = os.path.dirname(os.path.abspath(\"__init__.py\"))\n",
    "SRC_DIR = Path(SCRIPT_DIR).parent.absolute()\n",
    "print(SRC_DIR)\n",
    "sys.path.append(os.path.dirname(SRC_DIR))\n",
    "\n",
    "from src.config import TA_MU, TA_SIGMA, SLP_MU, SLP_SIGMA"
   ],
   "metadata": {
    "collapsed": false,
    "ExecuteTime": {
     "end_time": "2024-02-29T06:59:31.129286Z",
     "start_time": "2024-02-29T06:59:30.865414Z"
    }
   },
   "id": "6835ff8a24e57c5c"
  },
  {
   "cell_type": "markdown",
   "source": [
    "# Compare Normalized Anomaly MAEs "
   ],
   "metadata": {
    "collapsed": false
   },
   "id": "ea7a85e078dbecae"
  },
  {
   "cell_type": "code",
   "execution_count": 4,
   "outputs": [],
   "source": [
    "EXPERIMENTS = [\n",
    "               # 'ex1_baseline',  # Is already anomaly \n",
    "               'ex2_seasonal_component',\n",
    "               'ex3_incremental_pretraining',\n",
    "               'ex3.1_moving_window',\n",
    "               'ex3.2_cm_inclusion',\n",
    "               'ex3.3_elevation',\n",
    "               'ex3.4_pi_init',\n",
    "               'ex4.1_elev_mov_win',\n",
    "               'ex4.2_elev_cmi',\n",
    "               'ex4.3_elev_pi_init',\n",
    "               'ex5.1_elev_mov_cmi',\n",
    "               'ex5.2_elev_mov_pi',\n",
    "               'ex6.1_elev_mov_cmi_pi'\n",
    "               ]"
   ],
   "metadata": {
    "collapsed": false,
    "ExecuteTime": {
     "end_time": "2024-02-29T07:00:22.451161Z",
     "start_time": "2024-02-29T07:00:22.445518Z"
    }
   },
   "id": "4854e6971b4755f2"
  },
  {
   "cell_type": "code",
   "execution_count": 5,
   "outputs": [
    {
     "name": "stdout",
     "output_type": "stream",
     "text": [
      "Experiment ex2_seasonal_component: 0.1653537646515857\n",
      "Experiment ex3_incremental_pretraining: 0.11063940136725196\n",
      "Experiment ex3.1_moving_window: 0.12439385664960434\n",
      "Experiment ex3.2_cm_inclusion: 0.1138046809053312\n",
      "Experiment ex3.3_elevation: 0.11059134599024154\n",
      "Experiment ex3.4_pi_init: 0.11306821929033402\n",
      "Experiment ex4.1_elev_mov_win: 0.10643644650633309\n",
      "Experiment ex4.2_elev_cmi: 0.11329739505086453\n",
      "Experiment ex4.3_elev_pi_init: 0.11422359082186109\n",
      "Experiment ex5.1_elev_mov_cmi: 0.103159077336018\n",
      "Experiment ex5.2_elev_mov_pi: 0.10840841704207617\n",
      "Experiment ex6.1_elev_mov_cmi_pi: 0.10930415237565502\n"
     ]
    }
   ],
   "source": [
    "# Unit refers to °C or Pa\n",
    "unit_val_ymean = np.load(\"../data_sets/ymean_sets/validation_ymean.npy\")\n",
    "\n",
    "normalized_gt = np.load(\"../data_sets/variant_b/validation.npy\")\n",
    "normalized_gt = normalized_gt[:3644, 6:38, 2:66]\n",
    "\n",
    "normalized_val_ymean = (unit_val_ymean - np.array([TA_MU, SLP_MU])) / np.array([TA_SIGMA, SLP_SIGMA])\n",
    "normalized_val_ymean = normalized_val_ymean[:3644]\n",
    "\n",
    "exp_mae_map = {}\n",
    "for exp_name in EXPERIMENTS:\n",
    "    normalized_pred = np.load(f\"{exp_name}/prediction/predicted.npy\")\n",
    "    \n",
    "    norm_pred_anom = normalized_pred - normalized_val_ymean\n",
    "    norm_gt_anom = normalized_gt - normalized_val_ymean\n",
    "    \n",
    "    normalized_anomaly_mae = np.mean(np.abs(norm_pred_anom - norm_gt_anom)) \n",
    "    print(f\"Experiment {exp_name}: {normalized_anomaly_mae}\")\n",
    "    exp_mae_map[exp_name] = normalized_anomaly_mae"
   ],
   "metadata": {
    "collapsed": false,
    "ExecuteTime": {
     "end_time": "2024-02-29T07:00:24.020073Z",
     "start_time": "2024-02-29T07:00:22.761954Z"
    }
   },
   "id": "beb19a133239b36"
  },
  {
   "cell_type": "code",
   "execution_count": 6,
   "outputs": [
    {
     "data": {
      "text/plain": "{'ex2_seasonal_component': 0.1653537646515857,\n 'ex3_incremental_pretraining': 0.11063940136725196,\n 'ex3.1_moving_window': 0.12439385664960434,\n 'ex3.2_cm_inclusion': 0.1138046809053312,\n 'ex3.3_elevation': 0.11059134599024154,\n 'ex3.4_pi_init': 0.11306821929033402,\n 'ex4.1_elev_mov_win': 0.10643644650633309,\n 'ex4.2_elev_cmi': 0.11329739505086453,\n 'ex4.3_elev_pi_init': 0.11422359082186109,\n 'ex5.1_elev_mov_cmi': 0.103159077336018,\n 'ex5.2_elev_mov_pi': 0.10840841704207617,\n 'ex6.1_elev_mov_cmi_pi': 0.10930415237565502}"
     },
     "execution_count": 6,
     "metadata": {},
     "output_type": "execute_result"
    }
   ],
   "source": [
    "# Almost IDENTICAL to the climatology-MAE results! -> Seasonal component has been learned very well!\n",
    "exp_mae_map"
   ],
   "metadata": {
    "collapsed": false,
    "ExecuteTime": {
     "end_time": "2024-02-29T07:00:27.391640Z",
     "start_time": "2024-02-29T07:00:27.387341Z"
    }
   },
   "id": "68961e7f5806f482"
  },
  {
   "cell_type": "code",
   "execution_count": 8,
   "outputs": [
    {
     "data": {
      "text/plain": "                       exp_name  anomaly_mae\n0        ex2_seasonal_component       0.1654\n1   ex3_incremental_pretraining       0.1106\n2           ex3.1_moving_window       0.1244\n3            ex3.2_cm_inclusion       0.1138\n4               ex3.3_elevation       0.1106\n5                 ex3.4_pi_init       0.1131\n6            ex4.1_elev_mov_win       0.1064\n7                ex4.2_elev_cmi       0.1133\n8            ex4.3_elev_pi_init       0.1142\n9            ex5.1_elev_mov_cmi       0.1032\n10            ex5.2_elev_mov_pi       0.1084\n11        ex6.1_elev_mov_cmi_pi       0.1093",
      "text/html": "<div>\n<style scoped>\n    .dataframe tbody tr th:only-of-type {\n        vertical-align: middle;\n    }\n\n    .dataframe tbody tr th {\n        vertical-align: top;\n    }\n\n    .dataframe thead th {\n        text-align: right;\n    }\n</style>\n<table border=\"1\" class=\"dataframe\">\n  <thead>\n    <tr style=\"text-align: right;\">\n      <th></th>\n      <th>exp_name</th>\n      <th>anomaly_mae</th>\n    </tr>\n  </thead>\n  <tbody>\n    <tr>\n      <th>0</th>\n      <td>ex2_seasonal_component</td>\n      <td>0.1654</td>\n    </tr>\n    <tr>\n      <th>1</th>\n      <td>ex3_incremental_pretraining</td>\n      <td>0.1106</td>\n    </tr>\n    <tr>\n      <th>2</th>\n      <td>ex3.1_moving_window</td>\n      <td>0.1244</td>\n    </tr>\n    <tr>\n      <th>3</th>\n      <td>ex3.2_cm_inclusion</td>\n      <td>0.1138</td>\n    </tr>\n    <tr>\n      <th>4</th>\n      <td>ex3.3_elevation</td>\n      <td>0.1106</td>\n    </tr>\n    <tr>\n      <th>5</th>\n      <td>ex3.4_pi_init</td>\n      <td>0.1131</td>\n    </tr>\n    <tr>\n      <th>6</th>\n      <td>ex4.1_elev_mov_win</td>\n      <td>0.1064</td>\n    </tr>\n    <tr>\n      <th>7</th>\n      <td>ex4.2_elev_cmi</td>\n      <td>0.1133</td>\n    </tr>\n    <tr>\n      <th>8</th>\n      <td>ex4.3_elev_pi_init</td>\n      <td>0.1142</td>\n    </tr>\n    <tr>\n      <th>9</th>\n      <td>ex5.1_elev_mov_cmi</td>\n      <td>0.1032</td>\n    </tr>\n    <tr>\n      <th>10</th>\n      <td>ex5.2_elev_mov_pi</td>\n      <td>0.1084</td>\n    </tr>\n    <tr>\n      <th>11</th>\n      <td>ex6.1_elev_mov_cmi_pi</td>\n      <td>0.1093</td>\n    </tr>\n  </tbody>\n</table>\n</div>"
     },
     "execution_count": 8,
     "metadata": {},
     "output_type": "execute_result"
    }
   ],
   "source": [
    "df = pd.DataFrame(data={'exp_name': exp_mae_map.keys(), 'anomaly_mae': exp_mae_map.values()} )\n",
    "df.round(4)"
   ],
   "metadata": {
    "collapsed": false,
    "ExecuteTime": {
     "end_time": "2024-02-29T07:01:50.249085Z",
     "start_time": "2024-02-29T07:01:50.247869Z"
    }
   },
   "id": "b33958d1b7b68036"
  },
  {
   "cell_type": "code",
   "execution_count": null,
   "outputs": [],
   "source": [],
   "metadata": {
    "collapsed": false
   },
   "id": "47076a3de4d43f14"
  }
 ],
 "metadata": {
  "kernelspec": {
   "display_name": "Python 3",
   "language": "python",
   "name": "python3"
  },
  "language_info": {
   "codemirror_mode": {
    "name": "ipython",
    "version": 2
   },
   "file_extension": ".py",
   "mimetype": "text/x-python",
   "name": "python",
   "nbconvert_exporter": "python",
   "pygments_lexer": "ipython2",
   "version": "2.7.6"
  }
 },
 "nbformat": 4,
 "nbformat_minor": 5
}

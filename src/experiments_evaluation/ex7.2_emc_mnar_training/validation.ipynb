{
 "cells": [
  {
   "cell_type": "markdown",
   "source": [
    "# Validation of Experiment 7.2: MNAR Training"
   ],
   "metadata": {
    "collapsed": false
   },
   "id": "db0f365a69cd233"
  },
  {
   "cell_type": "code",
   "execution_count": 1,
   "outputs": [],
   "source": [
    "import numpy as np\n",
    "import tensorflow as tf"
   ],
   "metadata": {
    "collapsed": false,
    "ExecuteTime": {
     "end_time": "2024-02-29T07:44:25.487164Z",
     "start_time": "2024-02-29T07:44:22.981240Z"
    }
   },
   "id": "899d43d32de48ed4"
  },
  {
   "cell_type": "code",
   "execution_count": 2,
   "outputs": [],
   "source": [
    "%load_ext autoreload\n",
    "%autoreload 2"
   ],
   "metadata": {
    "collapsed": false,
    "ExecuteTime": {
     "end_time": "2024-02-29T07:44:25.506850Z",
     "start_time": "2024-02-29T07:44:25.488841Z"
    }
   },
   "id": "17a714e3a09e2dd3"
  },
  {
   "cell_type": "code",
   "execution_count": 3,
   "outputs": [
    {
     "name": "stdout",
     "output_type": "stream",
     "text": [
      "/Users/yannis/PycharmProjects/WeRec3D/src/experiments_evaluation/ex7.2_emc_mnar_training\n",
      "/Users/yannis/PycharmProjects/WeRec3D/src\n"
     ]
    }
   ],
   "source": [
    "import os\n",
    "import sys\n",
    "from pathlib import Path\n",
    "SCRIPT_DIR = os.path.dirname(os.path.abspath(\"__init__.py\"))\n",
    "SRC_DIR = Path(SCRIPT_DIR).parent.parent.absolute()\n",
    "print(SCRIPT_DIR)\n",
    "print(SRC_DIR)\n",
    "sys.path.append(os.path.dirname(SRC_DIR))\n",
    "sys.path.append(os.path.dirname(str(SRC_DIR) + '/models'))"
   ],
   "metadata": {
    "collapsed": false,
    "ExecuteTime": {
     "end_time": "2024-02-29T07:44:25.526193Z",
     "start_time": "2024-02-29T07:44:25.507106Z"
    }
   },
   "id": "385f52c73f167ba"
  },
  {
   "cell_type": "code",
   "execution_count": 4,
   "outputs": [],
   "source": [
    "from src.models.model2 import create_model\n",
    "from src.data_loaders.loading import get_val_sets\n",
    "from src.experiments_evaluation.validation_helpers import calc_total_errors, scale_t2m_back, scale_slp_back, reshape_for_modelling, get_median_pred_days"
   ],
   "metadata": {
    "collapsed": false,
    "ExecuteTime": {
     "end_time": "2024-02-29T07:44:33.443813Z",
     "start_time": "2024-02-29T07:44:33.421431Z"
    }
   },
   "id": "25e3b0e90057c4d3"
  },
  {
   "cell_type": "code",
   "execution_count": 5,
   "outputs": [],
   "source": [
    "EXP_NAME = \"ex7.2_emc_mnar_training\""
   ],
   "metadata": {
    "collapsed": false,
    "ExecuteTime": {
     "end_time": "2024-02-29T07:44:34.422767Z",
     "start_time": "2024-02-29T07:44:34.407187Z"
    }
   },
   "id": "aacdb7cf5e934de4"
  },
  {
   "cell_type": "code",
   "execution_count": 5,
   "outputs": [],
   "source": [],
   "metadata": {
    "collapsed": false,
    "ExecuteTime": {
     "end_time": "2024-02-29T07:44:36.183619Z",
     "start_time": "2024-02-29T07:44:36.180222Z"
    }
   },
   "id": "be6648bd410b9d24"
  },
  {
   "cell_type": "code",
   "execution_count": 6,
   "outputs": [
    {
     "data": {
      "text/plain": "'/Users/yannis/PycharmProjects/WeRec3D/src/experiments_evaluation/ex7.2_emc_mnar_training/model_checkpoint/p99/'"
     },
     "execution_count": 6,
     "metadata": {},
     "output_type": "execute_result"
    }
   ],
   "source": [
    "F = 5\n",
    "H = 32\n",
    "W = 64\n",
    "CH = 5  # t2m, msl, msk1, msk2, elev\n",
    "BS = 4\n",
    "PERCENTAGE = \"99\"\n",
    "MISSING_MECHANISM = \"mnar\"\n",
    "\n",
    "MODEL_PATH = str(SRC_DIR) + f\"/experiments_evaluation/{EXP_NAME}/model_checkpoint/p{PERCENTAGE}/\"\n",
    "MODEL_PATH"
   ],
   "metadata": {
    "collapsed": false,
    "ExecuteTime": {
     "end_time": "2024-02-29T07:44:36.576902Z",
     "start_time": "2024-02-29T07:44:36.553745Z"
    }
   },
   "id": "ac17bd867721d6b2"
  },
  {
   "cell_type": "code",
   "execution_count": 7,
   "outputs": [
    {
     "name": "stdout",
     "output_type": "stream",
     "text": [
      "INFO:tensorflow:Using MirroredStrategy with devices ('/job:localhost/replica:0/task:0/device:CPU:0',)\n",
      "Input image batch shape: (4, 5, 32, 64, 5)\n",
      "Number output channels: 2\n",
      "Layer1: (4, 5, 32, 64, 64)\n",
      "Layer2: (4, 5, 16, 32, 128)\n",
      "Layer3: (4, 5, 16, 32, 128)\n",
      "Layer4: (4, 5, 8, 16, 256)\n",
      "Layer5: (4, 5, 8, 16, 256)\n",
      "Layer6: (4, 5, 8, 16, 256)\n",
      "Layer7: (4, 5, 8, 16, 256)\n",
      "Layer8: (4, 5, 8, 16, 256)\n",
      "Layer9: (4, 5, 8, 16, 256)\n",
      "Layer10: (4, 5, 8, 16, 256)\n",
      "Layer11: (4, 5, 8, 16, 256)\n",
      "Layer12: (4, 5, 8, 16, 256)\n",
      "Layer13: (4, 5, 16, 32, 128)\n",
      "Layer14: (4, 5, 16, 32, 128)\n",
      "Layer15: (4, 5, 32, 64, 64)\n",
      "Layer16: (4, 5, 32, 64, 32)\n",
      "Layer17: (4, 5, 32, 64, 2)\n"
     ]
    },
    {
     "name": "stderr",
     "output_type": "stream",
     "text": [
      "WARNING:absl:At this time, the v2.11+ optimizer `tf.keras.optimizers.Adam` runs slowly on M1/M2 Macs, please use the legacy Keras optimizer instead, located at `tf.keras.optimizers.legacy.Adam`.\n"
     ]
    }
   ],
   "source": [
    "strategy = tf.distribute.MirroredStrategy()\n",
    "with strategy.scope():\n",
    "    model = create_model(f=F, h=H, w=W, ch=CH, bs=BS)\n",
    "    model.compile(optimizer=tf.keras.optimizers.Adam(), run_eagerly=None)\n",
    "    model.load_weights(MODEL_PATH)"
   ],
   "metadata": {
    "collapsed": false,
    "ExecuteTime": {
     "end_time": "2024-02-29T07:44:39.198449Z",
     "start_time": "2024-02-29T07:44:38.820667Z"
    }
   },
   "id": "bd2af6f6df098a02"
  },
  {
   "cell_type": "code",
   "execution_count": 8,
   "outputs": [
    {
     "name": "stdout",
     "output_type": "stream",
     "text": [
      "Loading validation variables file: validation.npy\n",
      "Loading validation mask file: validation_mask_99p.npy\n",
      "Creating x and y validation sets...\n"
     ]
    }
   ],
   "source": [
    "val_x, val_y = get_val_sets(variant='b', percentage=PERCENTAGE, include_elevation=True, missing_type=MISSING_MECHANISM)"
   ],
   "metadata": {
    "collapsed": false,
    "ExecuteTime": {
     "end_time": "2024-02-29T07:44:41.310370Z",
     "start_time": "2024-02-29T07:44:40.614934Z"
    }
   },
   "id": "1174049a58b34ee0"
  },
  {
   "cell_type": "code",
   "execution_count": 9,
   "outputs": [
    {
     "name": "stdout",
     "output_type": "stream",
     "text": [
      "(3646, 5, 32, 64, 5)\n",
      "(3650, 32, 64, 4)\n",
      "(3644, 5, 32, 64, 5) (3644, 32, 64, 2)\n"
     ]
    }
   ],
   "source": [
    "x = reshape_for_modelling(val_x, seq_shift_reshape=True)\n",
    "y = reshape_for_modelling(val_y, seq_shift_reshape=False)\n",
    "print(x.shape)\n",
    "print(y.shape)\n",
    "\n",
    "# Only need variables\n",
    "x = x[:3644]\n",
    "y = y[:3644, ..., :2]\n",
    "print(x.shape, y.shape)"
   ],
   "metadata": {
    "collapsed": false,
    "ExecuteTime": {
     "end_time": "2024-02-29T07:45:02.960511Z",
     "start_time": "2024-02-29T07:45:02.510447Z"
    }
   },
   "id": "eba04d03f9b0d8fd"
  },
  {
   "cell_type": "code",
   "execution_count": 10,
   "outputs": [
    {
     "name": "stderr",
     "output_type": "stream",
     "text": [
      "2024-02-29 08:45:05.938018: W tensorflow/core/framework/dataset.cc:959] Input of GeneratorDatasetOp::Dataset will not be optimized because the dataset does not implement the AsGraphDefInternal() method needed to apply optimizations.\n"
     ]
    },
    {
     "name": "stdout",
     "output_type": "stream",
     "text": [
      "911/911 [==============================] - 398s 437ms/step\n"
     ]
    }
   ],
   "source": [
    "pred = model.predict(x, batch_size=BS)"
   ],
   "metadata": {
    "collapsed": false,
    "ExecuteTime": {
     "end_time": "2024-02-29T07:51:44.643229Z",
     "start_time": "2024-02-29T07:45:03.683547Z"
    }
   },
   "id": "cb6cb9cb38580220"
  },
  {
   "cell_type": "code",
   "execution_count": 11,
   "outputs": [
    {
     "data": {
      "text/plain": "(3644, 32, 64, 2)"
     },
     "execution_count": 11,
     "metadata": {},
     "output_type": "execute_result"
    }
   ],
   "source": [
    "pred = get_median_pred_days(pred)\n",
    "pred.shape"
   ],
   "metadata": {
    "collapsed": false,
    "ExecuteTime": {
     "end_time": "2024-02-29T07:51:45.967896Z",
     "start_time": "2024-02-29T07:51:44.643229Z"
    }
   },
   "id": "4f74801d69544b09"
  },
  {
   "cell_type": "markdown",
   "source": [
    "## Error on Climatology"
   ],
   "metadata": {
    "collapsed": false
   },
   "id": "bbe4bad49c0f3a91"
  },
  {
   "cell_type": "code",
   "execution_count": 12,
   "outputs": [
    {
     "name": "stdout",
     "output_type": "stream",
     "text": [
      "Total error: 0.15289581027711507\n",
      "t2m error: 0.12458739012107731\n",
      "msl error: 0.1812042304331516\n"
     ]
    }
   ],
   "source": [
    "total_error, t2m_error, msl_error = calc_total_errors(y, pred)\n",
    "print(f\"Total error: {total_error}\")\n",
    "print(f\"t2m error: {t2m_error}\")\n",
    "print(f\"msl error: {msl_error}\")"
   ],
   "metadata": {
    "collapsed": false,
    "ExecuteTime": {
     "end_time": "2024-02-29T07:52:14.352181Z",
     "start_time": "2024-02-29T07:52:14.142360Z"
    }
   },
   "id": "f80030cb6118ba1"
  },
  {
   "cell_type": "code",
   "execution_count": 13,
   "outputs": [
    {
     "name": "stdout",
     "output_type": "stream",
     "text": [
      "t2m scaled: 1.1082420867566287\n",
      "msl scaled: 198.96460067059607\n"
     ]
    }
   ],
   "source": [
    "print(f\"t2m scaled: {scale_t2m_back(t2m_error, for_error=True)}\")\n",
    "print(f\"msl scaled: {scale_slp_back(msl_error, for_error=True)}\")"
   ],
   "metadata": {
    "collapsed": false,
    "ExecuteTime": {
     "end_time": "2024-02-29T07:52:19.140349Z",
     "start_time": "2024-02-29T07:52:19.115717Z"
    }
   },
   "id": "6a4351f5ee2540a4"
  },
  {
   "cell_type": "markdown",
   "source": [
    "## Error on anomaly"
   ],
   "metadata": {
    "collapsed": false
   },
   "id": "794875373755de5f"
  },
  {
   "cell_type": "code",
   "execution_count": 14,
   "outputs": [],
   "source": [
    "from src.config import TA_MU, TA_SIGMA, SLP_MU, SLP_SIGMA"
   ],
   "metadata": {
    "collapsed": false,
    "ExecuteTime": {
     "end_time": "2024-02-29T07:52:37.835635Z",
     "start_time": "2024-02-29T07:52:37.818274Z"
    }
   },
   "id": "b82b1e18e0fe31f8"
  },
  {
   "cell_type": "code",
   "execution_count": 15,
   "outputs": [],
   "source": [
    "unit_val_ymean = np.load(\"../../data_sets/ymean_sets/validation_ymean.npy\")\n",
    "\n",
    "normalized_gt = np.load(\"../../data_sets/variant_b/validation.npy\")\n",
    "normalized_gt = normalized_gt[:3644, 6:38, 2:66]\n",
    "\n",
    "normalized_val_ymean = (unit_val_ymean - np.array([TA_MU, SLP_MU])) / np.array([TA_SIGMA, SLP_SIGMA])\n",
    "normalized_val_ymean = normalized_val_ymean[:3644]"
   ],
   "metadata": {
    "collapsed": false,
    "ExecuteTime": {
     "end_time": "2024-02-29T07:52:42.823063Z",
     "start_time": "2024-02-29T07:52:42.646326Z"
    }
   },
   "id": "ba18f8bd7f188b3e"
  },
  {
   "cell_type": "code",
   "execution_count": 16,
   "outputs": [
    {
     "name": "stdout",
     "output_type": "stream",
     "text": [
      "0.15289581027711507\n"
     ]
    }
   ],
   "source": [
    "normalized_pred = pred\n",
    "    \n",
    "norm_pred_anom = normalized_pred - normalized_val_ymean\n",
    "norm_gt_anom = normalized_gt - normalized_val_ymean\n",
    "    \n",
    "normalized_anomaly_mae = np.mean(np.abs(norm_pred_anom - norm_gt_anom)) \n",
    "print(f\"{normalized_anomaly_mae}\")"
   ],
   "metadata": {
    "collapsed": false,
    "ExecuteTime": {
     "end_time": "2024-02-29T07:52:50.474202Z",
     "start_time": "2024-02-29T07:52:50.296632Z"
    }
   },
   "id": "35934e9eb0fc8707"
  },
  {
   "cell_type": "code",
   "execution_count": null,
   "outputs": [],
   "source": [],
   "metadata": {
    "collapsed": false
   },
   "id": "a7be9d0d588b70c8"
  }
 ],
 "metadata": {
  "kernelspec": {
   "display_name": "Python 3",
   "language": "python",
   "name": "python3"
  },
  "language_info": {
   "codemirror_mode": {
    "name": "ipython",
    "version": 2
   },
   "file_extension": ".py",
   "mimetype": "text/x-python",
   "name": "python",
   "nbconvert_exporter": "python",
   "pygments_lexer": "ipython2",
   "version": "2.7.6"
  }
 },
 "nbformat": 4,
 "nbformat_minor": 5
}

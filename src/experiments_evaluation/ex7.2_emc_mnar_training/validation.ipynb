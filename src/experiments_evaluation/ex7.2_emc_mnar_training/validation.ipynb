{
 "cells": [
  {
   "cell_type": "markdown",
   "source": [
    "# Validation of Experiment 7.2: MNAR Training"
   ],
   "metadata": {
    "collapsed": false
   },
   "id": "db0f365a69cd233"
  },
  {
   "cell_type": "code",
   "execution_count": null,
   "outputs": [],
   "source": [
    "import numpy as np\n",
    "import tensorflow as tf"
   ],
   "metadata": {
    "collapsed": false
   },
   "id": "899d43d32de48ed4"
  },
  {
   "cell_type": "code",
   "execution_count": null,
   "outputs": [],
   "source": [
    "%load_ext autoreload\n",
    "%autoreload 2"
   ],
   "metadata": {
    "collapsed": false
   },
   "id": "17a714e3a09e2dd3"
  },
  {
   "cell_type": "code",
   "execution_count": null,
   "outputs": [],
   "source": [
    "import os\n",
    "import sys\n",
    "from pathlib import Path\n",
    "SCRIPT_DIR = os.path.dirname(os.path.abspath(\"__init__.py\"))\n",
    "SRC_DIR = Path(SCRIPT_DIR).parent.parent.absolute()\n",
    "print(SCRIPT_DIR)\n",
    "print(SRC_DIR)\n",
    "sys.path.append(os.path.dirname(SRC_DIR))\n",
    "sys.path.append(os.path.dirname(str(SRC_DIR) + '/models'))"
   ],
   "metadata": {
    "collapsed": false
   },
   "id": "385f52c73f167ba"
  },
  {
   "cell_type": "code",
   "execution_count": null,
   "outputs": [],
   "source": [
    "from src.models.model2 import create_model\n",
    "from src.data_loaders.loading import get_val_sets\n",
    "from src.experiments_evaluation.validation_helpers import calc_temporal_errors, calc_total_errors, calc_spatial_errors, scale_t2m_back, scale_slp_back, reshape_for_modelling, get_median_pred_days"
   ],
   "metadata": {
    "collapsed": false
   },
   "id": "25e3b0e90057c4d3"
  },
  {
   "cell_type": "code",
   "execution_count": null,
   "outputs": [],
   "source": [
    "EXP_NAME = \"ex7.2_emc_mnar_training\""
   ],
   "metadata": {
    "collapsed": false
   },
   "id": "aacdb7cf5e934de4"
  },
  {
   "cell_type": "code",
   "execution_count": null,
   "outputs": [],
   "source": [],
   "metadata": {
    "collapsed": false
   },
   "id": "be6648bd410b9d24"
  },
  {
   "cell_type": "code",
   "execution_count": null,
   "outputs": [],
   "source": [
    "F = 5\n",
    "H = 32\n",
    "W = 64\n",
    "CH = 5  # t2m, msl, msk1, msk2, elev\n",
    "BS = 4\n",
    "PERCENTAGE = \"99\"\n",
    "MISSING_MECHANISM = \"mnar\"\n",
    "\n",
    "MODEL_PATH = str(SRC_DIR) + f\"/experiments_evaluation/{EXP_NAME}/model_checkpoint/p{PERCENTAGE}/\"\n",
    "MODEL_PATH"
   ],
   "metadata": {
    "collapsed": false
   },
   "id": "ac17bd867721d6b2"
  },
  {
   "cell_type": "code",
   "execution_count": null,
   "outputs": [],
   "source": [
    "strategy = tf.distribute.MirroredStrategy()\n",
    "with strategy.scope():\n",
    "    model = create_model(f=F, h=H, w=W, ch=CH, bs=BS)\n",
    "    model.compile(optimizer=tf.keras.optimizers.Adam(), run_eagerly=None)\n",
    "    model.load_weights(MODEL_PATH)"
   ],
   "metadata": {
    "collapsed": false
   },
   "id": "bd2af6f6df098a02"
  },
  {
   "cell_type": "code",
   "execution_count": null,
   "outputs": [],
   "source": [
    "val_x, val_y = get_val_sets(variant='b', percentage=PERCENTAGE, include_elevation=True, missing_type=MISSING_MECHANISM)"
   ],
   "metadata": {
    "collapsed": false
   },
   "id": "1174049a58b34ee0"
  },
  {
   "cell_type": "code",
   "execution_count": null,
   "outputs": [],
   "source": [
    "x = reshape_for_modelling(val_x, seq_shift_reshape=True)\n",
    "y = reshape_for_modelling(val_y, seq_shift_reshape=False)\n",
    "print(x.shape)\n",
    "print(y.shape)\n",
    "\n",
    "# Only need variables\n",
    "x = x[:3644]\n",
    "y = y[:3644, ..., :2]\n",
    "print(x.shape, y.shape)"
   ],
   "metadata": {
    "collapsed": false
   },
   "id": "eba04d03f9b0d8fd"
  },
  {
   "cell_type": "code",
   "execution_count": null,
   "outputs": [],
   "source": [
    "pred = model.predict(x, batch_size=BS)"
   ],
   "metadata": {
    "collapsed": false
   },
   "id": "cb6cb9cb38580220"
  },
  {
   "cell_type": "code",
   "execution_count": null,
   "outputs": [],
   "source": [
    "pred = get_median_pred_days(pred)\n",
    "pred.shape"
   ],
   "metadata": {
    "collapsed": false
   },
   "id": "4f74801d69544b09"
  },
  {
   "cell_type": "markdown",
   "source": [
    "## Error on Climatology"
   ],
   "metadata": {
    "collapsed": false
   },
   "id": "bbe4bad49c0f3a91"
  },
  {
   "cell_type": "code",
   "execution_count": null,
   "outputs": [],
   "source": [
    "total_error, t2m_error, msl_error = calc_total_errors(y, pred)\n",
    "print(f\"Total error: {total_error}\")\n",
    "print(f\"t2m error: {t2m_error}\")\n",
    "print(f\"msl error: {msl_error}\")"
   ],
   "metadata": {
    "collapsed": false
   },
   "id": "f80030cb6118ba1"
  },
  {
   "cell_type": "code",
   "execution_count": null,
   "outputs": [],
   "source": [
    "# Save prediction\n",
    "np.save(\"prediction/predicted.npy\", pred)\n",
    "\n",
    "# Get temporal Errors\n",
    "temp_total_err, temp_t2m_err, temp_msl_err = calc_temporal_errors(y, pred)\n",
    "np.save(f\"errors/temp_total_err_{PERCENTAGE}p.npy\", temp_total_err)\n",
    "np.save(f\"errors/temp_t2m_err_{PERCENTAGE}p.npy\", temp_t2m_err)\n",
    "np.save(f\"errors/temp_slp_err_{PERCENTAGE}p.npy\", temp_msl_err)\n",
    "\n",
    "# Get spatial errors\n",
    "spat_total_err, spat_t2m_err, spat_msl_err = calc_spatial_errors(y, pred)\n",
    "np.save(f\"errors/spat_total_err_{PERCENTAGE}p.npy\", spat_total_err)\n",
    "np.save(f\"errors/spat_t2m_err_{PERCENTAGE}p.npy\", spat_t2m_err)\n",
    "np.save(f\"errors/spat_slp_err_{PERCENTAGE}p.npy\", spat_msl_err)"
   ],
   "metadata": {
    "collapsed": false
   },
   "id": "b5404a9773ba4dca"
  },
  {
   "cell_type": "code",
   "execution_count": null,
   "outputs": [],
   "source": [
    "print(f\"t2m scaled: {scale_t2m_back(t2m_error, for_error=True)}\")\n",
    "print(f\"msl scaled: {scale_slp_back(msl_error, for_error=True)}\")"
   ],
   "metadata": {
    "collapsed": false
   },
   "id": "6a4351f5ee2540a4"
  },
  {
   "cell_type": "markdown",
   "source": [
    "## Error on anomaly"
   ],
   "metadata": {
    "collapsed": false
   },
   "id": "794875373755de5f"
  },
  {
   "cell_type": "code",
   "execution_count": null,
   "outputs": [],
   "source": [
    "from src.config import TA_MU, TA_SIGMA, SLP_MU, SLP_SIGMA"
   ],
   "metadata": {
    "collapsed": false
   },
   "id": "b82b1e18e0fe31f8"
  },
  {
   "cell_type": "code",
   "execution_count": null,
   "outputs": [],
   "source": [
    "unit_val_ymean = np.load(\"../../data_sets/ymean_sets/validation_ymean.npy\")\n",
    "\n",
    "normalized_gt = np.load(\"../../data_sets/variant_b/validation.npy\")\n",
    "normalized_gt = normalized_gt[:3644, 6:38, 2:66]\n",
    "\n",
    "normalized_val_ymean = (unit_val_ymean - np.array([TA_MU, SLP_MU])) / np.array([TA_SIGMA, SLP_SIGMA])\n",
    "normalized_val_ymean = normalized_val_ymean[:3644]"
   ],
   "metadata": {
    "collapsed": false
   },
   "id": "ba18f8bd7f188b3e"
  },
  {
   "cell_type": "code",
   "execution_count": null,
   "outputs": [],
   "source": [
    "normalized_pred = np.load(\"prediction/predicted.npy\")\n",
    "    \n",
    "norm_pred_anom = normalized_pred - normalized_val_ymean\n",
    "norm_gt_anom = normalized_gt - normalized_val_ymean\n",
    "    \n",
    "normalized_anomaly_mae = np.mean(np.abs(norm_pred_anom - norm_gt_anom)) \n",
    "print(f\"{normalized_anomaly_mae}\")"
   ],
   "metadata": {
    "collapsed": false
   },
   "id": "35934e9eb0fc8707"
  },
  {
   "cell_type": "code",
   "execution_count": null,
   "outputs": [],
   "source": [],
   "metadata": {
    "collapsed": false
   },
   "id": "a7be9d0d588b70c8"
  },
  {
   "cell_type": "markdown",
   "source": [
    "### RMSE"
   ],
   "metadata": {
    "collapsed": false
   },
   "id": "5f0236c7e852e5e5"
  },
  {
   "cell_type": "code",
   "execution_count": null,
   "outputs": [],
   "source": [
    "def calc_rmse(gt, pred):\n",
    "    squared_diffs = np.square(gt - pred)\n",
    "    mean_squared_diff = np.mean(squared_diffs)\n",
    "    return np.sqrt(mean_squared_diff)\n",
    "\n",
    "calc_rmse(norm_gt_anom, norm_pred_anom)"
   ],
   "metadata": {
    "collapsed": false
   },
   "id": "4170d3758d6bc0aa"
  },
  {
   "cell_type": "code",
   "execution_count": null,
   "outputs": [],
   "source": [],
   "metadata": {
    "collapsed": false
   },
   "id": "8ccef7cd4ab2d58d"
  }
 ],
 "metadata": {
  "kernelspec": {
   "display_name": "Python 3",
   "language": "python",
   "name": "python3"
  },
  "language_info": {
   "codemirror_mode": {
    "name": "ipython",
    "version": 2
   },
   "file_extension": ".py",
   "mimetype": "text/x-python",
   "name": "python",
   "nbconvert_exporter": "python",
   "pygments_lexer": "ipython2",
   "version": "2.7.6"
  }
 },
 "nbformat": 4,
 "nbformat_minor": 5
}

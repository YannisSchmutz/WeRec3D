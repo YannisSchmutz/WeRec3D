{
 "cells": [
  {
   "cell_type": "markdown",
   "source": [
    "# Analyze different Alpha Values"
   ],
   "metadata": {
    "collapsed": false
   },
   "id": "24e36653d868b485"
  },
  {
   "cell_type": "code",
   "outputs": [],
   "source": [
    "import numpy as np\n",
    "import tensorflow as tf\n",
    "import matplotlib.pyplot as plt\n",
    "import os\n",
    "import sys\n",
    "from pathlib import Path\n",
    "SCRIPT_DIR = os.path.dirname(os.path.abspath(\"__init__.py\"))\n",
    "SRC_DIR = Path(SCRIPT_DIR).parent.absolute()\n",
    "print(SRC_DIR)\n",
    "sys.path.append(os.path.dirname(SRC_DIR))\n",
    "# To execute on server:\n",
    "# sys.path.append(os.path.dirname(SRC_DIR.parent))\n",
    "sys.path.append(os.path.dirname(str(SRC_DIR) + '/models'))\n",
    "from src.data_loaders.loading import get_val_sets\n",
    "from src.experiments_evaluation.validation_helpers import calc_total_errors, reshape_for_modelling, get_median_pred_days\n",
    "from src.models.model1 import create_model\n",
    "\n",
    "from src.experiments_evaluation.experiment_data_puller import get_experiment_metrics"
   ],
   "metadata": {
    "collapsed": false
   },
   "id": "603911dad2d8ea5f",
   "execution_count": null
  },
  {
   "cell_type": "code",
   "outputs": [],
   "source": [
    "import matplotlib.pyplot as plt"
   ],
   "metadata": {
    "collapsed": false
   },
   "id": "ab97e76dc02e9023",
   "execution_count": null
  },
  {
   "cell_type": "code",
   "outputs": [],
   "source": [
    "metrics_0 = get_experiment_metrics(\"ablation_alpha_0.0\", additional_metrics=[\"rmse\", \"masked_rmse\", \"val_rmse\", \"val_masked_rmse\"])\n",
    "metrics_0_5 = get_experiment_metrics(\"ex3_inc_pretrain\")\n",
    "metrics_1 = get_experiment_metrics(\"ablation_alpha_1.0\", additional_metrics=[\"rmse\", \"masked_rmse\", \"val_rmse\", \"val_masked_rmse\"])\n"
   ],
   "metadata": {
    "collapsed": false
   },
   "id": "20e76af23d34a023",
   "execution_count": null
  },
  {
   "cell_type": "code",
   "outputs": [],
   "source": [
    "run_names = ['inc_pretrain_10p',\n",
    "             'inc_pretrain_20p',\n",
    "             'inc_pretrain_30p',\n",
    "             'inc_pretrain_40p',\n",
    "             'inc_pretrain_50p',\n",
    "             'inc_pretrain_60p',\n",
    "             'inc_pretrain_70p',       \n",
    "             'inc_pretrain_80p',\n",
    "             'inc_pretrain_90p',\n",
    "             'inc_pretrain_99p']\n",
    "\n",
    "err_key = \"val_masked_mae\"\n",
    "run_errors = []\n",
    "for run in run_names:\n",
    "    # TODO: ATM only masked_val_mae as masked_val_rmse is not available for ex3 \n",
    "    err0 = min(metrics_0[run][err_key])\n",
    "    err0_5 = min(metrics_0_5[run][err_key])\n",
    "    err1 = min(metrics_1[run][err_key])\n",
    "    run_errors.append((err0, err0_5, err1))"
   ],
   "metadata": {
    "collapsed": false
   },
   "id": "2e99d5c4ff4736b2",
   "execution_count": null
  },
  {
   "cell_type": "code",
   "outputs": [],
   "source": [
    "run_errors"
   ],
   "metadata": {
    "collapsed": false
   },
   "id": "36ec329d2045bd38",
   "execution_count": null
  },
  {
   "cell_type": "code",
   "outputs": [],
   "source": [
    "fig, ax = plt.subplots(1, 1, figsize=(7, 5))\n",
    "\n",
    "x = list(range(len(run_errors)))\n",
    "x_labels = [r.split('_')[-1].replace('p', '%') for r in run_names]\n",
    "\n",
    "#ax.plot(x, [e[0] for e in run_errors], label=\"alpha=0.0\")\n",
    "#ax.scatter(x, [e[0] for e in run_errors])\n",
    "\n",
    "ax.plot(x, [e[1] for e in run_errors], label=\"alpha=0.5\")\n",
    "ax.scatter(x, [e[1] for e in run_errors])\n",
    "\n",
    "ax.plot(x, [e[2] for e in run_errors], label=\"alpha=1.0\")\n",
    "ax.scatter(x, [e[2] for e in run_errors])\n",
    "\n",
    "ax.set_xlabel(\"Percentage Missing\")\n",
    "ax.set_ylabel(\"Val MAE\")\n",
    "\n",
    "plt.xticks(x, x_labels)\n",
    "\n",
    "plt.grid(True)\n",
    "plt.legend()"
   ],
   "metadata": {
    "collapsed": false
   },
   "id": "7100983b0cd4d98e",
   "execution_count": null
  },
  {
   "cell_type": "code",
   "outputs": [],
   "source": [],
   "metadata": {
    "collapsed": false
   },
   "id": "efc6ca16fbcfd440"
  },
  {
   "cell_type": "code",
   "outputs": [],
   "source": [],
   "metadata": {
    "collapsed": false
   },
   "id": "71eb3997bff755a3"
  },
  {
   "cell_type": "markdown",
   "source": [
    "## Validate using Median predictions and rmse"
   ],
   "metadata": {
    "collapsed": false
   },
   "id": "52ea03ee17964a7f"
  },
  {
   "cell_type": "code",
   "outputs": [],
   "source": [
    "from src.models.metrics import masked_rmse, masked_mae\n",
    "from pprint import pp"
   ],
   "metadata": {
    "collapsed": false
   },
   "id": "d05303a10b903656",
   "execution_count": null
  },
  {
   "cell_type": "code",
   "outputs": [],
   "source": [
    "F = 5\n",
    "H = 32\n",
    "W = 64\n",
    "CH = 4  # t2m, msl, msk1, msk2\n",
    "BS = 4\n",
    "\n",
    "ALPHAS = [1.0, 0.5]\n",
    "WEIGHT_PATHS = [\"./model_checkpoint/p{p}_alpha1.0.weights.h5\", \n",
    "                \"../ex3_incremental_pretraining/model_checkpoint/p{p}/\"]\n",
    "PERCENTAGES = list(range(10, 100, 10)) + [99]\n",
    "\n",
    "for p in PERCENTAGES:\n",
    "    print(WEIGHT_PATHS[0].format(p=p))"
   ],
   "metadata": {
    "collapsed": false
   },
   "id": "bee042efde1d8e0c",
   "execution_count": null
  },
  {
   "cell_type": "code",
   "outputs": [],
   "source": [
    "#                     mmae,mrmse   mmae,mrmse\n",
    "pred_errors = {'1.0': [], '0.5': []}\n",
    "\n",
    "\"\"\"\n",
    "There is a keras version conflict ATM. Pre submission models were trained on keras V2, ablation models on keras V3.  \n",
    "So one has to switch manually between versions here until this is resolved.\n",
    "\"\"\"\n",
    "alpha_id = 1\n",
    "\n",
    "alpha = ALPHAS[alpha_id]\n",
    "weight_base_path = WEIGHT_PATHS[alpha_id]\n",
    "print(f\"=== {alpha} ===\")\n",
    "for percentage in PERCENTAGES:\n",
    "    weight_path = weight_base_path.format(p=percentage)\n",
    "    print(weight_path)\n",
    "    \n",
    "    \n",
    "    model = create_model(f=F, h=H, w=W, ch=CH, bs=BS, alpha=alpha)\n",
    "    model.compile(optimizer=tf.keras.optimizers.Adam(), run_eagerly=None)\n",
    "    model.load_weights(weight_path)\n",
    "    \n",
    "    \n",
    "    val_x, val_y = get_val_sets(variant='b', \n",
    "                            percentage=percentage, \n",
    "                            include_elevation=False, \n",
    "                            pi_replacement=False)\n",
    "    \n",
    "    x = reshape_for_modelling(val_x, seq_shift_reshape=True)\n",
    "    y = reshape_for_modelling(val_y, seq_shift_reshape=False)\n",
    "    x = x[:3644]\n",
    "    y = y[:3644]\n",
    "    \n",
    "    pred = model.predict(x, batch_size=BS)\n",
    "    # Reshape back over time\n",
    "    pred = get_median_pred_days(pred)\n",
    "    \n",
    "    # Add pseudo batch dimension\n",
    "    y = np.expand_dims(y, axis=0)\n",
    "    pred = np.expand_dims(pred, axis=0)\n",
    "    mmae = masked_mae(y, pred)\n",
    "    mrmse = masked_rmse(y, pred)\n",
    "    \n",
    "    pred_errors[str(alpha)].append((mmae, mrmse))\n",
    "    print(mmae, mrmse)\n",
    "        \n",
    "pp(pred_errors)"
   ],
   "metadata": {
    "collapsed": false
   },
   "id": "35971037297a489",
   "execution_count": null
  },
  {
   "cell_type": "code",
   "outputs": [],
   "source": [
    "pred_errors = {'1.0': [(0.037519798, 0.05349773),\n",
    "                       (0.02915723, 0.045076057),\n",
    "                       (0.024065629, 0.03715565),\n",
    "                       (0.023238108, 0.035438348),\n",
    "                       (0.023416711, 0.035885736),\n",
    "                       (0.02621744, 0.041525215),\n",
    "                       (0.028753346, 0.052392725),\n",
    "                       (0.034116045, 0.05239984),\n",
    "                       (0.04201902, 0.06509155),\n",
    "                       (0.123869844, 0.18993624)],\n",
    "               '0.5': [(0.03662329, 0.052227776),\n",
    "                       (0.036930293, 0.049617775),\n",
    "                       (0.027890544, 0.0409855),\n",
    "                       (0.025128774, 0.037049927),\n",
    "                       (0.025206255, 0.037059475),\n",
    "                       (0.024319978, 0.036160108),\n",
    "                       (0.026216825, 0.038648523),\n",
    "                       (0.030787272, 0.04506469),\n",
    "                       (0.037754577, 0.057099637),\n",
    "                       (0.11138985, 0.16427341)]\n",
    "               }"
   ],
   "metadata": {
    "collapsed": false
   },
   "id": "c86ce943bbef6ad7",
   "execution_count": null
  },
  {
   "cell_type": "code",
   "outputs": [],
   "source": [
    "fig, ax = plt.subplots(1, 1, figsize=(7, 5))\n",
    "\n",
    "x = list(range(len(pred_errors['1.0'])))\n",
    "x_labels = [r.split('_')[-1].replace('p', '%') for r in run_names]\n",
    "\n",
    "error_id = 1 # Masked RMSE\n",
    "\n",
    "ax.plot(x, [e[error_id] for e in pred_errors['0.5']], label=r\"Linear combination ($\\alpha=0.5$)\")\n",
    "ax.scatter(x, [e[error_id] for e in pred_errors['0.5']])\n",
    "\n",
    "ax.plot(x, [e[error_id] for e in pred_errors['1.0']], label=r\"Masked error only ($\\alpha=1.0$)\")\n",
    "ax.scatter(x, [e[error_id] for e in pred_errors['1.0']])\n",
    "\n",
    "ax.set_xlabel(\"Percentage Missing\")\n",
    "ax.set_ylabel(\"Validation Masked RMSE\")\n",
    "\n",
    "plt.xticks(x, x_labels)\n",
    "\n",
    "plt.grid(True)\n",
    "plt.legend()\n",
    "\n",
    "\n",
    "plt.savefig(f\"alpha_ablation.png\", \n",
    "            bbox_inches='tight',\n",
    "            pad_inches=0.1,\n",
    "            dpi=300,\n",
    "            )"
   ],
   "metadata": {
    "collapsed": false
   },
   "id": "3d32ff33646174d1",
   "execution_count": null
  },
  {
   "cell_type": "code",
   "outputs": [],
   "source": [],
   "metadata": {
    "collapsed": false
   },
   "id": "c9b307bf8454190"
  }
 ],
 "metadata": {
  "kernelspec": {
   "display_name": "Python 3",
   "language": "python",
   "name": "python3"
  },
  "language_info": {
   "codemirror_mode": {
    "name": "ipython",
    "version": 2
   },
   "file_extension": ".py",
   "mimetype": "text/x-python",
   "name": "python",
   "nbconvert_exporter": "python",
   "pygments_lexer": "ipython2",
   "version": "2.7.6"
  }
 },
 "nbformat": 4,
 "nbformat_minor": 5
}

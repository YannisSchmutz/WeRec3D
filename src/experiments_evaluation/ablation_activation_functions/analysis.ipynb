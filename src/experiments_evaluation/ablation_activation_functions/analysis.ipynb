{
 "cells": [
  {
   "cell_type": "markdown",
   "source": [
    "# Analyze different Activation Function Combinations\n",
    "\n",
    "af_variant == 1 -> all elu, 17 linear, 16&15 tanh\n",
    "af_variant == 2 -> all elu, 17 linear, 16 tanh\n",
    "af_variant == 3 -> all elu, 17 linear\n",
    "af_variant == 4 -> all leaky_relu, 17 linear\n",
    "af_variant == 5 -> all leaky_relu, 17 linear, 16 tanh\n",
    "af_variant == 6 -> all leaky_relu, 17 linear, 16&15 tanh"
   ],
   "metadata": {
    "collapsed": false
   },
   "id": "3a481592a744da55"
  },
  {
   "cell_type": "code",
   "outputs": [],
   "source": [
    "import numpy as np\n",
    "import tensorflow as tf\n",
    "import matplotlib.pyplot as plt\n",
    "import os\n",
    "import sys\n",
    "from pathlib import Path\n",
    "SCRIPT_DIR = os.path.dirname(os.path.abspath(\"__init__.py\"))\n",
    "SRC_DIR = Path(SCRIPT_DIR).parent.absolute()\n",
    "print(SRC_DIR)\n",
    "sys.path.append(os.path.dirname(SRC_DIR))\n",
    "# To execute on server:\n",
    "# sys.path.append(os.path.dirname(SRC_DIR.parent))\n",
    "sys.path.append(os.path.dirname(str(SRC_DIR) + '/models'))\n",
    "from src.data_loaders.loading import get_val_sets\n",
    "from src.experiments_evaluation.validation_helpers import calc_total_errors, reshape_for_modelling, get_median_pred_days\n",
    "from src.models.model1 import create_model\n",
    "\n",
    "from src.experiments_evaluation.experiment_data_puller import get_experiment_metrics\n"
   ],
   "metadata": {
    "collapsed": false
   },
   "id": "aa3627de23ad4a15",
   "execution_count": null
  },
  {
   "cell_type": "code",
   "outputs": [],
   "source": [
    "metrics = get_experiment_metrics(\"ablation_activation_functions\", additional_metrics=[\"rmse\", \"masked_rmse\", \"val_rmse\", \"val_masked_rmse\"])"
   ],
   "metadata": {
    "collapsed": false
   },
   "id": "4a55f8f4ccc6ce6e",
   "execution_count": null
  },
  {
   "cell_type": "code",
   "outputs": [],
   "source": [
    "_min_name = None\n",
    "_min_val = 999\n",
    "for k in sorted(metrics.keys()):\n",
    "    # min_val_error = min(metrics[k]['val_mae'])\n",
    "    # min_val_error = min(metrics[k]['val_masked_mae'])\n",
    "    min_val_error = min(metrics[k]['val_masked_rmse'])\n",
    "    print(f\"{k}: {min_val_error}\")\n",
    "    if min_val_error <= _min_val:\n",
    "        _min_val = min_val_error\n",
    "        _min_name = k\n",
    "        \n",
    "print()\n",
    "print(f\"Minimal error for {_min_name}\")"
   ],
   "metadata": {
    "collapsed": false
   },
   "id": "c34a8cd72a8c2f3d",
   "execution_count": null
  },
  {
   "cell_type": "code",
   "outputs": [],
   "source": [],
   "metadata": {
    "collapsed": false
   },
   "id": "76b2566c67438db4"
  },
  {
   "cell_type": "markdown",
   "source": [
    "## Validate using median predictions"
   ],
   "metadata": {
    "collapsed": false
   },
   "id": "71acd048ffeb6015"
  },
  {
   "cell_type": "code",
   "outputs": [],
   "source": [
    "from src.models.metrics import masked_rmse, masked_mae\n",
    "from pprint import pp"
   ],
   "metadata": {
    "collapsed": false
   },
   "id": "9cbe3a6e986bbc15",
   "execution_count": null
  },
  {
   "cell_type": "code",
   "outputs": [],
   "source": [
    "F = 5\n",
    "H = 32\n",
    "W = 64\n",
    "CH = 4  # t2m, msl, msk1, msk2\n",
    "BS = 4\n",
    "PERCENTAGE = \"99\""
   ],
   "metadata": {
    "collapsed": false
   },
   "id": "32eb0b25bf666840"
  },
  {
   "cell_type": "code",
   "outputs": [],
   "source": [
    "weight_path = \"./model_checkpoint/\"\n",
    "model_weights = sorted(os.listdir(weight_path))\n",
    "print(model_weights)"
   ],
   "metadata": {
    "collapsed": false
   },
   "id": "f844329dd25e6074",
   "execution_count": null
  },
  {
   "cell_type": "code",
   "outputs": [],
   "source": [
    "#        (w-name, mmae, mrmse)\n",
    "errors = []\n",
    "for i, mw in enumerate(model_weights):\n",
    "    p = weight_path + mw\n",
    "    \n",
    "    strategy = tf.distribute.MirroredStrategy()\n",
    "    with strategy.scope():\n",
    "        model = create_model(f=F, h=H, w=W, ch=CH, bs=BS, alpha=1.0, af_variant=i+1)\n",
    "        \n",
    "        model.compile(optimizer=tf.keras.optimizers.Adam(), run_eagerly=None)\n",
    "        model.load_weights(p)\n",
    "    \n",
    "    # Load validation data\n",
    "    val_x, val_y = get_val_sets(variant='a', \n",
    "                                percentage=PERCENTAGE, \n",
    "                                include_elevation=False, \n",
    "                                pi_replacement=False)\n",
    "        \n",
    "    x = reshape_for_modelling(val_x, seq_shift_reshape=True)\n",
    "    y = reshape_for_modelling(val_y, seq_shift_reshape=False)\n",
    "    \n",
    "    # On CPU raises error if seq / BS not int\n",
    "    x = x[:3644]\n",
    "    y = y[:3644]\n",
    "    # y = y[:3644, ..., :2]\n",
    "    \n",
    "    pred = model.predict(x, batch_size=BS)\n",
    "    # Reshape back over time\n",
    "    pred = get_median_pred_days(pred)    \n",
    "    \n",
    "    # Add pseudo batch dimension\n",
    "    y = np.expand_dims(y, axis=0)\n",
    "    pred = np.expand_dims(pred, axis=0)\n",
    "    mmae = masked_mae(y, pred)\n",
    "    mrmse = masked_rmse(y, pred)\n",
    "    print(f\"    Errors: {(mw, mmae, mrmse)}\")\n",
    "    errors.append((mw, mmae, mrmse))\n",
    "\n",
    "pp(errors)"
   ],
   "metadata": {
    "collapsed": false
   },
   "id": "d5bd0073fe878950",
   "execution_count": null
  },
  {
   "cell_type": "code",
   "outputs": [],
   "source": [
    "# Output was:\n",
    "\"\"\"\n",
    "Total error: 0.21386218472078308 (acV1.weights.h5)\n",
    "Total error: 0.20817518133678156 (acV2.weights.h5)\n",
    "Total error: 0.217032751154491   (acV3.weights.h5)\n",
    "Total error: 0.23311737759617876 (acV4.weights.h5)\n",
    "Total error: 0.2395523414933633  (acV5.weights.h5)\n",
    "Total error: 0.21821278327091084 (acV6.weights.h5)\n",
    "Total error: 0.21105723436021928 (acV7.weights.h5)\n",
    "Total error: 0.20657299571031734 (acV8.weights.h5)\n",
    "Total error: 0.20756856470150223 (acV9.weights.h5)\n",
    "\"\"\"\n",
    "pass"
   ],
   "metadata": {
    "collapsed": false
   },
   "id": "ee3eb1c3ebb3d797",
   "execution_count": null
  },
  {
   "cell_type": "code",
   "outputs": [],
   "source": [
    "# Rearanged for a better order.\n",
    "output_errors = [('acV3.weights.h5', 0.2178039, 0.32375696),\n",
    "                 ('acV2.weights.h5', 0.20940888, 0.32775164),\n",
    "                 ('acV1.weights.h5', 0.21498795, 0.32738653),\n",
    "                 ('acV4.weights.h5', 0.23419644, 0.34894165),\n",
    "                 ('acV5.weights.h5', 0.24075285, 0.35452983),\n",
    "                 ('acV6.weights.h5', 0.21945937, 0.3355961),\n",
    "                 ('acV7.weights.h5', 0.21218418, 0.32305315),\n",
    "                 ('acV8.weights.h5', 0.20782214, 0.3175352),\n",
    "                 ('acV9.weights.h5', 0.20882525, 0.3183367)]\n",
    "\n",
    "variant_descs = ['a: ELU',\n",
    "                 'b: ELU, 1 tanh',\n",
    "                 'c: ELU, 2 tanh (*)', \n",
    "                 'd: LeakyRelu',\n",
    "                 'e: LeakyRelu, 1 tanh', \n",
    "                 'f: LeakyRelu, 2 tanh',\n",
    "                 'g: Relu',\n",
    "                 'h: Relu, 1 tanh',\n",
    "                 'i: Relu, 2 tanh',\n",
    "                 ]\n",
    "\n",
    "y_mae = [o[1] for o in output_errors]\n",
    "y_rmse = [o[2] for o in output_errors]\n",
    "\n",
    "y = y_rmse\n",
    "\n",
    "x = list(range(1, len(y_mae)+1))\n",
    "\n",
    "fig, ax = plt.subplots(1,1, figsize=(7, 5))\n",
    "#scat = ax.scatter(x, y_mae, s=75, c=list(range(len(x))))\n",
    "scat = ax.scatter(x, y, s=75, c=list(range(len(x))))\n",
    "ax.grid(True)\n",
    "\n",
    "ax.set_xlabel(\"Activation Function Variants\")\n",
    "ax.set_ylabel(\"Validation Error\")\n",
    "\n",
    "plt.xticks(x, ['a', 'b', 'c (*)', 'd', 'e', 'f', 'g', 'h', 'i'])\n",
    "\n",
    "plt.legend(handles=scat.legend_elements()[0], labels=variant_descs)\n",
    "\n",
    "\n",
    "plt.axhline(y=np.mean(y), color='r', linestyle='-')\n",
    "plt.axhline(y=np.mean(y) + np.std(y), color='r', linestyle='--')\n",
    "plt.axhline(y=np.mean(y) - np.std(y), color='r', linestyle='--')"
   ],
   "metadata": {
    "collapsed": false
   },
   "id": "b96876a5e239d1e",
   "execution_count": null
  },
  {
   "cell_type": "code",
   "outputs": [],
   "source": [],
   "metadata": {
    "collapsed": false
   },
   "id": "8278aca6b0e1063",
   "execution_count": null
  },
  {
   "cell_type": "markdown",
   "source": [
    "## Conclusion:\n",
    "\n",
    "There exist better options of activation function arrangements. \n",
    "It is solely tested on the baseline implementation. \n",
    "Whether the same applies to enhanced model variants remains open.\n"
   ],
   "metadata": {
    "collapsed": false
   },
   "id": "6b02f24e3bc4231b"
  },
  {
   "cell_type": "code",
   "outputs": [],
   "source": [],
   "metadata": {
    "collapsed": false
   },
   "id": "8ecd39126705aff0"
  }
 ],
 "metadata": {
  "kernelspec": {
   "display_name": "Python 3",
   "language": "python",
   "name": "python3"
  },
  "language_info": {
   "codemirror_mode": {
    "name": "ipython",
    "version": 2
   },
   "file_extension": ".py",
   "mimetype": "text/x-python",
   "name": "python",
   "nbconvert_exporter": "python",
   "pygments_lexer": "ipython2",
   "version": "2.7.6"
  }
 },
 "nbformat": 4,
 "nbformat_minor": 5
}

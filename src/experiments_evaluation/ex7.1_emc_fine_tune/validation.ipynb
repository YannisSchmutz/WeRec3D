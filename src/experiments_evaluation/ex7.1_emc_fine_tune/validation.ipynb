{
 "cells": [
  {
   "cell_type": "markdown",
   "source": [
    "# Validation of Experiment 7.1: Fine Tuning"
   ],
   "metadata": {
    "collapsed": false
   },
   "id": "db0f365a69cd233"
  },
  {
   "cell_type": "code",
   "execution_count": 1,
   "outputs": [],
   "source": [
    "import numpy as np\n",
    "import tensorflow as tf"
   ],
   "metadata": {
    "collapsed": false,
    "ExecuteTime": {
     "end_time": "2024-02-29T07:04:10.631307Z",
     "start_time": "2024-02-29T07:04:08.596941Z"
    }
   },
   "id": "899d43d32de48ed4"
  },
  {
   "cell_type": "code",
   "execution_count": 2,
   "outputs": [],
   "source": [
    "%load_ext autoreload\n",
    "%autoreload 2"
   ],
   "metadata": {
    "collapsed": false,
    "ExecuteTime": {
     "end_time": "2024-02-29T07:04:11.377086Z",
     "start_time": "2024-02-29T07:04:11.348822Z"
    }
   },
   "id": "17a714e3a09e2dd3"
  },
  {
   "cell_type": "code",
   "execution_count": 3,
   "outputs": [
    {
     "name": "stdout",
     "output_type": "stream",
     "text": [
      "/Users/yannis/PycharmProjects/WeRec3D/src/experiments_evaluation/ex7.1_emc_fine_tune\n",
      "/Users/yannis/PycharmProjects/WeRec3D/src\n"
     ]
    }
   ],
   "source": [
    "import os\n",
    "import sys\n",
    "from pathlib import Path\n",
    "SCRIPT_DIR = os.path.dirname(os.path.abspath(\"__init__.py\"))\n",
    "SRC_DIR = Path(SCRIPT_DIR).parent.parent.absolute()\n",
    "print(SCRIPT_DIR)\n",
    "print(SRC_DIR)\n",
    "sys.path.append(os.path.dirname(SRC_DIR))\n",
    "sys.path.append(os.path.dirname(str(SRC_DIR) + '/models'))"
   ],
   "metadata": {
    "collapsed": false,
    "ExecuteTime": {
     "end_time": "2024-02-29T07:04:12.886231Z",
     "start_time": "2024-02-29T07:04:12.868420Z"
    }
   },
   "id": "385f52c73f167ba"
  },
  {
   "cell_type": "code",
   "execution_count": 9,
   "outputs": [],
   "source": [
    "from src.models.model2 import create_model\n",
    "from src.data_loaders.loading import get_val_sets\n",
    "from src.experiments_evaluation.validation_helpers import calc_total_errors, scale_t2m_back, scale_slp_back, reshape_for_modelling, get_median_pred_days"
   ],
   "metadata": {
    "collapsed": false,
    "ExecuteTime": {
     "end_time": "2024-02-29T07:04:46.967177Z",
     "start_time": "2024-02-29T07:04:46.947833Z"
    }
   },
   "id": "25e3b0e90057c4d3"
  },
  {
   "cell_type": "code",
   "execution_count": 5,
   "outputs": [],
   "source": [
    "EXP_NAME = \"ex7.1_emc_fine_tune\""
   ],
   "metadata": {
    "collapsed": false,
    "ExecuteTime": {
     "end_time": "2024-02-29T07:04:19.731864Z",
     "start_time": "2024-02-29T07:04:19.712266Z"
    }
   },
   "id": "aacdb7cf5e934de4"
  },
  {
   "cell_type": "code",
   "execution_count": 5,
   "outputs": [],
   "source": [],
   "metadata": {
    "collapsed": false,
    "ExecuteTime": {
     "end_time": "2024-02-29T07:04:20.574576Z",
     "start_time": "2024-02-29T07:04:20.572526Z"
    }
   },
   "id": "be6648bd410b9d24"
  },
  {
   "cell_type": "code",
   "execution_count": 6,
   "outputs": [
    {
     "data": {
      "text/plain": "'/Users/yannis/PycharmProjects/WeRec3D/src/experiments_evaluation/ex7.1_emc_fine_tune/model_checkpoint/p99/'"
     },
     "execution_count": 6,
     "metadata": {},
     "output_type": "execute_result"
    }
   ],
   "source": [
    "F = 5\n",
    "H = 32\n",
    "W = 64\n",
    "CH = 5  # t2m, msl, msk1, msk2, elev\n",
    "BS = 4\n",
    "PERCENTAGE = \"99\"\n",
    "MISSING_MECHANISM = \"mnar\"\n",
    "\n",
    "MODEL_PATH = str(SRC_DIR) + f\"/experiments_evaluation/{EXP_NAME}/model_checkpoint/p{PERCENTAGE}/\"\n",
    "MODEL_PATH"
   ],
   "metadata": {
    "collapsed": false,
    "ExecuteTime": {
     "end_time": "2024-02-29T07:04:22.035239Z",
     "start_time": "2024-02-29T07:04:22.016186Z"
    }
   },
   "id": "ac17bd867721d6b2"
  },
  {
   "cell_type": "code",
   "execution_count": 7,
   "outputs": [
    {
     "name": "stdout",
     "output_type": "stream",
     "text": [
      "INFO:tensorflow:Using MirroredStrategy with devices ('/job:localhost/replica:0/task:0/device:CPU:0',)\n",
      "Input image batch shape: (4, 5, 32, 64, 5)\n",
      "Number output channels: 2\n",
      "Layer1: (4, 5, 32, 64, 64)\n",
      "Layer2: (4, 5, 16, 32, 128)\n",
      "Layer3: (4, 5, 16, 32, 128)\n",
      "Layer4: (4, 5, 8, 16, 256)\n",
      "Layer5: (4, 5, 8, 16, 256)\n",
      "Layer6: (4, 5, 8, 16, 256)\n",
      "Layer7: (4, 5, 8, 16, 256)\n",
      "Layer8: (4, 5, 8, 16, 256)\n",
      "Layer9: (4, 5, 8, 16, 256)\n",
      "Layer10: (4, 5, 8, 16, 256)\n",
      "Layer11: (4, 5, 8, 16, 256)\n",
      "Layer12: (4, 5, 8, 16, 256)\n",
      "Layer13: (4, 5, 16, 32, 128)\n",
      "Layer14: (4, 5, 16, 32, 128)\n",
      "Layer15: (4, 5, 32, 64, 64)\n",
      "Layer16: (4, 5, 32, 64, 32)\n",
      "Layer17: (4, 5, 32, 64, 2)\n"
     ]
    },
    {
     "name": "stderr",
     "output_type": "stream",
     "text": [
      "WARNING:absl:At this time, the v2.11+ optimizer `tf.keras.optimizers.Adam` runs slowly on M1/M2 Macs, please use the legacy Keras optimizer instead, located at `tf.keras.optimizers.legacy.Adam`.\n"
     ]
    }
   ],
   "source": [
    "strategy = tf.distribute.MirroredStrategy()\n",
    "with strategy.scope():\n",
    "    model = create_model(f=F, h=H, w=W, ch=CH, bs=BS)\n",
    "    model.compile(optimizer=tf.keras.optimizers.Adam(), run_eagerly=None)\n",
    "    model.load_weights(MODEL_PATH)"
   ],
   "metadata": {
    "collapsed": false,
    "ExecuteTime": {
     "end_time": "2024-02-29T07:04:23.261315Z",
     "start_time": "2024-02-29T07:04:22.888803Z"
    }
   },
   "id": "bd2af6f6df098a02"
  },
  {
   "cell_type": "code",
   "execution_count": 14,
   "outputs": [
    {
     "name": "stdout",
     "output_type": "stream",
     "text": [
      "Loading validation variables file: validation.npy\n",
      "Loading validation mask file: validation_mask_99p.npy\n",
      "Creating x and y validation sets...\n",
      "(3653, 40, 68, 5)\n",
      "(3653, 40, 68, 4)\n"
     ]
    }
   ],
   "source": [
    "val_x, val_y = get_val_sets(variant='b', percentage=PERCENTAGE, include_elevation=True, missing_type=MISSING_MECHANISM)\n",
    "print(val_x.shape)\n",
    "print(val_y.shape)"
   ],
   "metadata": {
    "collapsed": false,
    "ExecuteTime": {
     "end_time": "2024-02-29T07:30:00.928081Z",
     "start_time": "2024-02-29T07:30:00.117838Z"
    }
   },
   "id": "1174049a58b34ee0"
  },
  {
   "cell_type": "code",
   "execution_count": 15,
   "outputs": [
    {
     "name": "stdout",
     "output_type": "stream",
     "text": [
      "(3646, 5, 32, 64, 5)\n",
      "(3650, 32, 64, 4)\n"
     ]
    }
   ],
   "source": [
    "x = reshape_for_modelling(val_x, seq_shift_reshape=True)\n",
    "y = reshape_for_modelling(val_y, seq_shift_reshape=False)\n",
    "print(x.shape)\n",
    "print(y.shape)"
   ],
   "metadata": {
    "collapsed": false,
    "ExecuteTime": {
     "end_time": "2024-02-29T07:30:19.826322Z",
     "start_time": "2024-02-29T07:30:19.335185Z"
    }
   },
   "id": "6e6836380e3b7c2b"
  },
  {
   "cell_type": "code",
   "execution_count": 16,
   "outputs": [
    {
     "name": "stdout",
     "output_type": "stream",
     "text": [
      "(3644, 5, 32, 64, 5) (3644, 32, 64, 2)\n"
     ]
    }
   ],
   "source": [
    "# Only need variables\n",
    "x = x[:3644]\n",
    "y = y[:3644, ..., :2]\n",
    "print(x.shape, y.shape)"
   ],
   "metadata": {
    "collapsed": false,
    "ExecuteTime": {
     "end_time": "2024-02-29T07:32:07.664765Z",
     "start_time": "2024-02-29T07:32:07.639523Z"
    }
   },
   "id": "eba04d03f9b0d8fd"
  },
  {
   "cell_type": "code",
   "execution_count": 17,
   "outputs": [
    {
     "name": "stderr",
     "output_type": "stream",
     "text": [
      "2024-02-29 08:32:17.036400: W tensorflow/core/framework/dataset.cc:959] Input of GeneratorDatasetOp::Dataset will not be optimized because the dataset does not implement the AsGraphDefInternal() method needed to apply optimizations.\n"
     ]
    },
    {
     "name": "stdout",
     "output_type": "stream",
     "text": [
      "911/911 [==============================] - 397s 435ms/step\n"
     ]
    }
   ],
   "source": [
    "pred = model.predict(x, batch_size=BS)"
   ],
   "metadata": {
    "collapsed": false,
    "ExecuteTime": {
     "end_time": "2024-02-29T07:38:54.067880Z",
     "start_time": "2024-02-29T07:32:14.821501Z"
    }
   },
   "id": "cb6cb9cb38580220"
  },
  {
   "cell_type": "code",
   "execution_count": 18,
   "outputs": [
    {
     "data": {
      "text/plain": "(3644, 32, 64, 2)"
     },
     "execution_count": 18,
     "metadata": {},
     "output_type": "execute_result"
    }
   ],
   "source": [
    "pred = get_median_pred_days(pred)\n",
    "pred.shape"
   ],
   "metadata": {
    "collapsed": false,
    "ExecuteTime": {
     "end_time": "2024-02-29T07:39:13.210241Z",
     "start_time": "2024-02-29T07:39:12.207753Z"
    }
   },
   "id": "4f74801d69544b09"
  },
  {
   "cell_type": "markdown",
   "source": [
    "## Error on Climatology"
   ],
   "metadata": {
    "collapsed": false
   },
   "id": "9966637c8c5ab7e9"
  },
  {
   "cell_type": "code",
   "execution_count": 19,
   "outputs": [
    {
     "name": "stdout",
     "output_type": "stream",
     "text": [
      "Total error: 0.1536312028869613\n",
      "t2m error: 0.12881241524231551\n",
      "msl error: 0.17844999053160632\n"
     ]
    }
   ],
   "source": [
    "total_error, t2m_error, msl_error = calc_total_errors(y, pred)\n",
    "print(f\"Total error: {total_error}\")\n",
    "print(f\"t2m error: {t2m_error}\")\n",
    "print(f\"msl error: {msl_error}\")"
   ],
   "metadata": {
    "collapsed": false,
    "ExecuteTime": {
     "end_time": "2024-02-29T07:39:17.360724Z",
     "start_time": "2024-02-29T07:39:17.215485Z"
    }
   },
   "id": "f80030cb6118ba1"
  },
  {
   "cell_type": "code",
   "execution_count": 20,
   "outputs": [
    {
     "name": "stdout",
     "output_type": "stream",
     "text": [
      "t2m scaled: 1.145824948492554\n",
      "msl scaled: 195.94040945358063\n"
     ]
    }
   ],
   "source": [
    "print(f\"t2m scaled: {scale_t2m_back(t2m_error, for_error=True)}\")\n",
    "print(f\"msl scaled: {scale_slp_back(msl_error, for_error=True)}\")"
   ],
   "metadata": {
    "collapsed": false,
    "ExecuteTime": {
     "end_time": "2024-02-29T07:39:19.863903Z",
     "start_time": "2024-02-29T07:39:19.839654Z"
    }
   },
   "id": "6a4351f5ee2540a4"
  },
  {
   "cell_type": "markdown",
   "source": [
    "## Error on anomaly"
   ],
   "metadata": {
    "collapsed": false
   },
   "id": "e561737f44185527"
  },
  {
   "cell_type": "code",
   "execution_count": 22,
   "outputs": [],
   "source": [
    "from src.config import TA_MU, TA_SIGMA, SLP_MU, SLP_SIGMA"
   ],
   "metadata": {
    "collapsed": false,
    "ExecuteTime": {
     "end_time": "2024-02-29T07:41:26.203141Z",
     "start_time": "2024-02-29T07:41:26.166380Z"
    }
   },
   "id": "4204376e4389b089"
  },
  {
   "cell_type": "code",
   "execution_count": 24,
   "outputs": [],
   "source": [
    "unit_val_ymean = np.load(\"../../data_sets/ymean_sets/validation_ymean.npy\")\n",
    "\n",
    "normalized_gt = np.load(\"../../data_sets/variant_b/validation.npy\")\n",
    "normalized_gt = normalized_gt[:3644, 6:38, 2:66]\n",
    "\n",
    "normalized_val_ymean = (unit_val_ymean - np.array([TA_MU, SLP_MU])) / np.array([TA_SIGMA, SLP_SIGMA])\n",
    "normalized_val_ymean = normalized_val_ymean[:3644]"
   ],
   "metadata": {
    "collapsed": false,
    "ExecuteTime": {
     "end_time": "2024-02-29T07:41:48.665183Z",
     "start_time": "2024-02-29T07:41:48.487932Z"
    }
   },
   "id": "f4272298cce3cc00"
  },
  {
   "cell_type": "code",
   "execution_count": 25,
   "outputs": [
    {
     "name": "stdout",
     "output_type": "stream",
     "text": [
      "0.1536312028869613\n"
     ]
    }
   ],
   "source": [
    "normalized_pred = pred\n",
    "    \n",
    "norm_pred_anom = normalized_pred - normalized_val_ymean\n",
    "norm_gt_anom = normalized_gt - normalized_val_ymean\n",
    "    \n",
    "normalized_anomaly_mae = np.mean(np.abs(norm_pred_anom - norm_gt_anom)) \n",
    "print(f\"{normalized_anomaly_mae}\")"
   ],
   "metadata": {
    "collapsed": false,
    "ExecuteTime": {
     "end_time": "2024-02-29T07:42:49.261819Z",
     "start_time": "2024-02-29T07:42:49.066756Z"
    }
   },
   "id": "7c87243d2713a993"
  },
  {
   "cell_type": "code",
   "execution_count": null,
   "outputs": [],
   "source": [],
   "metadata": {
    "collapsed": false
   },
   "id": "8cdca2be16afa4d1"
  }
 ],
 "metadata": {
  "kernelspec": {
   "display_name": "Python 3",
   "language": "python",
   "name": "python3"
  },
  "language_info": {
   "codemirror_mode": {
    "name": "ipython",
    "version": 2
   },
   "file_extension": ".py",
   "mimetype": "text/x-python",
   "name": "python",
   "nbconvert_exporter": "python",
   "pygments_lexer": "ipython2",
   "version": "2.7.6"
  }
 },
 "nbformat": 4,
 "nbformat_minor": 5
}

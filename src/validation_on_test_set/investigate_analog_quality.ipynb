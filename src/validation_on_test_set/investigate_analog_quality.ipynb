{
 "cells": [
  {
   "cell_type": "markdown",
   "source": [
    "# Investigate the quality of days found by ARM"
   ],
   "metadata": {
    "collapsed": false
   },
   "id": "70241598b2be5863"
  },
  {
   "cell_type": "code",
   "execution_count": 1,
   "outputs": [],
   "source": [
    "import numpy as np\n",
    "import pandas as pd\n",
    "\n",
    "import os, sys\n",
    "from pathlib import Path\n",
    "\n",
    "SCRIPT_DIR = os.path.dirname(os.path.abspath(\"__init__.py\"))\n",
    "SRC_DIR = Path(SCRIPT_DIR).parent.absolute()\n",
    "sys.path.append(os.path.dirname(SRC_DIR))\n",
    "\n",
    "from src.arm.api import get_analog_pool\n",
    "from src.experiments_evaluation.validation_helpers import scale_slp_back, scale_t2m_back"
   ],
   "metadata": {
    "collapsed": false,
    "ExecuteTime": {
     "end_time": "2024-02-20T08:06:59.615591Z",
     "start_time": "2024-02-20T08:06:58.951794Z"
    }
   },
   "id": "edc91b782e06d245"
  },
  {
   "cell_type": "markdown",
   "source": [
    "# General"
   ],
   "metadata": {
    "collapsed": false
   },
   "id": "9d43cea8ae413368"
  },
  {
   "cell_type": "code",
   "execution_count": 3,
   "outputs": [],
   "source": [
    "analog_pool = get_analog_pool()\n",
    "test_data = np.load(\"arm_data/ground_truth.npy\")"
   ],
   "metadata": {
    "collapsed": false,
    "ExecuteTime": {
     "end_time": "2024-02-20T08:07:10.589700Z",
     "start_time": "2024-02-20T08:07:10.370191Z"
    }
   },
   "id": "4992b31625598ab8"
  },
  {
   "cell_type": "markdown",
   "source": [
    "## ARM"
   ],
   "metadata": {
    "collapsed": false
   },
   "id": "8fa2260b65d32799"
  },
  {
   "cell_type": "code",
   "execution_count": 4,
   "outputs": [
    {
     "data": {
      "text/plain": "   id  analog_ids analog_dates     dists\n0   0       11699   1997-01-12  2.325137\n1   1       12410   1998-12-24  2.567965\n2   2        3659   1975-01-08  2.532655\n3   3        8036   1987-01-02  2.521934\n4   4        8036   1987-01-02  2.719943",
      "text/html": "<div>\n<style scoped>\n    .dataframe tbody tr th:only-of-type {\n        vertical-align: middle;\n    }\n\n    .dataframe tbody tr th {\n        vertical-align: top;\n    }\n\n    .dataframe thead th {\n        text-align: right;\n    }\n</style>\n<table border=\"1\" class=\"dataframe\">\n  <thead>\n    <tr style=\"text-align: right;\">\n      <th></th>\n      <th>id</th>\n      <th>analog_ids</th>\n      <th>analog_dates</th>\n      <th>dists</th>\n    </tr>\n  </thead>\n  <tbody>\n    <tr>\n      <th>0</th>\n      <td>0</td>\n      <td>11699</td>\n      <td>1997-01-12</td>\n      <td>2.325137</td>\n    </tr>\n    <tr>\n      <th>1</th>\n      <td>1</td>\n      <td>12410</td>\n      <td>1998-12-24</td>\n      <td>2.567965</td>\n    </tr>\n    <tr>\n      <th>2</th>\n      <td>2</td>\n      <td>3659</td>\n      <td>1975-01-08</td>\n      <td>2.532655</td>\n    </tr>\n    <tr>\n      <th>3</th>\n      <td>3</td>\n      <td>8036</td>\n      <td>1987-01-02</td>\n      <td>2.521934</td>\n    </tr>\n    <tr>\n      <th>4</th>\n      <td>4</td>\n      <td>8036</td>\n      <td>1987-01-02</td>\n      <td>2.719943</td>\n    </tr>\n  </tbody>\n</table>\n</div>"
     },
     "execution_count": 4,
     "metadata": {},
     "output_type": "execute_result"
    }
   ],
   "source": [
    "analog_df = pd.read_csv(f\"arm_data/analog_days.csv\")\n",
    "analog_df.head()"
   ],
   "metadata": {
    "collapsed": false,
    "ExecuteTime": {
     "end_time": "2024-02-20T08:07:28.547762Z",
     "start_time": "2024-02-20T08:07:28.536548Z"
    }
   },
   "id": "e5e221a93ab06fd1"
  },
  {
   "cell_type": "code",
   "execution_count": 5,
   "outputs": [],
   "source": [
    "analog_ids = analog_df['analog_ids'].values\n",
    "analog_day_set = analog_pool[analog_ids]"
   ],
   "metadata": {
    "collapsed": false,
    "ExecuteTime": {
     "end_time": "2024-02-20T08:07:36.975225Z",
     "start_time": "2024-02-20T08:07:36.960330Z"
    }
   },
   "id": "3e2f2c4e0165f55"
  },
  {
   "cell_type": "code",
   "execution_count": 6,
   "outputs": [
    {
     "name": "stdout",
     "output_type": "stream",
     "text": [
      "MAE channel1: 0.2379007637500763\n",
      "MAE channel2: 0.45689669251441956\n",
      "MAE ta: 2.11619842588529\n",
      "MAE slp: 501.67850803783534\n"
     ]
    }
   ],
   "source": [
    "var_mae = np.mean(np.abs(np.subtract(analog_day_set, test_data)), axis=(0,1,2))\n",
    "mae_1 = var_mae[0]\n",
    "mae_2 = var_mae[1]\n",
    "print(f\"MAE channel1: {mae_1}\")\n",
    "print(f\"MAE channel2: {mae_2}\")\n",
    "\n",
    "ta_mae = scale_t2m_back(mae_1, for_error=True)\n",
    "slp_mae = scale_slp_back(mae_2, for_error=True)\n",
    "print(f\"MAE ta: {ta_mae}\")\n",
    "print(f\"MAE slp: {slp_mae}\")"
   ],
   "metadata": {
    "collapsed": false,
    "ExecuteTime": {
     "end_time": "2024-02-20T08:09:09.532588Z",
     "start_time": "2024-02-20T08:09:09.482253Z"
    }
   },
   "id": "d2d345874f15ff40"
  },
  {
   "cell_type": "code",
   "execution_count": 2,
   "outputs": [],
   "source": [],
   "metadata": {
    "collapsed": false,
    "ExecuteTime": {
     "end_time": "2024-01-05T13:33:59.055814Z",
     "start_time": "2024-01-05T13:33:59.052419Z"
    }
   },
   "id": "3fe7094086b41d66"
  },
  {
   "cell_type": "markdown",
   "source": [
    "## WT-ARM"
   ],
   "metadata": {
    "collapsed": false
   },
   "id": "6171e0b1fb1f84e3"
  },
  {
   "cell_type": "code",
   "execution_count": 7,
   "outputs": [
    {
     "data": {
      "text/plain": "   id  analog_ids analog_dates     dists\n0   0       11699   1997-01-12  2.325137\n1   1       12410   1998-12-24  2.567965\n2   2        3659   1975-01-08  2.532655\n3   3        6214   1982-01-06  2.703787\n4   4        8036   1987-01-02  2.719943",
      "text/html": "<div>\n<style scoped>\n    .dataframe tbody tr th:only-of-type {\n        vertical-align: middle;\n    }\n\n    .dataframe tbody tr th {\n        vertical-align: top;\n    }\n\n    .dataframe thead th {\n        text-align: right;\n    }\n</style>\n<table border=\"1\" class=\"dataframe\">\n  <thead>\n    <tr style=\"text-align: right;\">\n      <th></th>\n      <th>id</th>\n      <th>analog_ids</th>\n      <th>analog_dates</th>\n      <th>dists</th>\n    </tr>\n  </thead>\n  <tbody>\n    <tr>\n      <th>0</th>\n      <td>0</td>\n      <td>11699</td>\n      <td>1997-01-12</td>\n      <td>2.325137</td>\n    </tr>\n    <tr>\n      <th>1</th>\n      <td>1</td>\n      <td>12410</td>\n      <td>1998-12-24</td>\n      <td>2.567965</td>\n    </tr>\n    <tr>\n      <th>2</th>\n      <td>2</td>\n      <td>3659</td>\n      <td>1975-01-08</td>\n      <td>2.532655</td>\n    </tr>\n    <tr>\n      <th>3</th>\n      <td>3</td>\n      <td>6214</td>\n      <td>1982-01-06</td>\n      <td>2.703787</td>\n    </tr>\n    <tr>\n      <th>4</th>\n      <td>4</td>\n      <td>8036</td>\n      <td>1987-01-02</td>\n      <td>2.719943</td>\n    </tr>\n  </tbody>\n</table>\n</div>"
     },
     "execution_count": 7,
     "metadata": {},
     "output_type": "execute_result"
    }
   ],
   "source": [
    "analog_df_wt = pd.read_csv(f\"arm_data/analog_days_WT.csv\")\n",
    "analog_df_wt.head()"
   ],
   "metadata": {
    "collapsed": false,
    "ExecuteTime": {
     "end_time": "2024-02-20T08:09:17.216741Z",
     "start_time": "2024-02-20T08:09:17.210068Z"
    }
   },
   "id": "e04b1cf3e39b634c"
  },
  {
   "cell_type": "code",
   "execution_count": 8,
   "outputs": [
    {
     "name": "stdout",
     "output_type": "stream",
     "text": [
      "MAE channel1: 0.24092820286750793\n",
      "MAE channel2: 0.46374157071113586\n",
      "MAE ta: 2.1431284020391406\n",
      "MAE slp: 509.1942732812464\n"
     ]
    }
   ],
   "source": [
    "analog_ids_wt = analog_df_wt['analog_ids'].values\n",
    "analog_day_set_wt = analog_pool[analog_ids_wt]\n",
    "\n",
    "var_mae_wt = np.mean(np.abs(np.subtract(analog_day_set_wt, test_data)), axis=(0,1,2))\n",
    "mae_1_wt = var_mae_wt[0]\n",
    "mae_2_wt = var_mae_wt[1]\n",
    "print(f\"MAE channel1: {mae_1_wt}\")\n",
    "print(f\"MAE channel2: {mae_2_wt}\")\n",
    "\n",
    "ta_mae_wt = scale_t2m_back(mae_1_wt, for_error=True)\n",
    "slp_mae_wt = scale_slp_back(mae_2_wt, for_error=True)\n",
    "print(f\"MAE ta: {ta_mae_wt}\")\n",
    "print(f\"MAE slp: {slp_mae_wt}\")"
   ],
   "metadata": {
    "collapsed": false,
    "ExecuteTime": {
     "end_time": "2024-02-20T08:09:42.873625Z",
     "start_time": "2024-02-20T08:09:42.836560Z"
    }
   },
   "id": "e690422bd83b3401"
  },
  {
   "cell_type": "code",
   "execution_count": null,
   "outputs": [],
   "source": [],
   "metadata": {
    "collapsed": false
   },
   "id": "4bea340aa31d5138"
  }
 ],
 "metadata": {
  "kernelspec": {
   "display_name": "Python 3",
   "language": "python",
   "name": "python3"
  },
  "language_info": {
   "codemirror_mode": {
    "name": "ipython",
    "version": 2
   },
   "file_extension": ".py",
   "mimetype": "text/x-python",
   "name": "python",
   "nbconvert_exporter": "python",
   "pygments_lexer": "ipython2",
   "version": "2.7.6"
  }
 },
 "nbformat": 4,
 "nbformat_minor": 5
}

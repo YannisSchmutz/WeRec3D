{
 "cells": [
  {
   "cell_type": "code",
   "execution_count": null,
   "id": "initial_id",
   "metadata": {
    "collapsed": true
   },
   "outputs": [],
   "source": [
    "import numpy as np\n",
    "import matplotlib.pyplot as plt\n",
    "import pandas as pd\n",
    "import cartopy.crs as ccrs"
   ]
  },
  {
   "cell_type": "code",
   "execution_count": null,
   "outputs": [],
   "source": [
    "import os\n",
    "import sys\n",
    "from pathlib import Path\n",
    "SCRIPT_DIR = os.path.dirname(os.path.abspath(\"__init__.py\"))\n",
    "SRC_DIR = Path(SCRIPT_DIR).parent.parent.absolute()\n",
    "print(SCRIPT_DIR)\n",
    "print(SRC_DIR)\n",
    "sys.path.append(os.path.dirname(SRC_DIR))"
   ],
   "metadata": {
    "collapsed": false
   },
   "id": "9d933eb66318f7ad"
  },
  {
   "cell_type": "code",
   "execution_count": null,
   "outputs": [],
   "source": [
    "from src.experiments_evaluation.validation_helpers import scale_t2m_back, scale_slp_back"
   ],
   "metadata": {
    "collapsed": false
   },
   "id": "8a7336105c2486d9"
  },
  {
   "cell_type": "code",
   "execution_count": null,
   "outputs": [],
   "source": [
    "MONTHS = [\"JAN\", \"FEB\", \"MAR\", \"APR\", \"MAY\", \"JUN\", \"JUL\", \"AUG\", \"SEP\", \"OCT\", \"NOV\", \"DEC\"]\n",
    "dates_val = pd.date_range(start=\"1955-01-01\", periods=3644, freq=\"D\")\n",
    "dates_test = pd.date_range(start=\"1950-01-01\", periods=1820, freq=\"D\")"
   ],
   "metadata": {
    "collapsed": false
   },
   "id": "5c60511f829baffc"
  },
  {
   "cell_type": "markdown",
   "source": [
    "## Load errors"
   ],
   "metadata": {
    "collapsed": false
   },
   "id": "76fc5116c6217b40"
  },
  {
   "cell_type": "markdown",
   "source": [
    "### Validation MCAR"
   ],
   "metadata": {
    "collapsed": false
   },
   "id": "dae41002684875ff"
  },
  {
   "cell_type": "code",
   "execution_count": null,
   "outputs": [],
   "source": [
    "temp_ta_val_mcar = scale_t2m_back(np.load(\"../experiments_evaluation/ex5.1_elev_mov_cmi/errors/temp_t2m_err_99p.npy\"), \n",
    "                         for_error=True)\n",
    "temp_slp_val_mcar = scale_slp_back(np.load(\"../experiments_evaluation/ex5.1_elev_mov_cmi/errors/temp_slp_err_99p.npy\"),\n",
    "                              for_error=True)\n",
    "print(temp_ta_val_mcar.shape)\n",
    "print(temp_slp_val_mcar.shape)\n",
    "\n",
    "spat_ta_val_mcar = scale_t2m_back(np.load(\"../experiments_evaluation/ex5.1_elev_mov_cmi/errors/spat_t2m_err_99p.npy\"), \n",
    "                         for_error=True)\n",
    "spat_slp_val_mcar = scale_slp_back(np.load(\"../experiments_evaluation/ex5.1_elev_mov_cmi/errors/spat_slp_err_99p.npy\"),\n",
    "                              for_error=True)\n",
    "print(spat_ta_val_mcar.shape)\n",
    "print(spat_slp_val_mcar.shape)"
   ],
   "metadata": {
    "collapsed": false
   },
   "id": "f8d269d60df7fd5f"
  },
  {
   "cell_type": "markdown",
   "source": [
    "## Validation NMAR"
   ],
   "metadata": {
    "collapsed": false
   },
   "id": "930ef3234229a67c"
  },
  {
   "cell_type": "code",
   "execution_count": null,
   "outputs": [],
   "source": [
    "temp_ta_val_nmar = scale_t2m_back(np.load(\"../experiments_evaluation/ex7.2_emc_mnar_training/errors/temp_t2m_err_99p.npy\"), \n",
    "                         for_error=True)\n",
    "temp_slp_val_nmar = scale_slp_back(np.load(\"../experiments_evaluation/ex7.2_emc_mnar_training/errors/temp_slp_err_99p.npy\"),\n",
    "                              for_error=True)\n",
    "print(temp_ta_val_nmar.shape)\n",
    "print(temp_slp_val_nmar.shape)\n",
    "\n",
    "spat_ta_val_nmar = scale_t2m_back(np.load(\"../experiments_evaluation/ex7.2_emc_mnar_training/errors/spat_t2m_err_99p.npy\"), \n",
    "                         for_error=True)\n",
    "spat_slp_val_nmar = scale_slp_back(np.load(\"../experiments_evaluation/ex7.2_emc_mnar_training/errors/spat_slp_err_99p.npy\"),\n",
    "                              for_error=True)\n",
    "print(spat_ta_val_nmar.shape)\n",
    "print(spat_slp_val_nmar.shape)"
   ],
   "metadata": {
    "collapsed": false
   },
   "id": "ba44cc970c8855e4"
  },
  {
   "cell_type": "markdown",
   "source": [
    "## Test"
   ],
   "metadata": {
    "collapsed": false
   },
   "id": "c792e547d2e0cf7f"
  },
  {
   "cell_type": "code",
   "execution_count": null,
   "outputs": [],
   "source": [
    "temp_ta_test = scale_t2m_back(np.load(\"outputs/temp_t2m_err_99p.npy\"), \n",
    "                         for_error=True)\n",
    "temp_slp_test = scale_slp_back(np.load(\"outputs/temp_slp_err_99p.npy\"),\n",
    "                              for_error=True)\n",
    "print(temp_ta_test.shape)\n",
    "print(temp_slp_test.shape)\n",
    "\n",
    "spat_ta_test = scale_t2m_back(np.load(\"outputs/spat_t2m_err_99p.npy\"), \n",
    "                         for_error=True)\n",
    "spat_slp_test = scale_slp_back(np.load(\"outputs/spat_slp_err_99p.npy\"),\n",
    "                              for_error=True)\n",
    "print(spat_ta_test.shape)\n",
    "print(spat_slp_test.shape)"
   ],
   "metadata": {
    "collapsed": false
   },
   "id": "cfd3c9d2998a288c"
  },
  {
   "cell_type": "markdown",
   "source": [
    "# Maps (Spatial)"
   ],
   "metadata": {
    "collapsed": false
   },
   "id": "14063d55f192c367"
  },
  {
   "cell_type": "code",
   "execution_count": null,
   "outputs": [],
   "source": [
    "# Define reduced size window\n",
    "from src.config import BASE_LAT_START, BASE_LAT_END, BASE_LON_START, BASE_LON_END"
   ],
   "metadata": {
    "collapsed": false
   },
   "id": "fcfab6b29da4ab8e"
  },
  {
   "cell_type": "code",
   "execution_count": null,
   "outputs": [],
   "source": [
    "def round_to_nearest_step(matrix, step=0.2):\n",
    "    return np.round(matrix / step) * step"
   ],
   "metadata": {
    "collapsed": false
   },
   "id": "897ae2c55862aebc"
  },
  {
   "cell_type": "code",
   "execution_count": null,
   "outputs": [],
   "source": [
    "ta_spat_min = np.min([np.min(spat_ta_val_mcar), np.min(spat_ta_val_nmar), np.min(spat_ta_test)])\n",
    "ta_spat_max = np.max([np.max(spat_ta_val_mcar), np.max(spat_ta_val_nmar), np.max(spat_ta_test)])\n",
    "ta_step = 0.2\n",
    "ta_boundaries = np.arange(ta_spat_min, ta_spat_max + ta_step, ta_step)\n",
    "ta_ticks = np.arange(ta_spat_min, ta_spat_max + ta_step, ta_step)\n",
    "\n",
    "slp_spat_min = np.min([np.min(spat_slp_val_mcar), np.min(spat_slp_val_nmar), np.min(spat_slp_test)])\n",
    "slp_spat_max = np.max([np.max(spat_slp_val_mcar), np.max(spat_slp_val_nmar), np.max(spat_slp_test)])\n",
    "slp_step = 100\n",
    "slp_boundaries = round_to_nearest_step(np.arange(slp_spat_min, slp_spat_max + slp_step, slp_step), slp_step)\n",
    "slp_ticks = round_to_nearest_step(np.arange(slp_spat_min, slp_spat_max + slp_step, slp_step), slp_step)\n",
    "\n",
    "print(slp_spat_min, slp_spat_max)\n",
    "\n",
    "extent = [BASE_LON_START, BASE_LON_END, BASE_LAT_START,  BASE_LAT_END]\n",
    "\n",
    "col_bar_width = 0.02\n",
    "col_bar_x_offset = 0.005\n",
    "\n",
    "fig = plt.figure(figsize=(20, 15))\n",
    "\n",
    "# SPATIAL\n",
    "# Validation Temperature MCAR\n",
    "ax00 = fig.add_subplot(3, 2, 1, projection=ccrs.PlateCarree())\n",
    "ax00.coastlines(resolution='110m')\n",
    "ax00.set_extent(extent, ccrs.PlateCarree())\n",
    "im00 = ax00.imshow(round_to_nearest_step(spat_ta_val_mcar, ta_step), \n",
    "                 transform=ccrs.PlateCarree(),\n",
    "                 extent=extent,\n",
    "                 origin='lower',\n",
    "                 interpolation='nearest',\n",
    "                 cmap='Reds',\n",
    "                   vmin=ta_spat_min, vmax=ta_spat_max,\n",
    "                   )\n",
    "cax00 = fig.add_axes([ax00.get_position().x1 + col_bar_x_offset, \n",
    "                      ax00.get_position().y0, \n",
    "                      col_bar_width, \n",
    "                      ax00.get_position().height])\n",
    "# Create discrete boundaries and ticks for the colorbar\n",
    "plt.colorbar(im00, cax=cax00, boundaries=ta_boundaries, ticks=ta_ticks)\n",
    "ax00.set_title(f\"Validation Temperature MCAR MAE [°C]\", fontsize=16)\n",
    "\n",
    "# Validation Pressure MCAR\n",
    "ax01 = fig.add_subplot(3, 2, 2, projection=ccrs.PlateCarree())\n",
    "ax01.coastlines(resolution='110m')\n",
    "ax01.set_extent(extent, ccrs.PlateCarree())#,\n",
    "im01 = ax01.imshow(round_to_nearest_step(spat_slp_val_mcar, slp_step), \n",
    "                 transform=ccrs.PlateCarree(),\n",
    "                 extent=extent,\n",
    "                 origin='lower',\n",
    "                 interpolation='nearest',\n",
    "                 cmap='Reds',\n",
    "                   vmin=slp_spat_min, vmax=slp_spat_max,)\n",
    "\n",
    "cax01 = fig.add_axes([ax01.get_position().x1 + col_bar_x_offset, \n",
    "                      ax01.get_position().y0, \n",
    "                      col_bar_width,\n",
    "                      ax01.get_position().height])\n",
    "plt.colorbar(im01, cax=cax01, boundaries=slp_boundaries, ticks=slp_ticks)\n",
    "ax01.set_title(f\"Validation Pressure MCAR MAE [Pa]\", fontsize=16)\n",
    "\n",
    "\n",
    "# Validation Temperature NMAR\n",
    "ax10 = fig.add_subplot(3, 2, 3, projection=ccrs.PlateCarree())\n",
    "ax10.coastlines(resolution='110m')\n",
    "ax10.set_extent(extent, ccrs.PlateCarree())\n",
    "im10 = ax10.imshow(round_to_nearest_step(spat_ta_val_nmar, ta_step), \n",
    "                 transform=ccrs.PlateCarree(),\n",
    "                 extent=extent,\n",
    "                 origin='lower',\n",
    "                 interpolation='nearest',\n",
    "                 cmap='Reds',\n",
    "                   vmin=ta_spat_min, vmax=ta_spat_max,\n",
    "                   )\n",
    "cax10 = fig.add_axes([ax10.get_position().x1 + col_bar_x_offset, \n",
    "                      ax10.get_position().y0, \n",
    "                      col_bar_width, \n",
    "                      ax10.get_position().height])\n",
    "plt.colorbar(im10, cax=cax10, boundaries=ta_boundaries, ticks=ta_ticks)\n",
    "ax10.set_title(f\"Validation Temperature HiMi MAE [°C]\", fontsize=16)  # HiMi = NMAR\n",
    "\n",
    "# Validation Pressure NMAR\n",
    "ax11 = fig.add_subplot(3, 2, 4, projection=ccrs.PlateCarree())\n",
    "ax11.coastlines(resolution='110m')\n",
    "ax11.set_extent(extent, ccrs.PlateCarree())#,\n",
    "im11 = ax11.imshow(round_to_nearest_step(spat_slp_val_nmar, slp_step), \n",
    "                 transform=ccrs.PlateCarree(),\n",
    "                 extent=extent,\n",
    "                 origin='lower',\n",
    "                 interpolation='nearest',\n",
    "                 cmap='Reds',\n",
    "                   vmin=slp_spat_min, vmax=slp_spat_max,)\n",
    "\n",
    "cax11 = fig.add_axes([ax11.get_position().x1 + col_bar_x_offset, \n",
    "                      ax11.get_position().y0, \n",
    "                      col_bar_width,\n",
    "                      ax11.get_position().height])\n",
    "plt.colorbar(im11, cax=cax11, boundaries=slp_boundaries, ticks=slp_ticks)\n",
    "ax11.set_title(f\"Validation Pressure HiMi MAE [Pa]\", fontsize=16)  # HiMi = NMAR\n",
    "\n",
    "\n",
    "\n",
    "\n",
    "# Test Temperature\n",
    "ax20 = fig.add_subplot(3, 2, 5, projection=ccrs.PlateCarree())\n",
    "ax20.coastlines(resolution='110m')\n",
    "ax20.set_extent(extent, ccrs.PlateCarree())\n",
    "im20 = ax20.imshow(round_to_nearest_step(spat_ta_test, ta_step), \n",
    "                 transform=ccrs.PlateCarree(),\n",
    "                 extent=extent,\n",
    "                 origin='lower',\n",
    "                 interpolation='nearest',\n",
    "                 cmap='Reds',\n",
    "                   vmin=ta_spat_min, vmax=ta_spat_max,)\n",
    "cax20 = fig.add_axes([ax20.get_position().x1 + col_bar_x_offset, \n",
    "                      ax20.get_position().y0,\n",
    "                      col_bar_width, \n",
    "                      ax20.get_position().height])\n",
    "plt.colorbar(im20, cax=cax20, boundaries=ta_boundaries, ticks=ta_ticks)\n",
    "ax20.set_title(f\"Test Temperature MAE [°C]\", fontsize=16)\n",
    "\n",
    "\n",
    "# Test Pressure\n",
    "ax21 = fig.add_subplot(3, 2, 6, projection=ccrs.PlateCarree())\n",
    "ax21.coastlines(resolution='110m')\n",
    "ax21.set_extent(extent, ccrs.PlateCarree())\n",
    "im21 = ax21.imshow(round_to_nearest_step(spat_slp_test, slp_step), \n",
    "                 transform=ccrs.PlateCarree(),\n",
    "                 extent=extent,\n",
    "                 origin='lower',\n",
    "                 interpolation='nearest',\n",
    "                 cmap='Reds',\n",
    "                   vmin=slp_spat_min, vmax=slp_spat_max,)\n",
    "cax21 = fig.add_axes([ax21.get_position().x1 + col_bar_x_offset, \n",
    "                      ax21.get_position().y0,\n",
    "                      col_bar_width, \n",
    "                      ax21.get_position().height])\n",
    "plt.colorbar(im21, cax=cax21, boundaries=slp_boundaries, ticks=slp_ticks)\n",
    "ax21.set_title(f\"Test Pressure MAE [Pa]\", fontsize=16)\n",
    "\n",
    "\n",
    "plt.savefig(f\"figures/val_test_spatial_v2.png\", \n",
    "            bbox_inches='tight',\n",
    "            pad_inches=0.1)"
   ],
   "metadata": {
    "collapsed": false
   },
   "id": "78201105bd2350c9"
  },
  {
   "cell_type": "code",
   "execution_count": null,
   "outputs": [],
   "source": [],
   "metadata": {
    "collapsed": false
   },
   "id": "f700490ea3e3264d"
  },
  {
   "cell_type": "code",
   "execution_count": null,
   "outputs": [],
   "source": [],
   "metadata": {
    "collapsed": false
   },
   "id": "5776f5d341a33a"
  },
  {
   "cell_type": "markdown",
   "source": [
    "# Boxplots (Temporal)"
   ],
   "metadata": {
    "collapsed": false
   },
   "id": "8409a96b574b7969"
  },
  {
   "cell_type": "code",
   "execution_count": null,
   "outputs": [],
   "source": [
    "df_temporal_val_mcar = pd.DataFrame({\n",
    "    \"err_ta\": temp_ta_val_mcar,\n",
    "    \"err_slp\": temp_slp_val_mcar,\n",
    "    \"month\": dates_val.month\n",
    "})\n",
    "df_temporal_val_nmar = pd.DataFrame({\n",
    "    \"err_ta\": temp_ta_val_nmar,\n",
    "    \"err_slp\": temp_slp_val_nmar,\n",
    "    \"month\": dates_val.month\n",
    "})\n",
    "df_temporal_test = pd.DataFrame({\n",
    "    \"err_ta\": temp_ta_test,\n",
    "    \"err_slp\": temp_slp_test,\n",
    "    \"month\": dates_test.month\n",
    "})"
   ],
   "metadata": {
    "collapsed": false
   },
   "id": "7dc4ff08cd21c399"
  },
  {
   "cell_type": "code",
   "execution_count": null,
   "outputs": [],
   "source": [
    "fig = plt.figure(figsize=(16, 12))\n",
    "\n",
    "# BOX PLOTS\n",
    "\n",
    "# Validation Temperature MCAR\n",
    "ax00 = fig.add_subplot(3, 2, 1)\n",
    "df_temporal_val_mcar.boxplot(column=['err_ta'], by='month', ax=ax00)\n",
    "ax00.set(xlabel=\"\", ylabel='')\n",
    "ax00.set_xticks([m+1 for m in range(12)], [MONTHS[i] for i in range(12)])\n",
    "ax00.set_title(f\"Validation Temperature MCAR MAE [°C]\", fontsize=16)\n",
    "\n",
    "# Validation Pressure MCAR\n",
    "ax01 = fig.add_subplot(3, 2, 2)\n",
    "df_temporal_val_mcar.boxplot(column=['err_slp'], by='month', ax=ax01)\n",
    "ax01.set(xlabel=\"\", ylabel='')\n",
    "ax01.set_xticks([m+1 for m in range(12)], [MONTHS[i] for i in range(12)])\n",
    "ax01.set_title(f\"Validation Pressure MCAR MAE [Pa]\", fontsize=16)\n",
    "\n",
    "# Validation Temperature NMAR\n",
    "ax10 = fig.add_subplot(3, 2, 3)\n",
    "df_temporal_val_nmar.boxplot(column=['err_ta'], by='month', ax=ax10)\n",
    "ax10.set(xlabel=\"\", ylabel='')\n",
    "ax10.set_xticks([m+1 for m in range(12)], [MONTHS[i] for i in range(12)])\n",
    "ax10.set_title(f\"Validation Temperature HiMi MAE [°C]\", fontsize=16)  # HiMi = NMAR\n",
    "\n",
    "# Validation Pressure NMAR\n",
    "ax11 = fig.add_subplot(3, 2, 4)\n",
    "df_temporal_val_nmar.boxplot(column=['err_slp'], by='month', ax=ax11)\n",
    "ax11.set(xlabel=\"\", ylabel='')\n",
    "ax11.set_xticks([m+1 for m in range(12)], [MONTHS[i] for i in range(12)])\n",
    "ax11.set_title(f\"Validation Pressure HiMi MAE [Pa]\", fontsize=16)  # HiMi = NMAR\n",
    "\n",
    "\n",
    "# TEST Temperature\n",
    "ax20 = fig.add_subplot(3, 2, 5)\n",
    "df_temporal_test.boxplot(column=['err_ta'], by='month', ax=ax20)\n",
    "ax20.set(xlabel=\"\", ylabel='')\n",
    "ax20.set_xticks([m+1 for m in range(12)], [MONTHS[i] for i in range(12)])\n",
    "ax20.set_title(f\"Test Temperature MAE [°C]\", fontsize=16)\n",
    "\n",
    "# Test Pressure\n",
    "ax21 = fig.add_subplot(3, 2, 6)\n",
    "df_temporal_test.boxplot(column=['err_slp'], by='month', ax=ax21)\n",
    "ax21.set(xlabel=\"\", ylabel='')\n",
    "ax21.set_xticks([m+1 for m in range(12)], [MONTHS[i] for i in range(12)])\n",
    "ax21.set_title(f\"Test Pressure MAE [Pa]\", fontsize=16)\n",
    "\n",
    "plt.suptitle('')\n",
    "\n",
    "plt.savefig(f\"figures/val_test_temporal_v2.png\", \n",
    "            bbox_inches='tight',\n",
    "            pad_inches=0.1)"
   ],
   "metadata": {
    "collapsed": false
   },
   "id": "e9597b2350b1da75"
  },
  {
   "cell_type": "code",
   "execution_count": null,
   "outputs": [],
   "source": [],
   "metadata": {
    "collapsed": false
   },
   "id": "5b1123bc91b1e88e"
  }
 ],
 "metadata": {
  "kernelspec": {
   "display_name": "Python 3",
   "language": "python",
   "name": "python3"
  },
  "language_info": {
   "codemirror_mode": {
    "name": "ipython",
    "version": 2
   },
   "file_extension": ".py",
   "mimetype": "text/x-python",
   "name": "python",
   "nbconvert_exporter": "python",
   "pygments_lexer": "ipython2",
   "version": "2.7.6"
  }
 },
 "nbformat": 4,
 "nbformat_minor": 5
}

{
 "cells": [
  {
   "cell_type": "markdown",
   "source": [
    "# Validate ARM"
   ],
   "metadata": {
    "collapsed": false
   },
   "id": "ea89a8f0ab33ad1"
  },
  {
   "cell_type": "code",
   "execution_count": null,
   "outputs": [],
   "source": [
    "import os\n",
    "from pathlib import Path\n",
    "SCRIPT_DIR = os.path.dirname(os.path.abspath(\"__init__.py\"))\n",
    "SRC_DIR = Path(SCRIPT_DIR).parent.absolute()\n",
    "print(SRC_DIR)"
   ],
   "metadata": {
    "collapsed": false
   },
   "id": "703a1d4b2cee0b0d"
  },
  {
   "cell_type": "code",
   "execution_count": null,
   "outputs": [],
   "source": [
    "%load_ext autoreload\n",
    "%autoreload 2"
   ],
   "metadata": {
    "collapsed": false
   },
   "id": "4d21ab6b08a69189"
  },
  {
   "cell_type": "code",
   "execution_count": null,
   "outputs": [],
   "source": [
    "import pandas as pd\n",
    "import numpy as np\n",
    "\n",
    "from plotting import display_predictions"
   ],
   "metadata": {
    "collapsed": false
   },
   "id": "b7322125624183d3"
  },
  {
   "cell_type": "code",
   "execution_count": null,
   "outputs": [],
   "source": [
    "FULL_PRED_FILE = \"predictions/full_pred_arm.npy\""
   ],
   "metadata": {
    "collapsed": false
   },
   "id": "bae90b59f7379d5b"
  },
  {
   "cell_type": "code",
   "execution_count": null,
   "outputs": [],
   "source": [
    "DATES = pd.date_range('1807-01-01', freq='D', periods=365).values\n",
    "DATES = list(map(lambda d: str(d).split('T')[0], DATES))\n",
    "def date_to_id(date):\n",
    "    return DATES.index(date)"
   ],
   "metadata": {
    "collapsed": false
   },
   "id": "b2947e2237e7ab"
  },
  {
   "cell_type": "markdown",
   "source": [
    "## Full"
   ],
   "metadata": {
    "collapsed": false
   },
   "id": "c70e5463b40d9bbf"
  },
  {
   "cell_type": "code",
   "execution_count": null,
   "outputs": [],
   "source": [
    "pred = np.load(FULL_PRED_FILE)\n",
    "pred.shape"
   ],
   "metadata": {
    "collapsed": false
   },
   "id": "eab224810557443"
  },
  {
   "cell_type": "code",
   "execution_count": null,
   "outputs": [],
   "source": [
    "# Convert to hecto pascal\n",
    "pred[...,1] = pred[...,1] /100"
   ],
   "metadata": {
    "collapsed": false
   },
   "id": "2a4c63bcd51be274"
  },
  {
   "cell_type": "code",
   "execution_count": null,
   "outputs": [],
   "source": [
    "date = \"1807-01-01\"\n",
    "day_id = date_to_id(date)\n",
    "fig = display_predictions(pred, day_id, date)"
   ],
   "metadata": {
    "collapsed": false
   },
   "id": "2be6e2c2192f10e4"
  },
  {
   "cell_type": "code",
   "execution_count": null,
   "outputs": [],
   "source": [
    "fig = display_predictions(pred, day_id,date, show_contours=True)"
   ],
   "metadata": {
    "collapsed": false
   },
   "id": "c5476a389fa3f54b"
  },
  {
   "cell_type": "code",
   "execution_count": null,
   "outputs": [],
   "source": [],
   "metadata": {
    "collapsed": false
   },
   "id": "b9afd8b420f38cb"
  },
  {
   "cell_type": "markdown",
   "source": [
    "## LOO"
   ],
   "metadata": {
    "collapsed": false
   },
   "id": "97ce670dcc93c194"
  },
  {
   "cell_type": "code",
   "execution_count": null,
   "outputs": [],
   "source": [
    "import xarray as xr\n",
    "\n",
    "from data_transformer import extract_stations_from_nc\n",
    "from data_provider import get_station_indices_map\n",
    "\n",
    "from taylor_helpers import get_nan_ids, extract_anomalies, get_loo_taylor_metrics\n",
    "from plotting import create_normed_taylor_diagram"
   ],
   "metadata": {
    "collapsed": false
   },
   "id": "299e4150563ffc38"
  },
  {
   "cell_type": "code",
   "execution_count": null,
   "outputs": [],
   "source": [
    "GROUND_TRUTH = \"data_sets/ground_truth.nc\"\n",
    "LOO_PRED_FILE = \"predictions/loo_pred_arm.nc\""
   ],
   "metadata": {
    "collapsed": false
   },
   "id": "9e13b1f6c0668786"
  },
  {
   "cell_type": "code",
   "execution_count": null,
   "outputs": [],
   "source": [
    "station_indx_map = get_station_indices_map()\n",
    "ground_truth = xr.load_dataset(GROUND_TRUTH)\n",
    "gt_stations = extract_stations_from_nc(ground_truth, station_indx_map)  # Is scaled.\n",
    "\n",
    "pred = xr.load_dataset(LOO_PRED_FILE)\n",
    "pred_stations = extract_stations_from_nc(pred, station_indx_map)"
   ],
   "metadata": {
    "collapsed": false
   },
   "id": "9626acd82bde8aed"
  },
  {
   "cell_type": "code",
   "execution_count": null,
   "outputs": [],
   "source": [
    "missing_indicies = get_nan_ids(gt_stations)\n",
    "anomaly_pred_stations = extract_anomalies(pred_stations, station_indx_map)                  # Pred has no NaNs\n",
    "anomaly_gt_stations = extract_anomalies(gt_stations, station_indx_map, missing_indicies)    # GT has NaNs\n",
    "taylor_metrics = get_loo_taylor_metrics(anomaly_gt_stations, anomaly_pred_stations, missing_indicies)"
   ],
   "metadata": {
    "collapsed": false
   },
   "id": "f373851cab79c4bf"
  },
  {
   "cell_type": "code",
   "execution_count": null,
   "outputs": [],
   "source": [
    "fig = create_normed_taylor_diagram(ref_std=1,\n",
    "                                   test_std_devs=[m['norm_std'] for m in taylor_metrics.values()],\n",
    "                                   test_corrs=[m['corr'] for m in taylor_metrics.values()],\n",
    "                                   labels=list(taylor_metrics.keys()),\n",
    "                                   )\n",
    "\n",
    "fig.savefig(f\"figures/taylor_loo_arm.png\", bbox_inches='tight', pad_inches=0.1)"
   ],
   "metadata": {
    "collapsed": false
   },
   "id": "ab72201eb37b4b39"
  },
  {
   "cell_type": "code",
   "execution_count": null,
   "outputs": [],
   "source": [
    "taylor_df = pd.DataFrame(taylor_metrics)\n",
    "\n",
    "print(f\"Min Corr: {taylor_df.loc['corr'].min()}\")\n",
    "print(f\"Max normed-StdDev Delta: {max(abs(taylor_df.loc['norm_std'].max()-1), abs(1-taylor_df.loc['norm_std'].min()))}\")\n",
    "print(f\"Max normed-RMSE: {taylor_df.loc['norm_rmse'].max()}\")"
   ],
   "metadata": {
    "collapsed": false
   },
   "id": "ae720d20ae86158"
  },
  {
   "cell_type": "markdown",
   "source": [
    "### RMSE on LOO (non normalized)"
   ],
   "metadata": {
    "collapsed": false
   },
   "id": "90de8b623abf4489"
  },
  {
   "cell_type": "code",
   "execution_count": null,
   "outputs": [],
   "source": [
    "rmse_stations_ta = []\n",
    "rmse_stations_slp = []\n",
    "\n",
    "for station_id in gt_stations.keys():\n",
    "    pred = pred_stations[station_id]\n",
    "    gt = gt_stations[station_id]\n",
    "    if missing_indicies[station_id]:\n",
    "        pred = np.delete(pred, missing_indicies[station_id])\n",
    "        gt = np.delete(gt, missing_indicies[station_id])\n",
    "    \n",
    "    rmse_station = np.sqrt(np.mean(np.square(gt - pred)))\n",
    "    if \"_ta\" in station_id:\n",
    "        rmse_stations_ta.append(rmse_station)\n",
    "    else:\n",
    "        rmse_stations_slp.append(rmse_station)\n",
    "\n",
    "print(np.mean(rmse_stations_ta))\n",
    "print(np.mean(rmse_stations_slp))\n",
    "    "
   ],
   "metadata": {
    "collapsed": false
   },
   "id": "1677185c4aa2efed"
  },
  {
   "cell_type": "code",
   "execution_count": null,
   "outputs": [],
   "source": [],
   "metadata": {
    "collapsed": false
   },
   "id": "b49f6effac15a07d"
  }
 ],
 "metadata": {
  "kernelspec": {
   "display_name": "Python 3",
   "language": "python",
   "name": "python3"
  },
  "language_info": {
   "codemirror_mode": {
    "name": "ipython",
    "version": 2
   },
   "file_extension": ".py",
   "mimetype": "text/x-python",
   "name": "python",
   "nbconvert_exporter": "python",
   "pygments_lexer": "ipython2",
   "version": "2.7.6"
  }
 },
 "nbformat": 4,
 "nbformat_minor": 5
}

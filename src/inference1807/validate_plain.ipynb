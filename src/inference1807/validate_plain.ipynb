{
 "cells": [
  {
   "cell_type": "markdown",
   "source": [
    "# Validate Plain"
   ],
   "metadata": {
    "collapsed": false
   },
   "id": "ea89a8f0ab33ad1"
  },
  {
   "cell_type": "code",
   "execution_count": null,
   "outputs": [],
   "source": [
    "import os\n",
    "from pathlib import Path\n",
    "SCRIPT_DIR = os.path.dirname(os.path.abspath(\"__init__.py\"))\n",
    "SRC_DIR = Path(SCRIPT_DIR).parent.absolute()\n",
    "print(SRC_DIR)"
   ],
   "metadata": {
    "collapsed": false
   },
   "id": "703a1d4b2cee0b0d"
  },
  {
   "cell_type": "code",
   "execution_count": null,
   "outputs": [],
   "source": [
    "%load_ext autoreload\n",
    "%autoreload 2"
   ],
   "metadata": {
    "collapsed": false
   },
   "id": "4d21ab6b08a69189"
  },
  {
   "cell_type": "code",
   "execution_count": null,
   "outputs": [],
   "source": [
    "import pandas as pd\n",
    "import numpy as np\n",
    "\n",
    "from plotting import display_predictions"
   ],
   "metadata": {
    "collapsed": false
   },
   "id": "b7322125624183d3"
  },
  {
   "cell_type": "code",
   "execution_count": null,
   "outputs": [],
   "source": [
    "FULL_PRED_FILE = \"predictions/full_pred_plain.npy\""
   ],
   "metadata": {
    "collapsed": false
   },
   "id": "bae90b59f7379d5b"
  },
  {
   "cell_type": "code",
   "execution_count": null,
   "outputs": [],
   "source": [
    "DATES = pd.date_range('1807-01-01', freq='D', periods=365).values\n",
    "DATES = list(map(lambda d: str(d).split('T')[0], DATES))\n",
    "def date_to_id(date):\n",
    "    return DATES.index(date)"
   ],
   "metadata": {
    "collapsed": false
   },
   "id": "b2947e2237e7ab"
  },
  {
   "cell_type": "markdown",
   "source": [
    "## Full"
   ],
   "metadata": {
    "collapsed": false
   },
   "id": "c70e5463b40d9bbf"
  },
  {
   "cell_type": "code",
   "execution_count": null,
   "outputs": [],
   "source": [
    "pred = np.load(FULL_PRED_FILE)\n",
    "pred.shape"
   ],
   "metadata": {
    "collapsed": false
   },
   "id": "eab224810557443"
  },
  {
   "cell_type": "code",
   "execution_count": null,
   "outputs": [],
   "source": [
    "# Convert to hecto pascal\n",
    "pred[...,1] = pred[...,1] /100\n",
    "pred.shape"
   ],
   "metadata": {
    "collapsed": false
   },
   "id": "2a4c63bcd51be274"
  },
  {
   "cell_type": "code",
   "execution_count": null,
   "outputs": [],
   "source": [
    "date = \"1807-01-01\"\n",
    "day_id = date_to_id(date)\n",
    "fig = display_predictions(pred, day_id,date)"
   ],
   "metadata": {
    "collapsed": false
   },
   "id": "2be6e2c2192f10e4"
  },
  {
   "cell_type": "code",
   "execution_count": null,
   "outputs": [],
   "source": [
    "fig = display_predictions(pred, day_id,date, show_contours=True)"
   ],
   "metadata": {
    "collapsed": false
   },
   "id": "c5476a389fa3f54b"
  },
  {
   "cell_type": "code",
   "execution_count": null,
   "outputs": [],
   "source": [],
   "metadata": {
    "collapsed": false
   },
   "id": "b9afd8b420f38cb"
  },
  {
   "cell_type": "markdown",
   "source": [
    "## LOO"
   ],
   "metadata": {
    "collapsed": false
   },
   "id": "97ce670dcc93c194"
  },
  {
   "cell_type": "code",
   "execution_count": null,
   "outputs": [],
   "source": [
    "import xarray as xr\n",
    "\n",
    "from data_transformer import extract_stations_from_nc\n",
    "from data_provider import get_station_indices_map\n",
    "\n",
    "from taylor_helpers import get_nan_ids, extract_anomalies, get_loo_taylor_metrics\n",
    "from plotting import create_normed_taylor_diagram"
   ],
   "metadata": {
    "collapsed": false
   },
   "id": "299e4150563ffc38"
  },
  {
   "cell_type": "code",
   "execution_count": null,
   "outputs": [],
   "source": [
    "GROUND_TRUTH = \"data_sets/ground_truth.nc\"\n",
    "LOO_PRED_FILE = \"predictions/loo_pred_plain.nc\""
   ],
   "metadata": {
    "collapsed": false
   },
   "id": "9e13b1f6c0668786"
  },
  {
   "cell_type": "code",
   "execution_count": null,
   "outputs": [],
   "source": [
    "station_indx_map = get_station_indices_map()\n",
    "ground_truth = xr.load_dataset(GROUND_TRUTH)\n",
    "gt_stations = extract_stations_from_nc(ground_truth, station_indx_map)  # Is scaled.\n",
    "\n",
    "loo_pred = xr.load_dataset(LOO_PRED_FILE)\n",
    "pred_stations = extract_stations_from_nc(loo_pred, station_indx_map)"
   ],
   "metadata": {
    "collapsed": false
   },
   "id": "9626acd82bde8aed"
  },
  {
   "cell_type": "code",
   "execution_count": null,
   "outputs": [],
   "source": [
    "missing_indicies = get_nan_ids(gt_stations)\n",
    "\n",
    "anomaly_pred_stations = extract_anomalies(pred_stations, station_indx_map)                  # Pred has no NaNs\n",
    "anomaly_gt_stations = extract_anomalies(gt_stations, station_indx_map, missing_indicies)    # GT has NaNs\n",
    "taylor_metrics = get_loo_taylor_metrics(anomaly_gt_stations, anomaly_pred_stations, missing_indicies)"
   ],
   "metadata": {
    "collapsed": false
   },
   "id": "f373851cab79c4bf"
  },
  {
   "cell_type": "code",
   "execution_count": null,
   "outputs": [],
   "source": [
    "fig = create_normed_taylor_diagram(ref_std=1,\n",
    "                                   test_std_devs=[m['norm_std'] for m in taylor_metrics.values()],\n",
    "                                   test_corrs=[m['corr'] for m in taylor_metrics.values()],\n",
    "                                   labels=list(taylor_metrics.keys()),\n",
    "                                   )\n",
    "\n",
    "fig.savefig(f\"figures/taylor_loo_plain.png\", bbox_inches='tight', pad_inches=0.1)"
   ],
   "metadata": {
    "collapsed": false
   },
   "id": "ab72201eb37b4b39"
  },
  {
   "cell_type": "code",
   "execution_count": null,
   "outputs": [],
   "source": [
    "taylor_df = pd.DataFrame(taylor_metrics)\n",
    "\n",
    "print(f\"Min Corr: {taylor_df.loc['corr'].min()}\")\n",
    "print(f\"Max normed-StdDev Delta: {max(abs(taylor_df.loc['norm_std'].max()-1), abs(1-taylor_df.loc['norm_std'].min()))}\")\n",
    "print(f\"Max normed-RMSE: {taylor_df.loc['norm_rmse'].max()}\")"
   ],
   "metadata": {
    "collapsed": false
   },
   "id": "84a9e408b85966aa"
  },
  {
   "cell_type": "code",
   "execution_count": null,
   "outputs": [],
   "source": [
    "taylor_df"
   ],
   "metadata": {
    "collapsed": false
   },
   "id": "c050ea65df657da7"
  },
  {
   "cell_type": "markdown",
   "source": [
    "### RMSE on LOO (non normalized)"
   ],
   "metadata": {
    "collapsed": false
   },
   "id": "84f91acfe58c9069"
  },
  {
   "cell_type": "code",
   "execution_count": null,
   "outputs": [],
   "source": [
    "rmse_stations_ta = []\n",
    "rmse_stations_slp = []\n",
    "\n",
    "for station_id in gt_stations.keys():\n",
    "    pred = pred_stations[station_id]\n",
    "    gt = gt_stations[station_id]\n",
    "    if missing_indicies[station_id]:\n",
    "        pred = np.delete(pred, missing_indicies[station_id])\n",
    "        gt = np.delete(gt, missing_indicies[station_id])\n",
    "    \n",
    "    rmse_station = np.sqrt(np.mean(np.square(gt - pred)))\n",
    "    if \"_ta\" in station_id:\n",
    "        rmse_stations_ta.append(rmse_station)\n",
    "    else:\n",
    "        rmse_stations_slp.append(rmse_station)\n",
    "\n",
    "print(np.mean(rmse_stations_ta))\n",
    "print(np.mean(rmse_stations_slp))\n",
    "    "
   ],
   "metadata": {
    "collapsed": false
   },
   "id": "7d67cbd8e55276d5"
  },
  {
   "cell_type": "code",
   "execution_count": null,
   "outputs": [],
   "source": [],
   "metadata": {
    "collapsed": false
   },
   "id": "e2c8a752e2676de7"
  },
  {
   "cell_type": "markdown",
   "source": [
    "## Time Series: Best / Worst LOO (TA only?)"
   ],
   "metadata": {
    "collapsed": false
   },
   "id": "a71d401ac8ec607a"
  },
  {
   "cell_type": "code",
   "execution_count": null,
   "outputs": [],
   "source": [
    "import pandas as pd"
   ],
   "metadata": {
    "collapsed": false
   },
   "id": "21dc418aaa26c15a"
  },
  {
   "cell_type": "code",
   "execution_count": null,
   "outputs": [],
   "source": [],
   "metadata": {
    "collapsed": false
   },
   "id": "986fe6612ce2e76e"
  },
  {
   "cell_type": "code",
   "execution_count": null,
   "outputs": [],
   "source": [
    "metrics_df = pd.DataFrame(taylor_metrics)\n",
    "ta_only_cols = list(filter(lambda x: \"_ta\" in x, metrics_df.columns))\n",
    "metrics_df = metrics_df[ta_only_cols]\n",
    "\n",
    "worst_station = metrics_df.idxmax(axis=1)['norm_rmse']\n",
    "best_station = metrics_df.idxmin(axis=1)['norm_rmse']\n",
    "print(f\"Worst station: {worst_station}\")\n",
    "print(f\"Best station: {best_station}\")\n",
    "\n",
    "best_rmse = metrics_df.loc['norm_rmse'][best_station].round(3)\n",
    "worst_rmse = metrics_df.loc['norm_rmse'][worst_station].round(3)\n",
    "print(best_rmse, worst_rmse)\n",
    "\n",
    "print(metrics_df.loc['norm_rmse'][[worst_station, best_station]])"
   ],
   "metadata": {
    "collapsed": false
   },
   "id": "c511e8440e7ca719"
  },
  {
   "cell_type": "code",
   "execution_count": null,
   "outputs": [],
   "source": [],
   "metadata": {
    "collapsed": false
   },
   "id": "2e7ab11f599ed99b"
  },
  {
   "cell_type": "code",
   "execution_count": null,
   "outputs": [],
   "source": [
    "import matplotlib.dates as mdates\n",
    "import matplotlib.pyplot as plt\n",
    "CITIES = {'CBT': 'Central Belgium', 'STK': 'Stockholm', \"STP\": 'St. Petersburg'}\n",
    "\n",
    "def create_station_line_plot(best_pred, best_gt, best_stat_id, best_baseline,\n",
    "                             worst_pred, worst_gt, worst_stat_id, worst_baseline,\n",
    "                             save_file_path=None):\n",
    "\n",
    "    fig, axs = plt.subplots(2, 1, figsize=(16, 11))\n",
    "\n",
    "    if \"_slp\" in best_stat_id:\n",
    "        # Convert to hPa\n",
    "        best_pred = best_pred / 100\n",
    "        best_gt = best_gt / 100\n",
    "    if \"_slp\" in worst_stat_id:\n",
    "        # Convert to hPa\n",
    "        worst_pred = worst_pred / 100\n",
    "        worst_gt = worst_gt / 100\n",
    "\n",
    "    date_range = pd.date_range('1807-01-01', freq='D', periods=365)\n",
    "\n",
    "    best_pred_df = pd.DataFrame({'vals': best_pred, 'dates': date_range})\n",
    "    best_gt_df = pd.DataFrame({'vals': best_gt, 'dates': date_range})\n",
    "    best_bl_df = pd.DataFrame({'vals': best_baseline, 'dates': date_range})\n",
    "\n",
    "    best_station_name = CITIES[best_stat_id.split('_')[0]]\n",
    "    best_title_addon = \"Temperature\" if \"_ta\" in best_stat_id else \"Pressure\"\n",
    "    axs[0].set_title(best_station_name + \" \" + best_title_addon)\n",
    "\n",
    "    axs[0].plot('dates', 'vals', data=best_pred_df, color='red', label=\"Reconstruction\")\n",
    "    axs[0].plot('dates', 'vals', data=best_gt_df, color='blue', label=\"Station observation\")\n",
    "    axs[0].plot('dates', 'vals', data=best_bl_df, color='green', label=\"Baseline (20CR mean)\")\n",
    "\n",
    "    axs[0].set_ylabel(\"ta [°C]\" if \"_ta\" in best_stat_id else \"slp [hPa]\")\n",
    "    # axs[0].set_xlabel(\"Year 1807\")\n",
    "\n",
    "    axs[0].grid(True)\n",
    "    axs[0].legend()\n",
    "\n",
    "    # Major ticks every half year, minor ticks every month,\n",
    "    axs[0].xaxis.set_major_locator(mdates.MonthLocator(bymonth=(1, 7)))\n",
    "    axs[0].xaxis.set_minor_locator(mdates.MonthLocator())\n",
    "    \n",
    "    \n",
    "    worst_pred_df = pd.DataFrame({'vals': worst_pred, 'dates': date_range})\n",
    "    worst_gt_df = pd.DataFrame({'vals': worst_gt, 'dates': date_range})\n",
    "    worst_bl_df = pd.DataFrame({'vals': worst_baseline, 'dates': date_range})\n",
    "    \n",
    "    worst_station_name = CITIES[worst_stat_id.split('_')[0]]\n",
    "    worst_title_addon = \"Temperature\" if \"_ta\" in worst_stat_id else \"Pressure\"\n",
    "    axs[1].set_title(worst_station_name + \" \" + worst_title_addon)\n",
    "\n",
    "    axs[1].plot('dates', 'vals', data=worst_pred_df, color='red', label=\"Reconstruction\")\n",
    "    axs[1].plot('dates', 'vals', data=worst_gt_df, color='blue', label=\"Station observation\")\n",
    "    axs[1].plot('dates', 'vals', data=worst_bl_df, color='green', label=\"Baseline (20CR mean)\")\n",
    "\n",
    "    axs[1].set_ylabel(\"ta [°C]\" if \"_ta\" in worst_stat_id else \"slp [hPa]\")\n",
    "    # axs[1].set_xlabel(\"Year 1807\")\n",
    "\n",
    "    axs[1].grid(True)\n",
    "    axs[1].legend()\n",
    "    \n",
    "    if save_file_path:\n",
    "        plt.savefig(save_file_path, bbox_inches='tight', pad_inches=0.1, dpi=300)\n",
    "\n",
    "    return fig"
   ],
   "metadata": {
    "collapsed": false
   },
   "id": "22e6fbc9e17c36d9"
  },
  {
   "cell_type": "code",
   "outputs": [],
   "source": [
    "best_baseline = np.load(\"mean20CR/stp_ta.npy\")\n",
    "worst_baseline = np.load(\"mean20CR/cbt_ta.npy\")\n",
    "print(worst_baseline.shape)"
   ],
   "metadata": {
    "collapsed": false
   },
   "id": "775d127b0012cd53",
   "execution_count": null
  },
  {
   "cell_type": "code",
   "execution_count": null,
   "outputs": [],
   "source": [
    "fig = create_station_line_plot(best_pred=pred_stations[best_station],\n",
    "                               best_gt=gt_stations[best_station],\n",
    "                               best_stat_id=best_station,\n",
    "                               best_baseline=best_baseline,\n",
    "                               worst_pred=pred_stations[worst_station],\n",
    "                               worst_gt=gt_stations[worst_station],\n",
    "                               worst_stat_id=worst_station,\n",
    "                               worst_baseline=worst_baseline,\n",
    "                               save_file_path=\"figures/best_worst_time_series.png\"\n",
    "                            )"
   ],
   "metadata": {
    "collapsed": false
   },
   "id": "924f06850b49e3e9"
  },
  {
   "cell_type": "code",
   "execution_count": null,
   "outputs": [],
   "source": [],
   "metadata": {
    "collapsed": false
   },
   "id": "a8ff437deaa7b411"
  },
  {
   "cell_type": "code",
   "outputs": [],
   "source": [
    "def ts_rmse(ts1, ts2):\n",
    "    return np.sqrt(np.mean(np.square(ts1 - ts2)))"
   ],
   "metadata": {
    "collapsed": false
   },
   "id": "65a33c453e313ec3",
   "execution_count": null
  },
  {
   "cell_type": "code",
   "outputs": [],
   "source": [],
   "metadata": {
    "collapsed": false
   },
   "id": "446ac42d10c5d2f3"
  },
  {
   "cell_type": "code",
   "outputs": [],
   "source": [
    "print(f\"RMSE BL-GT (STP): {round(ts_rmse(best_baseline, gt_stations[best_station]), 3)}\")\n",
    "print(f\"RMSE PRED-GT (STP): {round(ts_rmse(pred_stations[best_station], gt_stations[best_station]), 3)}\")\n",
    "\n",
    "print(f\"RMSE BL-GT (CBT): {round(ts_rmse(worst_baseline, gt_stations[worst_station]), 3)}\")\n",
    "print(f\"RMSE PRED-GT (CBT): {round(ts_rmse(pred_stations[worst_station], gt_stations[worst_station]), 3)}\")"
   ],
   "metadata": {
    "collapsed": false
   },
   "id": "1e63601441596b46",
   "execution_count": null
  },
  {
   "cell_type": "code",
   "outputs": [],
   "source": [],
   "metadata": {
    "collapsed": false
   },
   "id": "73ee90837bcb7693"
  },
  {
   "cell_type": "code",
   "outputs": [],
   "source": [],
   "metadata": {
    "collapsed": false
   },
   "id": "b993a52e0cc1a6a1"
  },
  {
   "cell_type": "markdown",
   "source": [
    "## Average highest temperature according to GT"
   ],
   "metadata": {
    "collapsed": false
   },
   "id": "b93655804faaae5a"
  },
  {
   "cell_type": "code",
   "execution_count": null,
   "outputs": [],
   "source": [
    "pred = np.load(FULL_PRED_FILE)\n",
    "pred.shape"
   ],
   "metadata": {
    "collapsed": false
   },
   "id": "d27147c2c9f72433"
  },
  {
   "cell_type": "code",
   "execution_count": null,
   "outputs": [],
   "source": [
    "temp_df = pd.DataFrame(gt_stations)\n",
    "temp_df = temp_df[list(filter(lambda c: \"_ta\" in c,  temp_df.columns))]\n",
    "temp_df"
   ],
   "metadata": {
    "collapsed": false
   },
   "id": "e856d98ac31ffd8f"
  },
  {
   "cell_type": "code",
   "execution_count": null,
   "outputs": [],
   "source": [
    "temp_df.mean(axis=1).argmax()"
   ],
   "metadata": {
    "collapsed": false
   },
   "id": "c3f9d0abfeab822f"
  },
  {
   "cell_type": "code",
   "execution_count": null,
   "outputs": [],
   "source": [
    "avg_max_id = 211\n",
    "avg_max_date = DATES[avg_max_id]\n",
    "print(avg_max_date)\n",
    "\n",
    "mid_id = avg_max_id - 2\n",
    "mid_date = DATES[mid_id]\n",
    "\n",
    "fig = display_predictions(pred, mid_id, mid_date, True)\n",
    "plt.savefig(\"figures/hottest_gt_day.png\", bbox_inches='tight', pad_inches=0.1)"
   ],
   "metadata": {
    "collapsed": false
   },
   "id": "70b1476aa42ef173"
  },
  {
   "cell_type": "code",
   "execution_count": null,
   "outputs": [],
   "source": [],
   "metadata": {
    "collapsed": false
   },
   "id": "fcc61ff7ccdd5169"
  }
 ],
 "metadata": {
  "kernelspec": {
   "display_name": "Python 3",
   "language": "python",
   "name": "python3"
  },
  "language_info": {
   "codemirror_mode": {
    "name": "ipython",
    "version": 2
   },
   "file_extension": ".py",
   "mimetype": "text/x-python",
   "name": "python",
   "nbconvert_exporter": "python",
   "pygments_lexer": "ipython2",
   "version": "2.7.6"
  }
 },
 "nbformat": 4,
 "nbformat_minor": 5
}

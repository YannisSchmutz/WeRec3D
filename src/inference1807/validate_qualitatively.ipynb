{
 "cells": [
  {
   "cell_type": "markdown",
   "source": [
    "# Validate Qualitatively"
   ],
   "metadata": {
    "collapsed": false
   },
   "id": "a5ff1a54c8cd3801"
  },
  {
   "cell_type": "code",
   "outputs": [],
   "source": [
    "import numpy as np\n",
    "import matplotlib.pyplot as plt\n",
    "import xarray as xr\n",
    "import pandas as pd\n",
    "\n",
    "from src.config import BASE_LAT_START, BASE_LAT_END, BASE_LON_START, BASE_LON_END\n",
    "from data_transformer import extract_stations_from_nc\n",
    "from data_provider import get_station_indices_map"
   ],
   "metadata": {
    "collapsed": false
   },
   "id": "3b5f5641db4bcbd7",
   "execution_count": null
  },
  {
   "cell_type": "code",
   "outputs": [],
   "source": [],
   "metadata": {
    "collapsed": false
   },
   "id": "8d483e34f31ab9ba",
   "execution_count": null
  },
  {
   "cell_type": "code",
   "outputs": [],
   "source": [],
   "metadata": {
    "collapsed": false
   },
   "id": "333b3cb6994c5fdc",
   "execution_count": null
  },
  {
   "cell_type": "code",
   "outputs": [],
   "source": [
    "pred = np.load('predictions/full_pred_plain.npy')\n",
    "# Convert to hecto pascal\n",
    "pred[...,1] = pred[...,1] /100\n",
    "print(pred.shape)\n",
    "\n",
    "ground_truth = xr.load_dataset(\"data_sets/ground_truth.nc\")\n",
    "station_indx_map = get_station_indices_map()\n",
    "gt_stations = extract_stations_from_nc(ground_truth, station_indx_map)  # Is scaled.\n",
    "\n",
    "\n",
    "\n",
    "DATES = pd.date_range('1807-01-01', freq='D', periods=365).values\n",
    "DATES = list(map(lambda d: str(d).split('T')[0], DATES))\n",
    "def date_to_id(date):\n",
    "    return DATES.index(date)"
   ],
   "metadata": {
    "collapsed": false
   },
   "id": "bf68fd45f3708515",
   "execution_count": null
  },
  {
   "cell_type": "code",
   "outputs": [],
   "source": [],
   "metadata": {
    "collapsed": false
   },
   "id": "f2b1c494315ff8ea",
   "execution_count": null
  },
  {
   "cell_type": "markdown",
   "source": [
    "## Get Average Hottest and Coldest Day according to GT Observations"
   ],
   "metadata": {
    "collapsed": false
   },
   "id": "90a589b034fa522f"
  },
  {
   "cell_type": "code",
   "outputs": [],
   "source": [
    "temp_df = pd.DataFrame(gt_stations)\n",
    "temp_df = temp_df[list(filter(lambda c: \"_ta\" in c,  temp_df.columns))]\n",
    "temp_df.head(5)"
   ],
   "metadata": {
    "collapsed": false
   },
   "id": "1297ac0af5e71858",
   "execution_count": null
  },
  {
   "cell_type": "code",
   "outputs": [],
   "source": [
    "hottest_id = temp_df.mean(axis=1).argmax()\n",
    "coolest_id = temp_df.mean(axis=1).argmin()\n",
    "\n",
    "hottest_date = DATES[hottest_id]\n",
    "coolest_date = DATES[coolest_id]\n",
    "\n",
    "print(f\"Hottest date: {hottest_date} ({hottest_id})\")\n",
    "print(f\"Coolest date: {coolest_date} ({coolest_id})\")"
   ],
   "metadata": {
    "collapsed": false
   },
   "id": "b6978a5195fc71f3",
   "execution_count": null
  },
  {
   "cell_type": "markdown",
   "source": [
    "## Extract anomalies for those two days"
   ],
   "metadata": {
    "collapsed": false
   },
   "id": "e48acf560e874705"
  },
  {
   "cell_type": "code",
   "outputs": [],
   "source": [
    "import statsmodels.api as sm\n",
    "\n",
    "def extract_ta_cell_anomaly(y_obs, n_doy=365):\n",
    "    \"\"\"\n",
    "    y_obs: one cell over time.\n",
    "    \"\"\"\n",
    "    x_ = np.linspace(0, n_doy - 1, n_doy)  # doy\n",
    "    x1 = np.sin((2 * np.pi * x_) / n_doy)\n",
    "    x2 = np.cos((2 * np.pi * x_) / n_doy)\n",
    "    x3 = np.sin((4 * np.pi * x_) / n_doy)\n",
    "    x4 = np.cos((4 * np.pi * x_) / n_doy)\n",
    "\n",
    "    x = pd.DataFrame(data={'x1': x1, 'x2': x2, 'x3': x3, 'x4': x4})\n",
    "    x_sm = sm.add_constant(x)\n",
    "    model = sm.OLS(y_obs, x_sm).fit()\n",
    "    c0, c1, c2, c3, c4 = model.params\n",
    "    saisonal_component = c0 + c1 * x_sm.x1 + c2 * x_sm.x2 + c3 * x_sm.x3 + c4 * x_sm.x4\n",
    "    desaisonalized = y_obs - saisonal_component\n",
    "    # Insert nans again:\n",
    "   \n",
    "    return desaisonalized.to_numpy()\n",
    "\n",
    "\n",
    "# FOR TEMPERATURE\n",
    "# For each cell, remove seasonality.\n",
    "ta_anomaly = pred[..., 0].copy()\n",
    "for row in range(ta_anomaly.shape[1]):\n",
    "    for column in range(ta_anomaly.shape[2]):\n",
    "        ta_anomaly[:, row, column] = extract_ta_cell_anomaly(ta_anomaly[:, row, column])\n",
    "\n",
    "\n",
    "\n",
    "# FOR PRESSURE\n",
    "# Remove long-term average for each day of the year\n",
    "inference_ymean = np.load(\"../data_sets/ymean_sets/inference_ymean.npy\")\n",
    "# Convert to hecto pascal\n",
    "inference_ymean[...,1] = inference_ymean[...,1] /100\n",
    "slp_anomaly = pred[..., 1] - inference_ymean[..., 1]\n",
    "\n",
    "anomaly = np.concatenate([np.expand_dims(ta_anomaly, axis=-1),\n",
    "                          np.expand_dims(slp_anomaly, axis=-1)], \n",
    "                         axis=-1)\n",
    "print(anomaly.shape)\n"
   ],
   "metadata": {
    "collapsed": false
   },
   "id": "eabbc81fb8b12f7b",
   "execution_count": null
  },
  {
   "cell_type": "code",
   "outputs": [],
   "source": [],
   "metadata": {
    "collapsed": false
   },
   "id": "68f88bc643eb8c0e",
   "execution_count": null
  },
  {
   "cell_type": "markdown",
   "source": [
    "## Display Climatology and Anomaly Fields"
   ],
   "metadata": {
    "collapsed": false
   },
   "id": "50c7550a31ee66ec"
  },
  {
   "cell_type": "code",
   "outputs": [],
   "source": [
    "import cartopy.crs as ccrs\n",
    "\n",
    "def display_single_field(pred, anomaly, hot_id, cold_id, hot_date, cold_date, savefig=None):\n",
    "    fig, axes = plt.subplots(2, 2, figsize=(10, 5), subplot_kw={'projection': ccrs.PlateCarree()})\n",
    "    \n",
    "    fig.subplots_adjust(right=0.95)\n",
    "    # Pred\n",
    "    ta_hot_pred = pred[hot_id, :, :, 0]\n",
    "    slp_hot_pred = pred[hot_id, :, :, 1]\n",
    "    ta_cold_pred = pred[cold_id, :, :, 0]\n",
    "    slp_cold_pred = pred[cold_id, :, :, 1]\n",
    "    # Anomaly\n",
    "    ta_hot_anomaly = anomaly[hot_id, :, :, 0]\n",
    "    slp_hot_anomaly = anomaly[hot_id, :, :, 1]\n",
    "    ta_cold_anomaly = anomaly[cold_id, :, :, 0]\n",
    "    slp_cold_anomaly = anomaly[cold_id, :, :, 1]\n",
    "    \n",
    "    lon = np.linspace(BASE_LON_START, BASE_LON_END, 64)\n",
    "    lat = np.linspace(BASE_LAT_START, BASE_LAT_END, 32)\n",
    "    \n",
    "    \n",
    "    vmin_ta_pred = np.min([np.min(ta_hot_pred), np.min(ta_cold_pred)])\n",
    "    vmax_ta_pred = np.max([np.max(ta_hot_pred), np.max(ta_cold_pred)])\n",
    "    # print(vmin_ta_pred, vmax_ta_pred)  # -20.1052655768291 31.328528743749473\n",
    "    levels_pred = np.linspace(-20, 31, 52)\n",
    "    vmin_ta_anom = np.min([np.min(ta_hot_anomaly), np.min(ta_cold_anomaly)])\n",
    "    vmax_ta_anom = np.max([np.max(ta_hot_anomaly), np.max(ta_cold_anomaly)])\n",
    "    print(vmin_ta_anom, vmax_ta_anom)  # -11.774751807514129 6.773982302487481\n",
    "    levels_anom = np.linspace(-12, 7, 20)\n",
    "    \n",
    "    # === ROW 0 -> Climatology ===\n",
    "    # --- Hot Ta ---\n",
    "    axes[0,0].set_extent((BASE_LON_START, BASE_LON_END, BASE_LAT_START, BASE_LAT_END), crs=ccrs.PlateCarree())\n",
    "    axes[0,0].coastlines(resolution='110m', color='gray')\n",
    "    axes[0,0].set_title(\"a: \" + hot_date, fontsize=11)\n",
    "    contourf_1 = axes[0,0].contourf(lon, lat, ta_hot_pred, transform=ccrs.PlateCarree(), levels=levels_pred, vmin=vmin_ta_pred, vmax=vmax_ta_pred, cmap='coolwarm')\n",
    "    #                 tuple (left, bottom, width, height)\n",
    "    sub_ax_1 = fig.add_axes([0.5, 0.53, 0.02, 0.35])\n",
    "    fig.colorbar(contourf_1, cax=sub_ax_1, extend='both', boundaries=[vmin_ta_pred, vmax_ta_pred])\n",
    "    # --- Hot SLP ---\n",
    "    # Add slp as contour LINES on top\n",
    "    contourf_1_1 = axes[0,0].contour(lon, lat, slp_hot_pred, transform=ccrs.PlateCarree(), colors='black', levels=7)\n",
    "    axes[0,0].clabel(contourf_1_1, inline=True, fontsize=7)\n",
    "    \n",
    "    # --- Cold Ta ---\n",
    "    axes[0,1].set_extent((BASE_LON_START, BASE_LON_END, BASE_LAT_START, BASE_LAT_END), crs=ccrs.PlateCarree())\n",
    "    axes[0,1].coastlines(resolution='110m', color='gray')\n",
    "    axes[0,1].set_title(\"b: \" + cold_date, fontsize=11)\n",
    "    contourf_2 = axes[0,1].contourf(lon, lat, ta_cold_pred, transform=ccrs.PlateCarree(), levels=levels_pred, vmin=vmin_ta_pred, vmax=vmax_ta_pred, cmap='coolwarm')\n",
    "    #                 tuple (left, bottom, width, height)\n",
    "    sub_ax_2 = fig.add_axes([0.95, 0.53, 0.02, 0.35])\n",
    "    fig.colorbar(contourf_2, cax=sub_ax_2, extend='both', boundaries=[vmin_ta_pred, vmax_ta_pred])\n",
    "    # --- Cold SLP ---\n",
    "    # Add slp as contour LINES on top\n",
    "    contourf_2_1 = axes[0,1].contour(lon, lat, slp_cold_pred, transform=ccrs.PlateCarree(), colors='black', levels=7)\n",
    "    axes[0,1].clabel(contourf_2_1, inline=True, fontsize=7)\n",
    "    \n",
    "    \n",
    "    # === ROW 1 -> Anomaly ===\n",
    "    # --- Hot Ta ---\n",
    "    axes[1,0].set_extent((BASE_LON_START, BASE_LON_END, BASE_LAT_START, BASE_LAT_END), crs=ccrs.PlateCarree())\n",
    "    axes[1,0].coastlines(resolution='110m', color='gray')\n",
    "    # axes[1,0].set_title(hot_date, fontsize=7)\n",
    "    contourf_3 = axes[1,0].contourf(lon, lat, ta_hot_anomaly, transform=ccrs.PlateCarree(), levels=levels_anom, vmin=vmin_ta_anom, vmax=vmax_ta_anom, cmap='coolwarm')\n",
    "    #                 tuple (left, bottom, width, height)\n",
    "    sub_ax_3 = fig.add_axes([0.5, 0.11, 0.02, 0.35])\n",
    "    fig.colorbar(contourf_3, cax=sub_ax_3)\n",
    "    # --- Hot SLP ---\n",
    "    # Add slp as contour LINES on top\n",
    "    contourf_3_1 = axes[1,0].contour(lon, lat, slp_hot_anomaly, transform=ccrs.PlateCarree(), colors='black', levels=7)\n",
    "    axes[1,0].clabel(contourf_3_1, inline=True, fontsize=7)\n",
    "    \n",
    "    # --- Cold Ta ---\n",
    "    axes[1,1].set_extent((BASE_LON_START, BASE_LON_END, BASE_LAT_START, BASE_LAT_END), crs=ccrs.PlateCarree())\n",
    "    axes[1,1].coastlines(resolution='110m', color='gray')\n",
    "    # axes[1,1].set_title(cold_date, fontsize=7)\n",
    "    contourf_4 = axes[1,1].contourf(lon, lat, ta_cold_anomaly, transform=ccrs.PlateCarree(), levels=levels_anom, vmin=vmin_ta_anom, vmax=vmax_ta_anom, cmap='coolwarm')\n",
    "    #                 tuple (left, bottom, width, height)\n",
    "    sub_ax_4 = fig.add_axes([0.95, 0.11, 0.02, 0.35])\n",
    "    fig.colorbar(contourf_4, cax=sub_ax_4)\n",
    "    # --- Cold SLP ---\n",
    "    # Add slp as contour LINES on top\n",
    "    contourf_4_1 = axes[1,1].contour(lon, lat, slp_cold_anomaly, transform=ccrs.PlateCarree(), colors='black', levels=7)\n",
    "    axes[1,1].clabel(contourf_4_1, inline=True, fontsize=7)\n",
    "    \n",
    "    fig.text(0.11, 0.56, \"Absolute [°C, hPa]\", fontsize=11, rotation=90)\n",
    "    fig.text(0.11, 0.15, \"Anomaly [°C, hPa]\", fontsize=11, rotation=90)\n",
    "\n",
    "    \n",
    "    if savefig:\n",
    "        plt.savefig(\"figures/qualitative_single_fields.png\", \n",
    "            bbox_inches='tight',\n",
    "            pad_inches=0.1,\n",
    "            dpi=300,\n",
    "            )\n",
    "    \n",
    "    \n",
    "display_single_field(pred, anomaly, hottest_id, coolest_id, hottest_date, coolest_date, savefig=True)\n",
    "    \n",
    "    "
   ],
   "metadata": {
    "collapsed": false
   },
   "id": "e0b9e95165fd8e29",
   "execution_count": null
  },
  {
   "cell_type": "code",
   "outputs": [],
   "source": [],
   "metadata": {
    "collapsed": false
   },
   "id": "63405661f87458a0",
   "execution_count": null
  },
  {
   "cell_type": "markdown",
   "source": [
    "## Display climat, anom and 20c4"
   ],
   "metadata": {
    "collapsed": false
   },
   "id": "b2b1456fb84296ca"
  },
  {
   "cell_type": "code",
   "outputs": [],
   "source": [
    "baseline_ta = np.load(\"mean20CR/ta_20cr_mean.npy\")\n",
    "baseline_slp = np.load(\"mean20CR/slp_20cr_mean.npy\")"
   ],
   "metadata": {
    "collapsed": false
   },
   "id": "139740555ba0b7bb",
   "execution_count": null
  },
  {
   "cell_type": "code",
   "outputs": [],
   "source": [],
   "metadata": {
    "collapsed": false
   },
   "id": "264b378e53b16199",
   "execution_count": null
  },
  {
   "cell_type": "code",
   "outputs": [],
   "source": [],
   "metadata": {
    "collapsed": false
   },
   "id": "a5964796d2f9ff11"
  },
  {
   "cell_type": "code",
   "outputs": [],
   "source": [],
   "metadata": {
    "collapsed": false
   },
   "id": "e4ab493f462a80cc"
  },
  {
   "cell_type": "code",
   "outputs": [],
   "source": [
    "def display_single_field_with_bl(pred, anomaly, bl_ta, bl_slp,\n",
    "                                 hot_id, cold_id, hot_date, cold_date, savefig=None):\n",
    "    fig, axes = plt.subplots(3, 2, figsize=(10, 8), subplot_kw={'projection': ccrs.PlateCarree()})\n",
    "    \n",
    "    fig.subplots_adjust(right=0.95)\n",
    "    # Pred\n",
    "    ta_hot_pred = pred[hot_id, :, 1:, 0]\n",
    "    slp_hot_pred = pred[hot_id, :, 1:, 1]\n",
    "    ta_cold_pred = pred[cold_id, :, 1:, 0]\n",
    "    slp_cold_pred = pred[cold_id, :, 1:, 1]\n",
    "    # Anomaly\n",
    "    ta_hot_anomaly = anomaly[hot_id, :, 1:, 0]\n",
    "    slp_hot_anomaly = anomaly[hot_id, :, 1:, 1]\n",
    "    ta_cold_anomaly = anomaly[cold_id, :, 1:, 0]\n",
    "    slp_cold_anomaly = anomaly[cold_id, :, 1:, 1]\n",
    "    # Baseline\n",
    "    ta_hot_bl = bl_ta[hot_id]\n",
    "    slp_hot_bl = bl_slp[hot_id] / 100\n",
    "    ta_cold_bl = bl_ta[cold_id]\n",
    "    slp_cold_bl = bl_slp[cold_id] / 100\n",
    "    \n",
    "    lon = np.linspace(BASE_LON_START+1, BASE_LON_END, 63)\n",
    "    lat = np.linspace(BASE_LAT_START, BASE_LAT_END, 32)\n",
    "    \n",
    "    \n",
    "    vmin_ta_pred = np.min([np.min(ta_hot_pred), np.min(ta_cold_pred)])\n",
    "    vmax_ta_pred = np.max([np.max(ta_hot_pred), np.max(ta_cold_pred)])\n",
    "    # print(vmin_ta_pred, vmax_ta_pred)  # -20.1052655768291 31.328528743749473\n",
    "    levels_pred = np.linspace(-20, 31, 52)\n",
    "    vmin_ta_anom = np.min([np.min(ta_hot_anomaly), np.min(ta_cold_anomaly)])\n",
    "    vmax_ta_anom = np.max([np.max(ta_hot_anomaly), np.max(ta_cold_anomaly)])\n",
    "    print(vmin_ta_anom, vmax_ta_anom)  # -11.774751807514129 6.773982302487481\n",
    "    levels_anom = np.linspace(-12, 7, 20)\n",
    "    vmin_ta_bl = np.min([np.min(ta_hot_bl), np.min(ta_cold_bl)])\n",
    "    vmax_ta_bl = np.max([np.max(ta_hot_bl), np.max(ta_cold_bl)])\n",
    "    print(vmin_ta_bl, vmax_ta_bl)  # -16.744835 40.652527\n",
    "    levels_bl = np.linspace(-17, 41, 59)\n",
    "    \n",
    "    \n",
    "    vmin_ta_climat = np.min((vmin_ta_pred, vmin_ta_bl))\n",
    "    vmax_ta_climat = np.max((vmax_ta_pred, vmax_ta_bl))\n",
    "    print(vmin_ta_climat, vmax_ta_climat)  # -20.1052655768291 40.65252685546875\n",
    "    levels_climat = np.linspace(-20, 41, 62)\n",
    "    \n",
    "    # === ROW 0 -> Climatology ===\n",
    "    # --- Hot Ta ---\n",
    "    axes[0,0].set_extent((BASE_LON_START+1, BASE_LON_END, BASE_LAT_START, BASE_LAT_END), crs=ccrs.PlateCarree())\n",
    "    axes[0,0].coastlines(resolution='110m', color='gray')\n",
    "    axes[0,0].set_title(\"a: \" + hot_date, fontsize=11)\n",
    "    contourf_1 = axes[0,0].contourf(lon, lat, ta_hot_pred, transform=ccrs.PlateCarree(), levels=levels_climat, vmin=vmin_ta_climat, vmax=vmax_ta_climat, cmap='coolwarm')\n",
    "    #                 tuple (left, bottom, width, height)\n",
    "    sub_ax_1 = fig.add_axes([0.5, 0.653, 0.02, 0.227])\n",
    "    fig.colorbar(contourf_1, cax=sub_ax_1, extend='both', boundaries=[vmin_ta_climat, vmax_ta_climat])\n",
    "    # --- Hot SLP ---\n",
    "    # Add slp as contour LINES on top\n",
    "    contourf_1_1 = axes[0,0].contour(lon, lat, slp_hot_pred, transform=ccrs.PlateCarree(), colors='black', levels=7)\n",
    "    axes[0,0].clabel(contourf_1_1, inline=True, fontsize=7)\n",
    "    \n",
    "    # --- Cold Ta ---\n",
    "    axes[0,1].set_extent((BASE_LON_START+1, BASE_LON_END, BASE_LAT_START, BASE_LAT_END), crs=ccrs.PlateCarree())\n",
    "    axes[0,1].coastlines(resolution='110m', color='gray')\n",
    "    axes[0,1].set_title(\"b: \" + cold_date, fontsize=11)\n",
    "    contourf_2 = axes[0,1].contourf(lon, lat, ta_cold_pred, transform=ccrs.PlateCarree(), levels=levels_climat, vmin=vmin_ta_climat, vmax=vmax_ta_climat, cmap='coolwarm')\n",
    "    #                 tuple (left, bottom, width, height)\n",
    "    sub_ax_2 = fig.add_axes([0.95, 0.653, 0.02, 0.227])\n",
    "    fig.colorbar(contourf_2, cax=sub_ax_2, extend='both', boundaries=[vmin_ta_climat, vmax_ta_climat])\n",
    "    # --- Cold SLP ---\n",
    "    # Add slp as contour LINES on top\n",
    "    contourf_2_1 = axes[0,1].contour(lon, lat, slp_cold_pred, transform=ccrs.PlateCarree(), colors='black', levels=7)\n",
    "    axes[0,1].clabel(contourf_2_1, inline=True, fontsize=7)\n",
    "    \n",
    "    \n",
    "    # === ROW 1 -> Anomaly ===\n",
    "    # --- Hot Ta ---\n",
    "    axes[1,0].set_extent((BASE_LON_START+1, BASE_LON_END, BASE_LAT_START, BASE_LAT_END), crs=ccrs.PlateCarree())\n",
    "    axes[1,0].coastlines(resolution='110m', color='gray')\n",
    "    # axes[1,0].set_title(hot_date, fontsize=7)\n",
    "    contourf_3 = axes[1,0].contourf(lon, lat, ta_hot_anomaly, transform=ccrs.PlateCarree(), levels=levels_anom, vmin=vmin_ta_anom, vmax=vmax_ta_anom, cmap='coolwarm')\n",
    "    #                 tuple (left, bottom, width, height)\n",
    "    sub_ax_3 = fig.add_axes([0.5, 0.381, 0.02, 0.228])\n",
    "    fig.colorbar(contourf_3, cax=sub_ax_3)\n",
    "    # --- Hot SLP ---\n",
    "    # Add slp as contour LINES on top\n",
    "    contourf_3_1 = axes[1,0].contour(lon, lat, slp_hot_anomaly, transform=ccrs.PlateCarree(), colors='black', levels=7)\n",
    "    axes[1,0].clabel(contourf_3_1, inline=True, fontsize=7)\n",
    "    \n",
    "    # --- Cold Ta ---\n",
    "    axes[1,1].set_extent((BASE_LON_START+1, BASE_LON_END, BASE_LAT_START, BASE_LAT_END), crs=ccrs.PlateCarree())\n",
    "    axes[1,1].coastlines(resolution='110m', color='gray')\n",
    "    # axes[1,1].set_title(cold_date, fontsize=7)\n",
    "    contourf_4 = axes[1,1].contourf(lon, lat, ta_cold_anomaly, transform=ccrs.PlateCarree(), levels=levels_anom, vmin=vmin_ta_anom, vmax=vmax_ta_anom, cmap='coolwarm')\n",
    "    #                 tuple (left, bottom, width, height)\n",
    "    sub_ax_4 = fig.add_axes([0.95, 0.381, 0.02, 0.228])\n",
    "    fig.colorbar(contourf_4, cax=sub_ax_4)\n",
    "    # --- Cold SLP ---\n",
    "    # Add slp as contour LINES on top\n",
    "    contourf_4_1 = axes[1,1].contour(lon, lat, slp_cold_anomaly, transform=ccrs.PlateCarree(), colors='black', levels=7)\n",
    "    axes[1,1].clabel(contourf_4_1, inline=True, fontsize=7)\n",
    "    \n",
    "    \n",
    "    \n",
    "    # === ROW 2 -> 20CR / BL ===\n",
    "    # --- Hot Ta ---\n",
    "    lon_bl = np.linspace(BASE_LON_START+1.4, BASE_LON_END, 64)\n",
    "    lat_bl = np.linspace(BASE_LAT_START, BASE_LAT_END, 32)\n",
    "    axes[2,0].set_extent((BASE_LON_START+1, BASE_LON_END, BASE_LAT_START, BASE_LAT_END), crs=ccrs.PlateCarree())\n",
    "    axes[2,0].coastlines(resolution='110m', color='gray')\n",
    "    # axes[1,0].set_title(hot_date, fontsize=7)\n",
    "    contourf_5 = axes[2,0].contourf(lon_bl, lat_bl, ta_hot_bl, transform=ccrs.PlateCarree(), levels=levels_climat, vmin=vmin_ta_climat, vmax=vmax_ta_climat, cmap='coolwarm')\n",
    "    #                 tuple (left, bottom, width, height)\n",
    "    sub_ax_5 = fig.add_axes([0.5, 0.11, 0.02, 0.228])\n",
    "    fig.colorbar(contourf_5, cax=sub_ax_5, boundaries=[vmin_ta_climat, vmax_ta_climat])\n",
    "    # --- Hot SLP ---\n",
    "    # Add slp as contour LINES on top\n",
    "    contourf_5_1 = axes[2,0].contour(lon_bl, lat_bl, slp_hot_bl, transform=ccrs.PlateCarree(), colors='black', levels=8)\n",
    "    axes[2,0].clabel(contourf_5_1, inline=True, fontsize=7)\n",
    "    \n",
    "    # --- Cold Ta ---\n",
    "    axes[2,1].set_extent((BASE_LON_START+1, BASE_LON_END, BASE_LAT_START, BASE_LAT_END), crs=ccrs.PlateCarree())\n",
    "    axes[2,1].coastlines(resolution='110m', color='gray')\n",
    "    # axes[1,1].set_title(cold_date, fontsize=7)\n",
    "    contourf_6 = axes[2,1].contourf(lon_bl, lat_bl, ta_cold_bl, transform=ccrs.PlateCarree(), levels=levels_climat, vmin=vmin_ta_climat, vmax=vmax_ta_climat, cmap='coolwarm')\n",
    "    #                 tuple (left, bottom, width, height)\n",
    "    sub_ax_6 = fig.add_axes([0.95, 0.11, 0.02, 0.228])\n",
    "    fig.colorbar(contourf_6, cax=sub_ax_6, boundaries=[vmin_ta_climat, vmax_ta_climat])\n",
    "    # --- Cold SLP ---\n",
    "    # Add slp as contour LINES on top\n",
    "    contourf_6_1 = axes[2,1].contour(lon_bl, lat_bl, slp_cold_bl, transform=ccrs.PlateCarree(), colors='black', levels=8)\n",
    "    axes[2,1].clabel(contourf_6_1, inline=True, fontsize=7)\n",
    "    \n",
    "    \n",
    "    fig.text(0.11, 0.68, \"Absolute [°C, hPa]\", fontsize=11, rotation=90)\n",
    "    fig.text(0.11, 0.41, \"Anomaly [°C, hPa]\", fontsize=11, rotation=90)\n",
    "    fig.text(0.11, 0.16, \"20CR [°C, hPa]\", fontsize=11, rotation=90)\n",
    "\n",
    "    \n",
    "    if savefig:\n",
    "        plt.savefig(\"figures/qualitative_single_fields_bl.png\", \n",
    "            bbox_inches='tight',\n",
    "            pad_inches=0.1,\n",
    "            dpi=300,\n",
    "            )\n",
    "    \n",
    "    \n",
    "display_single_field_with_bl(pred, anomaly, baseline_ta, baseline_slp, hottest_id, coolest_id, hottest_date, coolest_date, savefig=True)"
   ],
   "metadata": {
    "collapsed": false
   },
   "id": "49b45f56cec72d3c",
   "execution_count": null
  },
  {
   "cell_type": "code",
   "outputs": [],
   "source": [],
   "metadata": {
    "collapsed": false
   },
   "id": "a2265aa5290bc299"
  }
 ],
 "metadata": {
  "kernelspec": {
   "display_name": "Python 3",
   "language": "python",
   "name": "python3"
  },
  "language_info": {
   "codemirror_mode": {
    "name": "ipython",
    "version": 2
   },
   "file_extension": ".py",
   "mimetype": "text/x-python",
   "name": "python",
   "nbconvert_exporter": "python",
   "pygments_lexer": "ipython2",
   "version": "2.7.6"
  }
 },
 "nbformat": 4,
 "nbformat_minor": 5
}

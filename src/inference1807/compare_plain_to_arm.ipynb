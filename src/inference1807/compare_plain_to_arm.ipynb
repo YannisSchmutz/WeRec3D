{
 "cells": [
  {
   "cell_type": "code",
   "execution_count": null,
   "id": "initial_id",
   "metadata": {
    "collapsed": true
   },
   "outputs": [],
   "source": [
    "import os\n",
    "from pathlib import Path\n",
    "SCRIPT_DIR = os.path.dirname(os.path.abspath(\"__init__.py\"))\n",
    "SRC_DIR = Path(SCRIPT_DIR).parent.absolute()\n",
    "print(SRC_DIR)"
   ]
  },
  {
   "cell_type": "code",
   "execution_count": null,
   "outputs": [],
   "source": [
    "%load_ext autoreload\n",
    "%autoreload 2"
   ],
   "metadata": {
    "collapsed": false
   },
   "id": "19221a16c14befe0"
  },
  {
   "cell_type": "code",
   "execution_count": null,
   "outputs": [],
   "source": [
    "import xarray as xr\n",
    "\n",
    "from data_transformer import extract_stations_from_nc\n",
    "from data_provider import get_station_indices_map\n",
    "\n",
    "from taylor_helpers import get_nan_ids, extract_anomalies, get_loo_taylor_metrics\n",
    "from plotting import create_normed_taylor_diagram"
   ],
   "metadata": {
    "collapsed": false
   },
   "id": "1cc2c343c08fa809"
  },
  {
   "cell_type": "code",
   "execution_count": null,
   "outputs": [],
   "source": [
    "GROUND_TRUTH = \"data_sets/ground_truth.nc\"\n",
    "LOO_PRED_FILE_PLAIN = \"predictions/loo_pred_plain.nc\"\n",
    "LOO_PRED_FILE_ARM = \"predictions/loo_pred_arm.nc\""
   ],
   "metadata": {
    "collapsed": false
   },
   "id": "fd382bce9af706f"
  },
  {
   "cell_type": "code",
   "execution_count": null,
   "outputs": [],
   "source": [
    "station_indx_map = get_station_indices_map()\n",
    "ground_truth = xr.load_dataset(GROUND_TRUTH)\n",
    "gt_stations = extract_stations_from_nc(ground_truth, station_indx_map)  # Is scaled.\n",
    "missing_indicies = get_nan_ids(gt_stations)\n",
    "anomaly_gt_stations = extract_anomalies(gt_stations, station_indx_map, missing_indicies)    # GT has NaNs\n",
    "\n",
    "# PLAIN\n",
    "loo_pred_plain = xr.load_dataset(LOO_PRED_FILE_PLAIN)\n",
    "pred_stations_plain = extract_stations_from_nc(loo_pred_plain, station_indx_map)\n",
    "anomaly_pred_stations_plain = extract_anomalies(pred_stations_plain, station_indx_map)  \n",
    "taylor_metrics_plain = get_loo_taylor_metrics(anomaly_gt_stations, anomaly_pred_stations_plain, missing_indicies)\n",
    "\n",
    "\n",
    "\n",
    "# ARM\n",
    "loo_pred_arm = xr.load_dataset(LOO_PRED_FILE_ARM)\n",
    "pred_stations_arm = extract_stations_from_nc(loo_pred_arm, station_indx_map)\n",
    "anomaly_pred_stations_arm = extract_anomalies(pred_stations_arm, station_indx_map) \n",
    "taylor_metrics_arm = get_loo_taylor_metrics(anomaly_gt_stations, anomaly_pred_stations_arm, missing_indicies)"
   ],
   "metadata": {
    "collapsed": false
   },
   "id": "5a99fc0faa4f2c17"
  },
  {
   "cell_type": "code",
   "execution_count": null,
   "outputs": [],
   "source": [
    "# Verify same order\n",
    "if not taylor_metrics_arm.keys() == taylor_metrics_plain.keys():\n",
    "    raise Exception('Order is not the same!')\n"
   ],
   "metadata": {
    "collapsed": false
   },
   "id": "ea72f074e9069856"
  },
  {
   "cell_type": "code",
   "execution_count": null,
   "outputs": [],
   "source": [
    "# markers"
   ],
   "metadata": {
    "collapsed": false
   },
   "id": "be2de72a8291a8f0"
  },
  {
   "cell_type": "markdown",
   "source": [
    "# Double-Taylor Plot"
   ],
   "metadata": {
    "collapsed": false
   },
   "id": "b562a7da42aec59d"
  },
  {
   "cell_type": "code",
   "execution_count": null,
   "outputs": [],
   "source": [
    "import matplotlib.pyplot as plt\n",
    "from matplotlib.projections import PolarAxes\n",
    "from mpl_toolkits.axisartist import grid_finder\n",
    "from mpl_toolkits.axisartist import floating_axes\n",
    "import numpy as np"
   ],
   "metadata": {
    "collapsed": false
   },
   "id": "41db4b2745b7afc1"
  },
  {
   "cell_type": "code",
   "execution_count": null,
   "outputs": [],
   "source": [],
   "metadata": {
    "collapsed": false
   },
   "id": "dd428eced978db8c"
  },
  {
   "cell_type": "code",
   "execution_count": null,
   "outputs": [],
   "source": [
    "#import warnings\n",
    "#warnings.filterwarnings('error')\n",
    "\n",
    "ref_std = 1\n",
    "std_axis_min = 0\n",
    "std_axis_max = 2 * ref_std\n",
    "# markers = [\".\" if \"_ta\" in k else \"x\" for k in taylor_metrics_arm.keys()]\n",
    "markers = [\".\", \"x\", \"s\", \"+\"]\n",
    "marker_sizes = [8, 5, 4, 6]\n",
    "\n",
    "\n",
    "polar_transform = PolarAxes.PolarTransform()\n",
    "corr_labels = np.array([0, 0.2, 0.4, 0.6, 0.7, 0.8, 0.9, 0.95, 0.99, 1])\n",
    "polar_axis_min = 0\n",
    "polar_axis_max = np.pi/2\n",
    "polar_label_locations = np.arccos(corr_labels)\n",
    "corr_pos_label_mapper = grid_finder.DictFormatter({\n",
    "        polar_label_locations[i] : str(corr_labels[i]) for i in range(len(corr_labels))\n",
    "    })\n",
    "locator = grid_finder.FixedLocator(polar_label_locations)\n",
    "grid_helper = floating_axes.GridHelperCurveLinear(aux_trans=polar_transform,\n",
    "                                                  extremes=(polar_axis_min, polar_axis_max,\n",
    "                                                                std_axis_min, std_axis_max),\n",
    "                                                      grid_locator1=locator,\n",
    "                                                      tick_formatter1=corr_pos_label_mapper)\n",
    "\n",
    "fig = plt.figure(figsize=(10,10))\n",
    "ax1 = floating_axes.FloatingSubplot(fig, 221, grid_helper=grid_helper)\n",
    "ax2 = floating_axes.FloatingSubplot(fig, 222, grid_helper=grid_helper)\n",
    "ax3 = floating_axes.FloatingSubplot(fig, 223, grid_helper=grid_helper)\n",
    "ax4 = floating_axes.FloatingSubplot(fig, 224, grid_helper=grid_helper)\n",
    "\n",
    "#      t-plain, p-plain, t-arm, p-arm\n",
    "axes = [ax1, ax2, ax3, ax4]\n",
    "include_legend = [False, True]\n",
    "titles = [\"LOO Temperature\", \"LOO Pressure\", \"LOO-ARM Temperature\", \"LOO-ARM Pressure\",] # \n",
    "var_det = [\"_ta\", \"_slp\"]\n",
    "taylor_metrics = [taylor_metrics_plain, taylor_metrics_arm]\n",
    "\n",
    "for plt_id in range(len(axes)):\n",
    "    \n",
    "    # ta, slp, ta, slp\n",
    "    _ids = list(map(lambda i: i[0], filter(lambda x: var_det[plt_id%2] in x[1] ,enumerate(taylor_metrics_plain.keys()))))\n",
    "    metrics = taylor_metrics[plt_id//2] # plain, plain, arm, arm\n",
    "    \n",
    "    test_std_devs = [list(metrics.values())[i]['norm_std'] for i in _ids]\n",
    "    test_corrs = [list(metrics.values())[i]['corr'] for i in _ids]\n",
    "    labels = [list(metrics.keys())[i].split(\"_\")[0] for i in _ids]\n",
    "    \n",
    "    ax = axes[plt_id]\n",
    "    fig.add_subplot(ax)\n",
    "    # Add Grid\n",
    "    ax.grid()\n",
    "    # Adjust axes\n",
    "    ax.axis[\"top\"].set_axis_direction(\"bottom\")   # \"Angle axis\"\n",
    "    ax.axis[\"top\"].toggle(ticklabels=True, label=True)\n",
    "    ax.axis[\"top\"].major_ticklabels.set_axis_direction(\"top\")\n",
    "    ax.axis[\"top\"].label.set_axis_direction(\"top\")\n",
    "    ax.axis[\"top\"].label.set_text(\"Correlation\")\n",
    "\n",
    "    ax.axis[\"left\"].set_axis_direction(\"bottom\")  # \"X axis\"\n",
    "    ax.axis[\"left\"].label.set_text(\"Standard deviation\")\n",
    "\n",
    "    ax.axis[\"right\"].set_axis_direction(\"top\")    # \"Y-axis\"\n",
    "    ax.axis[\"right\"].toggle(ticklabels=True)\n",
    "    ax.axis[\"right\"].major_ticklabels.set_axis_direction(\"left\")\n",
    "\n",
    "    ax.axis[\"bottom\"].set_visible(False)\n",
    "\n",
    "    # Add Reference Point\n",
    "    polar_ax = ax.get_aux_axes(polar_transform)\n",
    "    polar_ax.plot(0, ref_std, marker=6, color=\"r\", markersize=10, label=\"Ref\")\n",
    "\n",
    "\n",
    "    # Add STD-reference line\n",
    "    std_ref_line_x = np.linspace(0, polar_axis_max)\n",
    "    std_ref_line_y = np.zeros_like(std_ref_line_x) + ref_std\n",
    "    polar_ax.plot(std_ref_line_x, std_ref_line_y, 'k:')\n",
    "\n",
    "    # Add RMSE contour lines\n",
    "    rmse_a, rmse_b = np.meshgrid(np.linspace(std_axis_min, std_axis_max),\n",
    "                                 np.linspace(polar_axis_min, polar_axis_max))\n",
    "    # According to the law of cosine:\n",
    "    rmse_ = np.sqrt(ref_std**2 + rmse_a**2 - 2*ref_std*rmse_a*np.cos(rmse_b))\n",
    "    contour_set = polar_ax.contour(rmse_b, rmse_a, rmse_, levels=4, colors='black', linestyles='--')\n",
    "    plt.clabel(contour_set, inline=1, fontsize=10, colors='black')\n",
    "\n",
    "\n",
    "    # Plot samples\n",
    "    nbr_samples = len(test_std_devs)\n",
    "    colors = plt.matplotlib.cm.jet(np.linspace(0, 1, nbr_samples))\n",
    "    for i in range(nbr_samples):\n",
    "        polar_ax.plot(np.arccos(test_corrs[i]), test_std_devs[i], \n",
    "                      markers[i%4],\n",
    "                      label=labels[i],\n",
    "                      color=colors[i],\n",
    "                      markersize=marker_sizes[i%4]\n",
    "                      )\n",
    "\n",
    "    plt.title(titles[plt_id])\n",
    "    \n",
    "ax1.legend(prop=dict(size='small'), loc='upper right', ncols=1, title=\"ta\",\n",
    "           bbox_to_anchor=(ax1.get_position().x0 - 0.25, ax1.get_position().y0)  # (x, y, width, height)\n",
    "           )\n",
    "ax2.legend(prop=dict(size='small'), loc='upper left', ncols=1, title=\"slp\",\n",
    "           bbox_to_anchor=(ax2.get_position().x0 + 0.5, ax2.get_position().y0))\n",
    "\n",
    "plt.savefig(f\"figures/plain_arm_comparison.png\", \n",
    "            bbox_inches='tight',\n",
    "            pad_inches=0.1,\n",
    "            dpi=400,\n",
    "            )"
   ],
   "metadata": {
    "collapsed": false
   },
   "id": "51f81991a75cdfe2"
  },
  {
   "cell_type": "code",
   "execution_count": null,
   "outputs": [],
   "source": [],
   "metadata": {
    "collapsed": false
   },
   "id": "2b65339d0705fc6"
  },
  {
   "cell_type": "markdown",
   "source": [
    "## Create table for appendix"
   ],
   "metadata": {
    "collapsed": false
   },
   "id": "f6e3d79391ae5120"
  },
  {
   "cell_type": "code",
   "outputs": [],
   "source": [
    "template = r\"\"\"\n",
    "\\begin{table}[ht!]\n",
    "\\centering\n",
    "\\resizebox{0.90\\textwidth}{!}{\n",
    "\\begin{tabular}{|c|cccccc|cccccc|}\n",
    "\\hline\n",
    "        & \\multicolumn{6}{c|}{LOO}                                                                                                                           & \\multicolumn{6}{c|}{LOO-ARM}                                                                                                                       \\\\ \\hline\n",
    "        & \\multicolumn{3}{c|}{Temperature}                                                   & \\multicolumn{3}{c|}{Pressure}                                 & \\multicolumn{3}{c|}{Temperature}                                                   & \\multicolumn{3}{c|}{Pressure}                                 \\\\ \\hline\n",
    "        & \\multicolumn{1}{c|}{SD}  & \\multicolumn{1}{c|}{RMSE}  & \\multicolumn{1}{c|}{Corr}  & \\multicolumn{1}{c|}{SD}  & \\multicolumn{1}{c|}{RMSE}  & Corr  & \\multicolumn{1}{c|}{SD}  & \\multicolumn{1}{c|}{RMSE}  & \\multicolumn{1}{c|}{Corr}  & \\multicolumn{1}{c|}{SD}  & \\multicolumn{1}{c|}{RMSE}  & Corr  \\\\ \\hline\n",
    "<ROWS>\n",
    "\\end{tabular}\n",
    "}\n",
    "\\end{table}\n",
    "\"\"\""
   ],
   "metadata": {
    "collapsed": false
   },
   "id": "351476a8654de7a7",
   "execution_count": null
  },
  {
   "cell_type": "code",
   "outputs": [],
   "source": [
    "repl_row = r\"\"\"STAT-ID & \\multicolumn{1}{c|}{SD1} & \\multicolumn{1}{c|}{RMSE1} & \\multicolumn{1}{c|}{CORR1} & \\multicolumn{1}{c|}{SD2} & \\multicolumn{1}{c|}{RMSE2} & CORR2 & \\multicolumn{1}{c|}{SD3} & \\multicolumn{1}{c|}{RMSE3} & \\multicolumn{1}{c|}{CORR3} & \\multicolumn{1}{c|}{SD4} & \\multicolumn{1}{c|}{RMSE4} & CORR4 \\\\ \\hline\n",
    "\"\"\"\n"
   ],
   "metadata": {
    "collapsed": false
   },
   "id": "99a77d80b4adf0bf",
   "execution_count": null
  },
  {
   "cell_type": "code",
   "outputs": [],
   "source": [],
   "metadata": {
    "collapsed": false
   },
   "id": "5a20653ac1132165",
   "execution_count": null
  },
  {
   "cell_type": "code",
   "outputs": [],
   "source": [
    "all_stations = sorted(list(set([x.split('_')[0] for x in list(taylor_metrics_plain.keys())])))\n",
    "len(all_stations)"
   ],
   "metadata": {
    "collapsed": false
   },
   "id": "825e32d9e95a4aa",
   "execution_count": null
  },
  {
   "cell_type": "code",
   "outputs": [],
   "source": [
    "\"\"\"\n",
    "STAT-ID     -> Station Name\n",
    "SD1         LOO, temp\n",
    "RMSE1       LOO, temp\n",
    "CORR1       LOO, temp\n",
    "SD2         LOO, pres\n",
    "RMSE2       LOO, pres\n",
    "CORR2       LOO, pres\n",
    "SD3         arm, temp\n",
    "RMSE3       arm, temp\n",
    "CORR3       arm, temp\n",
    "SD4         arm, pres\n",
    "RMSE4       arm, pres\n",
    "CORR4       arm, pres\n",
    "\"\"\"\n",
    "######################\n",
    "\n",
    "rows = r\"\"\n",
    "for stat in all_stations:\n",
    "    row = repl_row\n",
    "    id_already_replaced = False\n",
    "    if stat + \"_ta\" in taylor_metrics_plain.keys():\n",
    "        row = row.replace(\"STAT-ID\", stat)\n",
    "        id_already_replaced = True\n",
    "        row = row.replace(\"SD1\", str(round(taylor_metrics_plain[stat+\"_ta\"]['norm_std'],3 )))\n",
    "        row = row.replace(\"RMSE1\", str(round(taylor_metrics_plain[stat+\"_ta\"]['norm_rmse'],3 )))\n",
    "        row = row.replace(\"CORR1\", str(round(taylor_metrics_plain[stat+\"_ta\"]['corr'],3 )))\n",
    "        \n",
    "        row = row.replace(\"SD3\", str(round(taylor_metrics_arm[stat+\"_ta\"]['norm_std'],3 )))\n",
    "        row = row.replace(\"RMSE3\", str(round(taylor_metrics_arm[stat+\"_ta\"]['norm_rmse'],3 )))\n",
    "        row = row.replace(\"CORR3\", str(round(taylor_metrics_arm[stat+\"_ta\"]['corr'],3 )))\n",
    "    else:\n",
    "        # SET EMPTY\n",
    "        row = row.replace(\"SD1\", \"\")\n",
    "        row = row.replace(\"RMSE1\", \"\")\n",
    "        row = row.replace(\"CORR1\", \"\")\n",
    "        row = row.replace(\"SD3\", \"\")\n",
    "        row = row.replace(\"RMSE3\", \"\")\n",
    "        row = row.replace(\"CORR3\", \"\")\n",
    "        \n",
    "        pass\n",
    "    if stat + \"_slp\" in taylor_metrics_plain.keys():\n",
    "        if not id_already_replaced:\n",
    "            row = row.replace(\"STAT-ID\", stat)\n",
    "        row = row.replace(\"SD2\", str(round(taylor_metrics_plain[stat+\"_slp\"]['norm_std'],3 )))\n",
    "        row = row.replace(\"RMSE2\", str(round(taylor_metrics_plain[stat+\"_slp\"]['norm_rmse'],3 )))\n",
    "        row = row.replace(\"CORR2\", str(round(taylor_metrics_plain[stat+\"_slp\"]['corr'],3 )))\n",
    "        \n",
    "        row = row.replace(\"SD4\", str(round(taylor_metrics_arm[stat+\"_slp\"]['norm_std'],3 )))\n",
    "        row = row.replace(\"RMSE4\", str(round(taylor_metrics_arm[stat+\"_slp\"]['norm_rmse'],3 )))\n",
    "        row = row.replace(\"CORR4\", str(round(taylor_metrics_arm[stat+\"_slp\"]['corr'],3 )))\n",
    "    else:\n",
    "        # SET EMPTY\n",
    "        row = row.replace(\"SD2\", \"\")\n",
    "        row = row.replace(\"RMSE2\", \"\")\n",
    "        row = row.replace(\"CORR2\", \"\")\n",
    "        row = row.replace(\"SD4\", \"\")\n",
    "        row = row.replace(\"RMSE4\", \"\")\n",
    "        row = row.replace(\"CORR4\", \"\")\n",
    "        \n",
    "    rows += row"
   ],
   "metadata": {
    "collapsed": false
   },
   "id": "50bb3cd103dea2e3",
   "execution_count": null
  },
  {
   "cell_type": "code",
   "outputs": [],
   "source": [],
   "metadata": {
    "collapsed": false
   },
   "id": "b85c113f1f191727",
   "execution_count": null
  },
  {
   "cell_type": "code",
   "outputs": [],
   "source": [
    "table = template.replace(\"<ROWS>\", rows)\n",
    "print(table)"
   ],
   "metadata": {
    "collapsed": false
   },
   "id": "6caed2008604e92e",
   "execution_count": null
  },
  {
   "cell_type": "code",
   "outputs": [],
   "source": [],
   "metadata": {
    "collapsed": false
   },
   "id": "ade0e06d0c7ff9de"
  }
 ],
 "metadata": {
  "kernelspec": {
   "display_name": "Python 3",
   "language": "python",
   "name": "python3"
  },
  "language_info": {
   "codemirror_mode": {
    "name": "ipython",
    "version": 2
   },
   "file_extension": ".py",
   "mimetype": "text/x-python",
   "name": "python",
   "nbconvert_exporter": "python",
   "pygments_lexer": "ipython2",
   "version": "2.7.6"
  }
 },
 "nbformat": 4,
 "nbformat_minor": 5
}
